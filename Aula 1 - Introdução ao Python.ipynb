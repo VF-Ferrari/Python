{
 "cells": [
  {
   "cell_type": "markdown",
   "id": "ffee906f",
   "metadata": {},
   "source": [
    "# MCSC1 - Curso de Métodos Computacionais em Sistemas Complexos I\n",
    "\n",
    "- *Périodo de aulas:* 06/08 a 21/12 ($\\approx20$ aulas)\n",
    "- *Local:* G68 - Sala 11\n",
    "- *Horário:* às quartas-feiras de 13:30 a 17:00\n",
    "- *Forma de avaliação:* a definir\n",
    "- Livro texto: José Unpingco, *Python for Probability, Statistics, and Machine Learning*, Springer (2016)."
   ]
  },
  {
   "cell_type": "markdown",
   "id": "0a61b680",
   "metadata": {},
   "source": [
    "## Sumário\n",
    "\n",
    "1. Introdução ao Python Científico\n",
    "2. Probabilidade\n",
    "3. Estatística\n",
    "4. Machine Learning"
   ]
  },
  {
   "cell_type": "markdown",
   "id": "7679bd67",
   "metadata": {},
   "source": [
    "# 01 - Introdução ao Python Científico"
   ]
  },
  {
   "cell_type": "markdown",
   "id": "7242d4bc",
   "metadata": {},
   "source": [
    "## Python\n",
    "\n",
    ">**Python é uma linguagem interpretada.** Isso significa que os códigos Python são executados em uma máquina virtual Python que fornece uma camada de abstração entre o código e a plataforma em que é executado, tornando os códigos portáteis em diferentes plataformas. Por exemplo, o mesmo script executado em um laptop Windows também pode ser executado em um supercomputador baseado em Linux ou em um telefone celular. Isso torna a programação mais fácil, porque a máquina virtual lida com os detalhes de baixo nível da implementação da lógica de negócios do script na plataforma subjacente."
   ]
  },
  {
   "cell_type": "markdown",
   "id": "53ba0d1b",
   "metadata": {},
   "source": [
    "## A linguagem Python\n",
    "\n",
    "> Python é uma **linguagem de programação**, assim como C, Fortran, BASIC, PHP,\n",
    "  etc. Alguns recursos específicos do Python são os seguintes:\n",
    "\n",
    "> * Uma linguagem *interpretada* (em oposição a *compilada*). Ao contrário de e.\n",
    "    C ou Fortran, não se compila o código Python antes de executá-lo. Dentro\n",
    "    Além disso, o Python pode ser usado **interativamente**: muitos Python\n",
    "    intérpretes estão disponíveis, a partir dos quais comandos e scripts podem ser\n",
    "    executado.\n",
    "\n",
    "> * Um software livre lançado sob uma licença de **código aberto**: Python pode\n",
    "    ser usado e distribuído gratuitamente, mesmo para a construção de edifícios comerciais\n",
    "    Programas.\n",
    "\n",
    "> * **Multiplataforma**: Python está disponível para todas as principais\n",
    "    sistemas, Windows, Linux/Unix, MacOS X, provavelmente seu celular\n",
    "    SO, etc\n",
    "\n",
    "> * Uma linguagem muito legível com sintaxe não verbal clara\n",
    "\n",
    "> * um idioma para o qual uma **grande variedade de pacotes de alta qualidade são\n",
    "    disponível para várias aplicações, desde frameworks web até aplicações científicas\n",
    "    Informática.**\n",
    "\n",
    "> * Uma linguagem muito fácil de interagir com outras linguagens, em particular C\n",
    "    e C++.\n",
    "\n",
    "> * Algumas outras características da linguagem são ilustradas logo abaixo. Por\n",
    "    exemplo, Python é uma linguagem orientada a objetos, com tipagem dinâmica\n",
    "    (a mesma variável pode conter objetos de tipos diferentes durante o\n",
    "    curso de um programa)."
   ]
  },
  {
   "cell_type": "code",
   "execution_count": 6,
   "id": "71cf09ec",
   "metadata": {},
   "outputs": [
    {
     "name": "stdout",
     "output_type": "stream",
     "text": [
      "Hello, world!\n"
     ]
    }
   ],
   "source": [
    "#python 3\n",
    "\n",
    "print(\"Hello, world!\")"
   ]
  },
  {
   "cell_type": "code",
   "execution_count": 7,
   "id": "38d0f6bf",
   "metadata": {},
   "outputs": [
    {
     "data": {
      "text/plain": [
       "'Esse curso refere-se ao ano letivo de 2019'"
      ]
     },
     "execution_count": 7,
     "metadata": {},
     "output_type": "execute_result"
    }
   ],
   "source": [
    "#Uma nova característica do python 3.6\n",
    "#f-strings\n",
    "ano = 2019\n",
    "f'Esse curso refere-se ao ano letivo de {ano}'"
   ]
  },
  {
   "cell_type": "markdown",
   "id": "5bed9606",
   "metadata": {},
   "source": [
    "## Instalando um Ambiente de Trabalho\n",
    "\n",
    "> O Python vem em vários tipos e há muitas maneiras de instalá-lo. No entanto, **recomendamos instalar uma distribuição de computação científica**, que vem prontamente com versões otimizadas de módulos científicos.\n",
    "\n",
    "**No Linux**\n",
    "Se você tiver uma distribuição recente, a maioria das ferramentas provavelmente está empacotada e é recomendável usar seu gerenciador de pacotes.\n",
    "\n",
    "**Outros sistemas**\n",
    "Existem várias distribuições do Scientific Python com todos os recursos:\n",
    "\n",
    "- [Anaconda](https://www.continuum.io/downloads)\n",
    "- [EPD](https://store.enthought.com/downloads/)"
   ]
  },
  {
   "cell_type": "markdown",
   "id": "a94478bf",
   "metadata": {},
   "source": [
    "## Operações Básicas (Matemática Básica)"
   ]
  },
  {
   "cell_type": "code",
   "execution_count": 10,
   "id": "1e58ffe8",
   "metadata": {},
   "outputs": [],
   "source": [
    "a = 3\n",
    "b = 2*1"
   ]
  },
  {
   "cell_type": "code",
   "execution_count": 11,
   "id": "2d9080df",
   "metadata": {},
   "outputs": [
    {
     "data": {
      "text/plain": [
       "3"
      ]
     },
     "execution_count": 11,
     "metadata": {},
     "output_type": "execute_result"
    }
   ],
   "source": [
    "a"
   ]
  },
  {
   "cell_type": "code",
   "execution_count": 12,
   "id": "88955e74",
   "metadata": {},
   "outputs": [
    {
     "data": {
      "text/plain": [
       "int"
      ]
     },
     "execution_count": 12,
     "metadata": {},
     "output_type": "execute_result"
    }
   ],
   "source": [
    "type(b)"
   ]
  },
  {
   "cell_type": "code",
   "execution_count": 13,
   "id": "7eef161a",
   "metadata": {},
   "outputs": [
    {
     "name": "stdout",
     "output_type": "stream",
     "text": [
      "2\n"
     ]
    }
   ],
   "source": [
    "print(b)"
   ]
  },
  {
   "cell_type": "code",
   "execution_count": 14,
   "id": "dc392589",
   "metadata": {},
   "outputs": [
    {
     "data": {
      "text/plain": [
       "50"
      ]
     },
     "execution_count": 14,
     "metadata": {},
     "output_type": "execute_result"
    }
   ],
   "source": [
    "b*25"
   ]
  },
  {
   "cell_type": "code",
   "execution_count": 15,
   "id": "63cc5d38",
   "metadata": {},
   "outputs": [
    {
     "data": {
      "text/plain": [
       "6"
      ]
     },
     "execution_count": 15,
     "metadata": {},
     "output_type": "execute_result"
    }
   ],
   "source": [
    "a*b"
   ]
  },
  {
   "cell_type": "code",
   "execution_count": 16,
   "id": "4a7c4b8b",
   "metadata": {},
   "outputs": [
    {
     "data": {
      "text/plain": [
       "str"
      ]
     },
     "execution_count": 16,
     "metadata": {},
     "output_type": "execute_result"
    }
   ],
   "source": [
    "b = 'hello'\n",
    "type(b)"
   ]
  },
  {
   "cell_type": "code",
   "execution_count": 17,
   "id": "dd66cefc",
   "metadata": {},
   "outputs": [
    {
     "data": {
      "text/plain": [
       "'hellohello'"
      ]
     },
     "execution_count": 17,
     "metadata": {},
     "output_type": "execute_result"
    }
   ],
   "source": [
    "b + b"
   ]
  },
  {
   "cell_type": "code",
   "execution_count": 18,
   "id": "5b3d8878",
   "metadata": {},
   "outputs": [
    {
     "data": {
      "text/plain": [
       "'hellohellohellohellohellohellohello'"
      ]
     },
     "execution_count": 18,
     "metadata": {},
     "output_type": "execute_result"
    }
   ],
   "source": [
    "7*b"
   ]
  },
  {
   "cell_type": "markdown",
   "id": "85cb3177",
   "metadata": {},
   "source": [
    ">Duas variáveis ​​``a`` e ``b`` foram definidas acima. Observe que um faz\n",
    "  não declare o tipo de uma variável antes de atribuir seu valor. Em C,\n",
    "  inversamente, deve-se escrever:\n",
    "\n",
    "```C\n",
    " int a = 3;\n",
    "```\n",
    "> Além disso, o tipo de uma variável pode mudar, no sentido de que em\n",
    "  um ponto no tempo pode ser igual a um valor de um certo tipo, e um\n",
    "  segundo ponto no tempo, pode ser igual a um valor de um diferente\n",
    "  modelo. `b` foi primeiro igual a um número inteiro, mas tornou-se igual a um\n",
    "  string quando foi atribuído o valor `'hello'`. Operações em\n",
    "  inteiros (``b=2*a``) são codificados nativamente em Python, assim como alguns\n",
    "  operações em strings, como adições e multiplicações, que\n",
    "  equivalem respectivamente a concatenação e repetição."
   ]
  },
  {
   "cell_type": "markdown",
   "id": "e520dcac",
   "metadata": {},
   "source": [
    "## Tipos de Váriaveis Numéricas"
   ]
  },
  {
   "cell_type": "code",
   "execution_count": 19,
   "id": "9ba7ef1e",
   "metadata": {},
   "outputs": [
    {
     "data": {
      "text/plain": [
       "int"
      ]
     },
     "execution_count": 19,
     "metadata": {},
     "output_type": "execute_result"
    }
   ],
   "source": [
    "# Integer\n",
    "a = 4\n",
    "type(a)"
   ]
  },
  {
   "cell_type": "code",
   "execution_count": 20,
   "id": "40dbdb6e",
   "metadata": {},
   "outputs": [
    {
     "data": {
      "text/plain": [
       "float"
      ]
     },
     "execution_count": 20,
     "metadata": {},
     "output_type": "execute_result"
    }
   ],
   "source": [
    "# Floats\n",
    "b = 2.1\n",
    "type(b)"
   ]
  },
  {
   "cell_type": "code",
   "execution_count": 21,
   "id": "93905b59",
   "metadata": {},
   "outputs": [
    {
     "data": {
      "text/plain": [
       "complex"
      ]
     },
     "execution_count": 21,
     "metadata": {},
     "output_type": "execute_result"
    }
   ],
   "source": [
    "# Complex\n",
    "c = 1.5 + 0.5j\n",
    "type(c)"
   ]
  },
  {
   "cell_type": "code",
   "execution_count": 22,
   "id": "5323dc5d",
   "metadata": {},
   "outputs": [
    {
     "data": {
      "text/plain": [
       "0.5"
      ]
     },
     "execution_count": 22,
     "metadata": {},
     "output_type": "execute_result"
    }
   ],
   "source": [
    "c.imag"
   ]
  },
  {
   "cell_type": "code",
   "execution_count": 23,
   "id": "085dae19",
   "metadata": {},
   "outputs": [
    {
     "data": {
      "text/plain": [
       "'parte real: 1.5 | parte imaginária: 0.5'"
      ]
     },
     "execution_count": 23,
     "metadata": {},
     "output_type": "execute_result"
    }
   ],
   "source": [
    "f\"parte real: {c.real} | parte imaginária: {c.imag}\""
   ]
  },
  {
   "cell_type": "code",
   "execution_count": 24,
   "id": "0c23f959",
   "metadata": {},
   "outputs": [
    {
     "data": {
      "text/plain": [
       "bool"
      ]
     },
     "execution_count": 24,
     "metadata": {},
     "output_type": "execute_result"
    }
   ],
   "source": [
    "# Booleans\n",
    "\n",
    "test = 3 > 4\n",
    "type(test)"
   ]
  },
  {
   "cell_type": "code",
   "execution_count": 25,
   "id": "627040c1",
   "metadata": {},
   "outputs": [
    {
     "data": {
      "text/plain": [
       "False"
      ]
     },
     "execution_count": 25,
     "metadata": {},
     "output_type": "execute_result"
    }
   ],
   "source": [
    "test"
   ]
  },
  {
   "cell_type": "code",
   "execution_count": 26,
   "id": "030aa08e",
   "metadata": {},
   "outputs": [
    {
     "data": {
      "text/plain": [
       "True"
      ]
     },
     "execution_count": 26,
     "metadata": {},
     "output_type": "execute_result"
    }
   ],
   "source": [
    "test==0"
   ]
  },
  {
   "cell_type": "code",
   "execution_count": 27,
   "id": "e1a9ad11",
   "metadata": {},
   "outputs": [
    {
     "data": {
      "text/plain": [
       "False"
      ]
     },
     "execution_count": 27,
     "metadata": {},
     "output_type": "execute_result"
    }
   ],
   "source": [
    "test==1"
   ]
  },
  {
   "cell_type": "code",
   "execution_count": 28,
   "id": "9eab861e",
   "metadata": {},
   "outputs": [],
   "source": [
    "?print"
   ]
  },
  {
   "cell_type": "markdown",
   "id": "05357a1a",
   "metadata": {},
   "source": [
    "## Operadores\n",
    "\n",
    "**Operações aritméticas básicas `+, -, *, /, **, %` (módulo) implementadas nativamente**"
   ]
  },
  {
   "cell_type": "code",
   "execution_count": 29,
   "id": "c46d2804",
   "metadata": {},
   "outputs": [
    {
     "data": {
      "text/plain": [
       "63"
      ]
     },
     "execution_count": 29,
     "metadata": {},
     "output_type": "execute_result"
    }
   ],
   "source": [
    "7*9"
   ]
  },
  {
   "cell_type": "code",
   "execution_count": 30,
   "id": "08be5cfe",
   "metadata": {},
   "outputs": [
    {
     "data": {
      "text/plain": [
       "1024"
      ]
     },
     "execution_count": 30,
     "metadata": {},
     "output_type": "execute_result"
    }
   ],
   "source": [
    "2**10"
   ]
  },
  {
   "cell_type": "code",
   "execution_count": 31,
   "id": "6d3dafeb",
   "metadata": {},
   "outputs": [
    {
     "data": {
      "text/plain": [
       "2"
      ]
     },
     "execution_count": 31,
     "metadata": {},
     "output_type": "execute_result"
    }
   ],
   "source": [
    "8%3"
   ]
  },
  {
   "cell_type": "code",
   "execution_count": 32,
   "id": "37029332",
   "metadata": {},
   "outputs": [
    {
     "data": {
      "text/plain": [
       "'nome1000.dat'"
      ]
     },
     "execution_count": 32,
     "metadata": {},
     "output_type": "execute_result"
    }
   ],
   "source": [
    "'nome'+str(1000) +'.dat'"
   ]
  },
  {
   "cell_type": "code",
   "execution_count": 34,
   "id": "df8ff763",
   "metadata": {},
   "outputs": [
    {
     "data": {
      "text/plain": [
       "1.0"
      ]
     },
     "execution_count": 34,
     "metadata": {},
     "output_type": "execute_result"
    }
   ],
   "source": [
    "#Conversão de tipo (casting):\n",
    "float(1)"
   ]
  },
  {
   "cell_type": "markdown",
   "id": "a3de6fd7",
   "metadata": {},
   "source": [
    "\n",
    "**O comportamento do operador de divisão mudou no Python 3.**\n",
    "\n",
    "Em Python 2.x\n",
    "\n",
    "```python\n",
    ">>> 3/2\n",
    "1\n",
    "```"
   ]
  },
  {
   "cell_type": "code",
   "execution_count": 36,
   "id": "7e637fa4",
   "metadata": {},
   "outputs": [
    {
     "data": {
      "text/plain": [
       "1.5"
      ]
     },
     "execution_count": 36,
     "metadata": {},
     "output_type": "execute_result"
    }
   ],
   "source": [
    "# No Python 3\n",
    "3/2"
   ]
  },
  {
   "cell_type": "code",
   "execution_count": 37,
   "id": "618b5e38",
   "metadata": {},
   "outputs": [
    {
     "data": {
      "text/plain": [
       "1.5"
      ]
     },
     "execution_count": 37,
     "metadata": {},
     "output_type": "execute_result"
    }
   ],
   "source": [
    "a=3\n",
    "b=2\n",
    "a/float(b)"
   ]
  },
  {
   "cell_type": "code",
   "execution_count": 38,
   "id": "ccad3f25",
   "metadata": {},
   "outputs": [
    {
     "data": {
      "text/plain": [
       "1.0"
      ]
     },
     "execution_count": 38,
     "metadata": {},
     "output_type": "execute_result"
    }
   ],
   "source": [
    "3.0//2.0"
   ]
  },
  {
   "cell_type": "markdown",
   "id": "93fc2553",
   "metadata": {},
   "source": [
    "## Containers\n",
    "\n",
    "O Python fornece muitos tipos eficientes de containers, nos quais coleções de objetos podem ser armazenadas.\n",
    "\n",
    "### Listas"
   ]
  },
  {
   "cell_type": "code",
   "execution_count": 40,
   "id": "730425ba",
   "metadata": {},
   "outputs": [
    {
     "data": {
      "text/plain": [
       "list"
      ]
     },
     "execution_count": 40,
     "metadata": {},
     "output_type": "execute_result"
    }
   ],
   "source": [
    "colors = ['red', 'blue', 'green', 'black', 'white']\n",
    "type(colors)"
   ]
  },
  {
   "cell_type": "markdown",
   "id": "bebbce28",
   "metadata": {},
   "source": [
    "Indexação: acessando objetos individuais contidos na lista:"
   ]
  },
  {
   "cell_type": "code",
   "execution_count": 41,
   "id": "1107f16a",
   "metadata": {},
   "outputs": [
    {
     "data": {
      "text/plain": [
       "'red'"
      ]
     },
     "execution_count": 41,
     "metadata": {},
     "output_type": "execute_result"
    }
   ],
   "source": [
    "colors[0]"
   ]
  },
  {
   "cell_type": "code",
   "execution_count": 42,
   "id": "6d5060fc",
   "metadata": {},
   "outputs": [
    {
     "data": {
      "text/plain": [
       "'red'"
      ]
     },
     "execution_count": 42,
     "metadata": {},
     "output_type": "execute_result"
    }
   ],
   "source": [
    "colors[-0]"
   ]
  },
  {
   "cell_type": "code",
   "execution_count": 46,
   "id": "b0bcc38a",
   "metadata": {},
   "outputs": [
    {
     "data": {
      "text/plain": [
       "'green'"
      ]
     },
     "execution_count": 46,
     "metadata": {},
     "output_type": "execute_result"
    }
   ],
   "source": [
    "colors[2]"
   ]
  },
  {
   "cell_type": "markdown",
   "id": "bd01e467",
   "metadata": {},
   "source": [
    "### A indexação começa em 0 (como em C), não em 1 (como em Fortran ou Matlab)!"
   ]
  },
  {
   "cell_type": "code",
   "execution_count": 47,
   "id": "0e7e1675",
   "metadata": {},
   "outputs": [
    {
     "data": {
      "text/plain": [
       "['green', 'black']"
      ]
     },
     "execution_count": 47,
     "metadata": {},
     "output_type": "execute_result"
    }
   ],
   "source": [
    "colors[2:4]"
   ]
  },
  {
   "cell_type": "code",
   "execution_count": 48,
   "id": "7deff4a2",
   "metadata": {},
   "outputs": [
    {
     "data": {
      "text/plain": [
       "['white', 'black', 'green', 'blue', 'red']"
      ]
     },
     "execution_count": 48,
     "metadata": {},
     "output_type": "execute_result"
    }
   ],
   "source": [
    "colors[::-1]"
   ]
  },
  {
   "cell_type": "code",
   "execution_count": 49,
   "id": "bae70225",
   "metadata": {},
   "outputs": [
    {
     "data": {
      "text/plain": [
       "['black', 'white']"
      ]
     },
     "execution_count": 49,
     "metadata": {},
     "output_type": "execute_result"
    }
   ],
   "source": [
    "colors[3:]"
   ]
  },
  {
   "cell_type": "code",
   "execution_count": 50,
   "id": "e543ee6e",
   "metadata": {},
   "outputs": [
    {
     "data": {
      "text/plain": [
       "['red', 'blue', 'green']"
      ]
     },
     "execution_count": 50,
     "metadata": {},
     "output_type": "execute_result"
    }
   ],
   "source": [
    "colors[:3]"
   ]
  },
  {
   "cell_type": "markdown",
   "id": "b30acac2",
   "metadata": {},
   "source": [
    "### Listas são objetos mutáveis ​​e podem ter tipos diferentes"
   ]
  },
  {
   "cell_type": "code",
   "execution_count": 51,
   "id": "472d2cc7",
   "metadata": {},
   "outputs": [],
   "source": [
    "colors = ['red', 'blue', 'green', 'black', 'white']"
   ]
  },
  {
   "cell_type": "code",
   "execution_count": 52,
   "id": "436cf05e",
   "metadata": {},
   "outputs": [],
   "source": [
    "colors[0] = 'yellow'"
   ]
  },
  {
   "cell_type": "code",
   "execution_count": 53,
   "id": "5039f68b",
   "metadata": {},
   "outputs": [
    {
     "data": {
      "text/plain": [
       "['yellow', 'blue', 'green', 'black', 'white']"
      ]
     },
     "execution_count": 53,
     "metadata": {},
     "output_type": "execute_result"
    }
   ],
   "source": [
    "colors"
   ]
  },
  {
   "cell_type": "code",
   "execution_count": 54,
   "id": "27435c0b",
   "metadata": {},
   "outputs": [],
   "source": [
    "colors[2:4] = ['gray', 'purple']"
   ]
  },
  {
   "cell_type": "code",
   "execution_count": 55,
   "id": "c778b650",
   "metadata": {},
   "outputs": [
    {
     "data": {
      "text/plain": [
       "['yellow', 'blue', 'gray', 'purple', 'white']"
      ]
     },
     "execution_count": 55,
     "metadata": {},
     "output_type": "execute_result"
    }
   ],
   "source": [
    "colors"
   ]
  },
  {
   "cell_type": "code",
   "execution_count": 59,
   "id": "c635b474",
   "metadata": {},
   "outputs": [],
   "source": [
    "#Se você quiser incluir o Ciano\n",
    "colors[2:4] = ['gray', 'purple', 'cyan']"
   ]
  },
  {
   "cell_type": "code",
   "execution_count": 60,
   "id": "ea99b233",
   "metadata": {},
   "outputs": [
    {
     "data": {
      "text/plain": [
       "['yellow', 'blue', 'gray', 'purple', 'cyan', 'cyan', 'cyan', 'white']"
      ]
     },
     "execution_count": 60,
     "metadata": {},
     "output_type": "execute_result"
    }
   ],
   "source": [
    "colors"
   ]
  },
  {
   "cell_type": "code",
   "execution_count": 61,
   "id": "c70c74cf",
   "metadata": {},
   "outputs": [
    {
     "data": {
      "text/plain": [
       "[3, -200, 'hello']"
      ]
     },
     "execution_count": 61,
     "metadata": {},
     "output_type": "execute_result"
    }
   ],
   "source": [
    "mixedlist = [3, -200, 'hello']\n",
    "mixedlist"
   ]
  },
  {
   "cell_type": "markdown",
   "id": "e1b36ac9",
   "metadata": {},
   "source": [
    "Para coleções de dados numéricos que têm todos o mesmo tipo, geralmente é mais eficiente usar o tipo de matriz fornecido pelo módulo numpy. Uma matriz NumPy é um pedaço de memória contendo itens de tamanho fixo. Com matrizes NumPy, as operações em elementos podem ser mais rápidas porque os elementos são regularmente espaçados na memória e mais operações são executadas por meio de funções C especializadas em vez de loops Python."
   ]
  },
  {
   "cell_type": "code",
   "execution_count": 62,
   "id": "3e788da6",
   "metadata": {},
   "outputs": [
    {
     "data": {
      "text/plain": [
       "['yellow', 'blue', 'gray', 'purple', 'cyan', 'cyan', 'cyan', 'white']"
      ]
     },
     "execution_count": 62,
     "metadata": {},
     "output_type": "execute_result"
    }
   ],
   "source": [
    "colors"
   ]
  },
  {
   "cell_type": "code",
   "execution_count": 63,
   "id": "e92e2a23",
   "metadata": {},
   "outputs": [
    {
     "data": {
      "text/plain": [
       "['red', 'blue', 'green', 'black', 'white', 'pink']"
      ]
     },
     "execution_count": 63,
     "metadata": {},
     "output_type": "execute_result"
    }
   ],
   "source": [
    "colors = ['red', 'blue', 'green', 'black', 'white']\n",
    "colors.append('pink') #add item at the end\n",
    "colors"
   ]
  },
  {
   "cell_type": "code",
   "execution_count": 64,
   "id": "b587d96e",
   "metadata": {},
   "outputs": [
    {
     "data": {
      "text/plain": [
       "'pink'"
      ]
     },
     "execution_count": 64,
     "metadata": {},
     "output_type": "execute_result"
    }
   ],
   "source": [
    "colors.pop() #Remove e retorna o último item"
   ]
  },
  {
   "cell_type": "code",
   "execution_count": 65,
   "id": "042d9eed",
   "metadata": {},
   "outputs": [
    {
     "data": {
      "text/plain": [
       "['red', 'blue', 'green', 'black', 'white']"
      ]
     },
     "execution_count": 65,
     "metadata": {},
     "output_type": "execute_result"
    }
   ],
   "source": [
    "colors"
   ]
  },
  {
   "cell_type": "code",
   "execution_count": 66,
   "id": "73790a68",
   "metadata": {},
   "outputs": [
    {
     "data": {
      "text/plain": [
       "'blue'"
      ]
     },
     "execution_count": 66,
     "metadata": {},
     "output_type": "execute_result"
    }
   ],
   "source": [
    "colors.pop(1) #Remove e retorona o item 1"
   ]
  },
  {
   "cell_type": "code",
   "execution_count": 67,
   "id": "6706030a",
   "metadata": {},
   "outputs": [
    {
     "data": {
      "text/plain": [
       "['red', 'green', 'black', 'white']"
      ]
     },
     "execution_count": 67,
     "metadata": {},
     "output_type": "execute_result"
    }
   ],
   "source": [
    "colors"
   ]
  },
  {
   "cell_type": "code",
   "execution_count": 68,
   "id": "90babc0f",
   "metadata": {},
   "outputs": [
    {
     "data": {
      "text/plain": [
       "['white', 'black', 'green', 'blue', 'red']"
      ]
     },
     "execution_count": 68,
     "metadata": {},
     "output_type": "execute_result"
    }
   ],
   "source": [
    "colors = ['red', 'blue', 'green', 'black', 'white']\n",
    "rcolors = colors[::-1] #reverse\n",
    "rcolors"
   ]
  },
  {
   "cell_type": "code",
   "execution_count": 69,
   "id": "065cd5b8",
   "metadata": {},
   "outputs": [],
   "source": [
    "rcolors.reverse() #Reverso no local"
   ]
  },
  {
   "cell_type": "code",
   "execution_count": 70,
   "id": "882c94fc",
   "metadata": {},
   "outputs": [
    {
     "data": {
      "text/plain": [
       "['red', 'blue', 'green', 'black', 'white']"
      ]
     },
     "execution_count": 70,
     "metadata": {},
     "output_type": "execute_result"
    }
   ],
   "source": [
    "rcolors"
   ]
  },
  {
   "cell_type": "markdown",
   "id": "61170ff0",
   "metadata": {},
   "source": [
    "### Concatenar, repetir e classificar listas"
   ]
  },
  {
   "cell_type": "code",
   "execution_count": 71,
   "id": "b37263b4",
   "metadata": {},
   "outputs": [
    {
     "data": {
      "text/plain": [
       "['red', 'blue', 'green', 'black', 'white']"
      ]
     },
     "execution_count": 71,
     "metadata": {},
     "output_type": "execute_result"
    }
   ],
   "source": [
    "rcolors"
   ]
  },
  {
   "cell_type": "code",
   "execution_count": 72,
   "id": "af3b168d",
   "metadata": {},
   "outputs": [
    {
     "data": {
      "text/plain": [
       "['red', 'blue', 'green', 'black', 'white']"
      ]
     },
     "execution_count": 72,
     "metadata": {},
     "output_type": "execute_result"
    }
   ],
   "source": [
    "colors"
   ]
  },
  {
   "cell_type": "code",
   "execution_count": 73,
   "id": "78a401f0",
   "metadata": {},
   "outputs": [
    {
     "data": {
      "text/plain": [
       "['red',\n",
       " 'blue',\n",
       " 'green',\n",
       " 'black',\n",
       " 'white',\n",
       " 'red',\n",
       " 'blue',\n",
       " 'green',\n",
       " 'black',\n",
       " 'white']"
      ]
     },
     "execution_count": 73,
     "metadata": {},
     "output_type": "execute_result"
    }
   ],
   "source": [
    "rcolors + colors"
   ]
  },
  {
   "cell_type": "code",
   "execution_count": 74,
   "id": "81253f61",
   "metadata": {},
   "outputs": [
    {
     "data": {
      "text/plain": [
       "['red',\n",
       " 'blue',\n",
       " 'green',\n",
       " 'black',\n",
       " 'white',\n",
       " 'red',\n",
       " 'blue',\n",
       " 'green',\n",
       " 'black',\n",
       " 'white',\n",
       " 'red',\n",
       " 'blue',\n",
       " 'green',\n",
       " 'black',\n",
       " 'white']"
      ]
     },
     "execution_count": 74,
     "metadata": {},
     "output_type": "execute_result"
    }
   ],
   "source": [
    "rcolors*3"
   ]
  },
  {
   "cell_type": "code",
   "execution_count": 75,
   "id": "6adc77eb",
   "metadata": {},
   "outputs": [
    {
     "data": {
      "text/plain": [
       "['black', 'blue', 'green', 'red', 'white']"
      ]
     },
     "execution_count": 75,
     "metadata": {},
     "output_type": "execute_result"
    }
   ],
   "source": [
    "sorted(rcolors) #Classifica e retorna uma nova lista"
   ]
  },
  {
   "cell_type": "code",
   "execution_count": 76,
   "id": "46ed6886",
   "metadata": {},
   "outputs": [
    {
     "data": {
      "text/plain": [
       "['red', 'blue', 'green', 'black', 'white']"
      ]
     },
     "execution_count": 76,
     "metadata": {},
     "output_type": "execute_result"
    }
   ],
   "source": [
    "rcolors #A lista não é modificada"
   ]
  },
  {
   "cell_type": "code",
   "execution_count": 77,
   "id": "e53d9f54",
   "metadata": {},
   "outputs": [],
   "source": [
    "rcolors.sort()  #No local"
   ]
  },
  {
   "cell_type": "code",
   "execution_count": 78,
   "id": "16ffd07b",
   "metadata": {},
   "outputs": [
    {
     "data": {
      "text/plain": [
       "['black', 'blue', 'green', 'red', 'white']"
      ]
     },
     "execution_count": 78,
     "metadata": {},
     "output_type": "execute_result"
    }
   ],
   "source": [
    "rcolors #A lista é modificada"
   ]
  },
  {
   "cell_type": "code",
   "execution_count": 79,
   "id": "9741370e",
   "metadata": {},
   "outputs": [
    {
     "data": {
      "text/plain": [
       "['__add__',\n",
       " '__class__',\n",
       " '__contains__',\n",
       " '__delattr__',\n",
       " '__delitem__',\n",
       " '__dir__',\n",
       " '__doc__',\n",
       " '__eq__',\n",
       " '__format__',\n",
       " '__ge__',\n",
       " '__getattribute__',\n",
       " '__getitem__',\n",
       " '__gt__',\n",
       " '__hash__',\n",
       " '__iadd__',\n",
       " '__imul__',\n",
       " '__init__',\n",
       " '__init_subclass__',\n",
       " '__iter__',\n",
       " '__le__',\n",
       " '__len__',\n",
       " '__lt__',\n",
       " '__mul__',\n",
       " '__ne__',\n",
       " '__new__',\n",
       " '__reduce__',\n",
       " '__reduce_ex__',\n",
       " '__repr__',\n",
       " '__reversed__',\n",
       " '__rmul__',\n",
       " '__setattr__',\n",
       " '__setitem__',\n",
       " '__sizeof__',\n",
       " '__str__',\n",
       " '__subclasshook__',\n",
       " 'append',\n",
       " 'clear',\n",
       " 'copy',\n",
       " 'count',\n",
       " 'extend',\n",
       " 'index',\n",
       " 'insert',\n",
       " 'pop',\n",
       " 'remove',\n",
       " 'reverse',\n",
       " 'sort']"
      ]
     },
     "execution_count": 79,
     "metadata": {},
     "output_type": "execute_result"
    }
   ],
   "source": [
    "#Existem vários métodos\n",
    "dir(rcolors)"
   ]
  },
  {
   "cell_type": "markdown",
   "id": "08b16162",
   "metadata": {},
   "source": [
    "### Strings"
   ]
  },
  {
   "cell_type": "markdown",
   "id": "0486cd79",
   "metadata": {},
   "source": [
    "Diferentes sintaxes de string (aspas simples, duplas ou triplas):"
   ]
  },
  {
   "cell_type": "code",
   "execution_count": 81,
   "id": "694c2386",
   "metadata": {},
   "outputs": [],
   "source": [
    "s = 'Hello, how are you?'\n",
    "\n",
    "s = \"Hi, what's up\"\n",
    "\n",
    "s = '''Hello,\n",
    "       how are you''' #Triplicar as aspas permite que a string ocupe mais de uma linha\n",
    "\n",
    "s = \"\"\"Hi,\n",
    "       what's up?\"\"\""
   ]
  },
  {
   "cell_type": "code",
   "execution_count": 82,
   "id": "1b494f03",
   "metadata": {},
   "outputs": [
    {
     "ename": "SyntaxError",
     "evalue": "invalid syntax (<ipython-input-82-90c3e53da522>, line 1)",
     "output_type": "error",
     "traceback": [
      "\u001b[1;36m  File \u001b[1;32m\"<ipython-input-82-90c3e53da522>\"\u001b[1;36m, line \u001b[1;32m1\u001b[0m\n\u001b[1;33m    'Hi, what's up?'\u001b[0m\n\u001b[1;37m              ^\u001b[0m\n\u001b[1;31mSyntaxError\u001b[0m\u001b[1;31m:\u001b[0m invalid syntax\n"
     ]
    }
   ],
   "source": [
    "'Hi, what's up?'"
   ]
  },
  {
   "cell_type": "code",
   "execution_count": 83,
   "id": "52942450",
   "metadata": {},
   "outputs": [
    {
     "data": {
      "text/plain": [
       "\"Hi, what's up?\""
      ]
     },
     "execution_count": 83,
     "metadata": {},
     "output_type": "execute_result"
    }
   ],
   "source": [
    "'Hi, what\\'s up?' #Pode ser solucionado com barra invertida"
   ]
  },
  {
   "cell_type": "markdown",
   "id": "b74b7ac6",
   "metadata": {},
   "source": [
    "Outros usos da barra invertida são, por exemplo, o caractere de nova linha \\n e o caractere de tabulação \\t."
   ]
  },
  {
   "cell_type": "code",
   "execution_count": 84,
   "id": "5eaa45cd",
   "metadata": {},
   "outputs": [
    {
     "data": {
      "text/plain": [
       "\"Hi, what's up?\""
      ]
     },
     "execution_count": 84,
     "metadata": {},
     "output_type": "execute_result"
    }
   ],
   "source": [
    "\"Hi, what's up?\""
   ]
  },
  {
   "cell_type": "code",
   "execution_count": 85,
   "id": "66d6abda",
   "metadata": {},
   "outputs": [
    {
     "data": {
      "text/plain": [
       "'\"test\"'"
      ]
     },
     "execution_count": 85,
     "metadata": {},
     "output_type": "execute_result"
    }
   ],
   "source": [
    "'\"test\"'"
   ]
  },
  {
   "cell_type": "markdown",
   "id": "dbed7a27",
   "metadata": {},
   "source": [
    "Strings são coleções como listas. Portanto, eles podem ser indexados e segmentados, usando a mesma sintaxe e regras."
   ]
  },
  {
   "cell_type": "code",
   "execution_count": 86,
   "id": "0609ae86",
   "metadata": {},
   "outputs": [],
   "source": [
    "a = \"hello\""
   ]
  },
  {
   "cell_type": "code",
   "execution_count": 87,
   "id": "9b4c0a5e",
   "metadata": {},
   "outputs": [
    {
     "data": {
      "text/plain": [
       "'h'"
      ]
     },
     "execution_count": 87,
     "metadata": {},
     "output_type": "execute_result"
    }
   ],
   "source": [
    "a[0]"
   ]
  },
  {
   "cell_type": "code",
   "execution_count": 88,
   "id": "ab10edc2",
   "metadata": {},
   "outputs": [
    {
     "data": {
      "text/plain": [
       "'o'"
      ]
     },
     "execution_count": 88,
     "metadata": {},
     "output_type": "execute_result"
    }
   ],
   "source": [
    "a[-1]"
   ]
  },
  {
   "cell_type": "code",
   "execution_count": 89,
   "id": "f8460189",
   "metadata": {},
   "outputs": [
    {
     "data": {
      "text/plain": [
       "'lo,'"
      ]
     },
     "execution_count": 89,
     "metadata": {},
     "output_type": "execute_result"
    }
   ],
   "source": [
    "a = \"hello, world!\"\n",
    "a[3:6]"
   ]
  },
  {
   "cell_type": "code",
   "execution_count": 90,
   "id": "621ca822",
   "metadata": {},
   "outputs": [
    {
     "data": {
      "text/plain": [
       "'lo o'"
      ]
     },
     "execution_count": 90,
     "metadata": {},
     "output_type": "execute_result"
    }
   ],
   "source": [
    "a[2:10:2]"
   ]
  },
  {
   "cell_type": "code",
   "execution_count": 91,
   "id": "56115b18",
   "metadata": {},
   "outputs": [
    {
     "data": {
      "text/plain": [
       "'hl r!'"
      ]
     },
     "execution_count": 91,
     "metadata": {},
     "output_type": "execute_result"
    }
   ],
   "source": [
    "a[::3]"
   ]
  },
  {
   "cell_type": "markdown",
   "id": "e035763d",
   "metadata": {},
   "source": [
    "Acentos e caracteres especiais também podem ser manipulados em strings Unicode."
   ]
  },
  {
   "cell_type": "code",
   "execution_count": 92,
   "id": "b50b9852",
   "metadata": {},
   "outputs": [
    {
     "data": {
      "text/plain": [
       "'hello, world!'"
      ]
     },
     "execution_count": 92,
     "metadata": {},
     "output_type": "execute_result"
    }
   ],
   "source": [
    "a"
   ]
  },
  {
   "cell_type": "code",
   "execution_count": 93,
   "id": "654d4e9d",
   "metadata": {},
   "outputs": [],
   "source": [
    "a = \"Maringá\""
   ]
  },
  {
   "cell_type": "code",
   "execution_count": 94,
   "id": "ec637b92",
   "metadata": {},
   "outputs": [
    {
     "data": {
      "text/plain": [
       "b'Maring\\xc3\\xa1'"
      ]
     },
     "execution_count": 94,
     "metadata": {},
     "output_type": "execute_result"
    }
   ],
   "source": [
    "a.encode(encoding='utf8')"
   ]
  },
  {
   "cell_type": "code",
   "execution_count": 95,
   "id": "4dae0852",
   "metadata": {},
   "outputs": [
    {
     "data": {
      "text/plain": [
       "'Maringá'"
      ]
     },
     "execution_count": 95,
     "metadata": {},
     "output_type": "execute_result"
    }
   ],
   "source": [
    "b'Maring\\xc3\\xa1'.decode(\"utf8\")"
   ]
  },
  {
   "cell_type": "code",
   "execution_count": 96,
   "id": "2ca7222e",
   "metadata": {},
   "outputs": [
    {
     "ename": "UnicodeEncodeError",
     "evalue": "'ascii' codec can't encode character '\\xe1' in position 6: ordinal not in range(128)",
     "output_type": "error",
     "traceback": [
      "\u001b[1;31m---------------------------------------------------------------------------\u001b[0m",
      "\u001b[1;31mUnicodeEncodeError\u001b[0m                        Traceback (most recent call last)",
      "\u001b[1;32m<ipython-input-96-9b34c6acb5c4>\u001b[0m in \u001b[0;36m<module>\u001b[1;34m\u001b[0m\n\u001b[1;32m----> 1\u001b[1;33m \u001b[0ma\u001b[0m\u001b[1;33m.\u001b[0m\u001b[0mencode\u001b[0m\u001b[1;33m(\u001b[0m\u001b[1;34m'ascii'\u001b[0m\u001b[1;33m)\u001b[0m\u001b[1;33m\u001b[0m\u001b[1;33m\u001b[0m\u001b[0m\n\u001b[0m",
      "\u001b[1;31mUnicodeEncodeError\u001b[0m: 'ascii' codec can't encode character '\\xe1' in position 6: ordinal not in range(128)"
     ]
    }
   ],
   "source": [
    "a.encode('ascii') "
   ]
  },
  {
   "cell_type": "code",
   "execution_count": 97,
   "id": "6a8993f9",
   "metadata": {},
   "outputs": [
    {
     "data": {
      "text/plain": [
       "b'Maring?'"
      ]
     },
     "execution_count": 97,
     "metadata": {},
     "output_type": "execute_result"
    }
   ],
   "source": [
    "a.encode('ascii','replace') "
   ]
  },
  {
   "cell_type": "code",
   "execution_count": 98,
   "id": "b52aca9c",
   "metadata": {},
   "outputs": [
    {
     "data": {
      "text/plain": [
       "b'Maring'"
      ]
     },
     "execution_count": 98,
     "metadata": {},
     "output_type": "execute_result"
    }
   ],
   "source": [
    "a.encode('ascii','ignore') "
   ]
  },
  {
   "cell_type": "markdown",
   "id": "bf761a65",
   "metadata": {},
   "source": [
    "### Convertendo caracteres estranhos para ASCII"
   ]
  },
  {
   "cell_type": "code",
   "execution_count": 100,
   "id": "23e7e2e7",
   "metadata": {},
   "outputs": [
    {
     "name": "stdout",
     "output_type": "stream",
     "text": [
      "Requirement already satisfied: unidecode in c:\\users\\vitor\\anaconda3\\lib\\site-packages (1.3.6)\n"
     ]
    }
   ],
   "source": [
    "!pip install unidecode"
   ]
  },
  {
   "cell_type": "code",
   "execution_count": 101,
   "id": "e98ae22b",
   "metadata": {},
   "outputs": [],
   "source": [
    "from unidecode import unidecode"
   ]
  },
  {
   "cell_type": "code",
   "execution_count": 102,
   "id": "b3a864f9",
   "metadata": {},
   "outputs": [
    {
     "data": {
      "text/plain": [
       "'Maringa'"
      ]
     },
     "execution_count": 102,
     "metadata": {},
     "output_type": "execute_result"
    }
   ],
   "source": [
    "unidecode(a)"
   ]
  },
  {
   "cell_type": "markdown",
   "id": "660b74c2",
   "metadata": {},
   "source": [
    "**unidecode** é um módulo python para \"transliterações ASCII de texto Unicode\".\n",
    "\n",
    "Para instalar\n",
    "\n",
    "```sh\n",
    "pip instalar unidecode\n",
    "```"
   ]
  },
  {
   "cell_type": "markdown",
   "id": "69785dc2",
   "metadata": {},
   "source": [
    "Uma string é um **objeto imutável** e não é possível modificar seu conteúdo. Pode-se, entretanto, criar novas strings a partir da original."
   ]
  },
  {
   "cell_type": "code",
   "execution_count": 103,
   "id": "2d3e5739",
   "metadata": {},
   "outputs": [
    {
     "ename": "TypeError",
     "evalue": "'str' object does not support item assignment",
     "output_type": "error",
     "traceback": [
      "\u001b[1;31m---------------------------------------------------------------------------\u001b[0m",
      "\u001b[1;31mTypeError\u001b[0m                                 Traceback (most recent call last)",
      "\u001b[1;32m<ipython-input-103-1d1bb05046fe>\u001b[0m in \u001b[0;36m<module>\u001b[1;34m\u001b[0m\n\u001b[0;32m      1\u001b[0m \u001b[0ma\u001b[0m \u001b[1;33m=\u001b[0m \u001b[1;34m\"hello, world!\"\u001b[0m\u001b[1;33m\u001b[0m\u001b[1;33m\u001b[0m\u001b[0m\n\u001b[1;32m----> 2\u001b[1;33m \u001b[0ma\u001b[0m\u001b[1;33m[\u001b[0m\u001b[1;36m2\u001b[0m\u001b[1;33m]\u001b[0m \u001b[1;33m=\u001b[0m \u001b[1;34m'z'\u001b[0m\u001b[1;33m\u001b[0m\u001b[1;33m\u001b[0m\u001b[0m\n\u001b[0m",
      "\u001b[1;31mTypeError\u001b[0m: 'str' object does not support item assignment"
     ]
    }
   ],
   "source": [
    "a = \"hello, world!\"\n",
    "a[2] = 'z'"
   ]
  },
  {
   "cell_type": "code",
   "execution_count": 104,
   "id": "6f9d0558",
   "metadata": {},
   "outputs": [
    {
     "data": {
      "text/plain": [
       "'hezzo, worzd!'"
      ]
     },
     "execution_count": 104,
     "metadata": {},
     "output_type": "execute_result"
    }
   ],
   "source": [
    "a.replace('l','z') #Substitua 'l' por 'z'. 1 é o número de ocorrências a serem substituídas."
   ]
  },
  {
   "cell_type": "code",
   "execution_count": 105,
   "id": "9f126bca",
   "metadata": {},
   "outputs": [
    {
     "data": {
      "text/plain": [
       "'hello, world!'"
      ]
     },
     "execution_count": 105,
     "metadata": {},
     "output_type": "execute_result"
    }
   ],
   "source": [
    "a #Não muda o valor de a"
   ]
  },
  {
   "cell_type": "code",
   "execution_count": 106,
   "id": "e9bf6fda",
   "metadata": {},
   "outputs": [
    {
     "data": {
      "text/plain": [
       "'hezzo, worzd!'"
      ]
     },
     "execution_count": 106,
     "metadata": {},
     "output_type": "execute_result"
    }
   ],
   "source": [
    "a.replace('l','z')"
   ]
  },
  {
   "cell_type": "markdown",
   "id": "10be5ab3",
   "metadata": {},
   "source": [
    "Strings têm vários de métodos"
   ]
  },
  {
   "cell_type": "code",
   "execution_count": 107,
   "id": "3bbb51ab",
   "metadata": {},
   "outputs": [
    {
     "name": "stdout",
     "output_type": "stream",
     "text": [
      "Help on class str in module builtins:\n",
      "\n",
      "class str(object)\n",
      " |  str(object='') -> str\n",
      " |  str(bytes_or_buffer[, encoding[, errors]]) -> str\n",
      " |  \n",
      " |  Create a new string object from the given object. If encoding or\n",
      " |  errors is specified, then the object must expose a data buffer\n",
      " |  that will be decoded using the given encoding and error handler.\n",
      " |  Otherwise, returns the result of object.__str__() (if defined)\n",
      " |  or repr(object).\n",
      " |  encoding defaults to sys.getdefaultencoding().\n",
      " |  errors defaults to 'strict'.\n",
      " |  \n",
      " |  Methods defined here:\n",
      " |  \n",
      " |  __add__(self, value, /)\n",
      " |      Return self+value.\n",
      " |  \n",
      " |  __contains__(self, key, /)\n",
      " |      Return key in self.\n",
      " |  \n",
      " |  __eq__(self, value, /)\n",
      " |      Return self==value.\n",
      " |  \n",
      " |  __format__(self, format_spec, /)\n",
      " |      Return a formatted version of the string as described by format_spec.\n",
      " |  \n",
      " |  __ge__(self, value, /)\n",
      " |      Return self>=value.\n",
      " |  \n",
      " |  __getattribute__(self, name, /)\n",
      " |      Return getattr(self, name).\n",
      " |  \n",
      " |  __getitem__(self, key, /)\n",
      " |      Return self[key].\n",
      " |  \n",
      " |  __getnewargs__(...)\n",
      " |  \n",
      " |  __gt__(self, value, /)\n",
      " |      Return self>value.\n",
      " |  \n",
      " |  __hash__(self, /)\n",
      " |      Return hash(self).\n",
      " |  \n",
      " |  __iter__(self, /)\n",
      " |      Implement iter(self).\n",
      " |  \n",
      " |  __le__(self, value, /)\n",
      " |      Return self<=value.\n",
      " |  \n",
      " |  __len__(self, /)\n",
      " |      Return len(self).\n",
      " |  \n",
      " |  __lt__(self, value, /)\n",
      " |      Return self<value.\n",
      " |  \n",
      " |  __mod__(self, value, /)\n",
      " |      Return self%value.\n",
      " |  \n",
      " |  __mul__(self, value, /)\n",
      " |      Return self*value.\n",
      " |  \n",
      " |  __ne__(self, value, /)\n",
      " |      Return self!=value.\n",
      " |  \n",
      " |  __repr__(self, /)\n",
      " |      Return repr(self).\n",
      " |  \n",
      " |  __rmod__(self, value, /)\n",
      " |      Return value%self.\n",
      " |  \n",
      " |  __rmul__(self, value, /)\n",
      " |      Return value*self.\n",
      " |  \n",
      " |  __sizeof__(self, /)\n",
      " |      Return the size of the string in memory, in bytes.\n",
      " |  \n",
      " |  __str__(self, /)\n",
      " |      Return str(self).\n",
      " |  \n",
      " |  capitalize(self, /)\n",
      " |      Return a capitalized version of the string.\n",
      " |      \n",
      " |      More specifically, make the first character have upper case and the rest lower\n",
      " |      case.\n",
      " |  \n",
      " |  casefold(self, /)\n",
      " |      Return a version of the string suitable for caseless comparisons.\n",
      " |  \n",
      " |  center(self, width, fillchar=' ', /)\n",
      " |      Return a centered string of length width.\n",
      " |      \n",
      " |      Padding is done using the specified fill character (default is a space).\n",
      " |  \n",
      " |  count(...)\n",
      " |      S.count(sub[, start[, end]]) -> int\n",
      " |      \n",
      " |      Return the number of non-overlapping occurrences of substring sub in\n",
      " |      string S[start:end].  Optional arguments start and end are\n",
      " |      interpreted as in slice notation.\n",
      " |  \n",
      " |  encode(self, /, encoding='utf-8', errors='strict')\n",
      " |      Encode the string using the codec registered for encoding.\n",
      " |      \n",
      " |      encoding\n",
      " |        The encoding in which to encode the string.\n",
      " |      errors\n",
      " |        The error handling scheme to use for encoding errors.\n",
      " |        The default is 'strict' meaning that encoding errors raise a\n",
      " |        UnicodeEncodeError.  Other possible values are 'ignore', 'replace' and\n",
      " |        'xmlcharrefreplace' as well as any other name registered with\n",
      " |        codecs.register_error that can handle UnicodeEncodeErrors.\n",
      " |  \n",
      " |  endswith(...)\n",
      " |      S.endswith(suffix[, start[, end]]) -> bool\n",
      " |      \n",
      " |      Return True if S ends with the specified suffix, False otherwise.\n",
      " |      With optional start, test S beginning at that position.\n",
      " |      With optional end, stop comparing S at that position.\n",
      " |      suffix can also be a tuple of strings to try.\n",
      " |  \n",
      " |  expandtabs(self, /, tabsize=8)\n",
      " |      Return a copy where all tab characters are expanded using spaces.\n",
      " |      \n",
      " |      If tabsize is not given, a tab size of 8 characters is assumed.\n",
      " |  \n",
      " |  find(...)\n",
      " |      S.find(sub[, start[, end]]) -> int\n",
      " |      \n",
      " |      Return the lowest index in S where substring sub is found,\n",
      " |      such that sub is contained within S[start:end].  Optional\n",
      " |      arguments start and end are interpreted as in slice notation.\n",
      " |      \n",
      " |      Return -1 on failure.\n",
      " |  \n",
      " |  format(...)\n",
      " |      S.format(*args, **kwargs) -> str\n",
      " |      \n",
      " |      Return a formatted version of S, using substitutions from args and kwargs.\n",
      " |      The substitutions are identified by braces ('{' and '}').\n",
      " |  \n",
      " |  format_map(...)\n",
      " |      S.format_map(mapping) -> str\n",
      " |      \n",
      " |      Return a formatted version of S, using substitutions from mapping.\n",
      " |      The substitutions are identified by braces ('{' and '}').\n",
      " |  \n",
      " |  index(...)\n",
      " |      S.index(sub[, start[, end]]) -> int\n",
      " |      \n",
      " |      Return the lowest index in S where substring sub is found,\n",
      " |      such that sub is contained within S[start:end].  Optional\n",
      " |      arguments start and end are interpreted as in slice notation.\n",
      " |      \n",
      " |      Raises ValueError when the substring is not found.\n",
      " |  \n",
      " |  isalnum(self, /)\n",
      " |      Return True if the string is an alpha-numeric string, False otherwise.\n",
      " |      \n",
      " |      A string is alpha-numeric if all characters in the string are alpha-numeric and\n",
      " |      there is at least one character in the string.\n",
      " |  \n",
      " |  isalpha(self, /)\n",
      " |      Return True if the string is an alphabetic string, False otherwise.\n",
      " |      \n",
      " |      A string is alphabetic if all characters in the string are alphabetic and there\n",
      " |      is at least one character in the string.\n",
      " |  \n",
      " |  isascii(self, /)\n",
      " |      Return True if all characters in the string are ASCII, False otherwise.\n",
      " |      \n",
      " |      ASCII characters have code points in the range U+0000-U+007F.\n",
      " |      Empty string is ASCII too.\n",
      " |  \n",
      " |  isdecimal(self, /)\n",
      " |      Return True if the string is a decimal string, False otherwise.\n",
      " |      \n",
      " |      A string is a decimal string if all characters in the string are decimal and\n",
      " |      there is at least one character in the string.\n",
      " |  \n",
      " |  isdigit(self, /)\n",
      " |      Return True if the string is a digit string, False otherwise.\n",
      " |      \n",
      " |      A string is a digit string if all characters in the string are digits and there\n",
      " |      is at least one character in the string.\n",
      " |  \n",
      " |  isidentifier(self, /)\n",
      " |      Return True if the string is a valid Python identifier, False otherwise.\n",
      " |      \n",
      " |      Call keyword.iskeyword(s) to test whether string s is a reserved identifier,\n",
      " |      such as \"def\" or \"class\".\n",
      " |  \n",
      " |  islower(self, /)\n",
      " |      Return True if the string is a lowercase string, False otherwise.\n",
      " |      \n",
      " |      A string is lowercase if all cased characters in the string are lowercase and\n",
      " |      there is at least one cased character in the string.\n",
      " |  \n",
      " |  isnumeric(self, /)\n",
      " |      Return True if the string is a numeric string, False otherwise.\n",
      " |      \n",
      " |      A string is numeric if all characters in the string are numeric and there is at\n",
      " |      least one character in the string.\n",
      " |  \n",
      " |  isprintable(self, /)\n",
      " |      Return True if the string is printable, False otherwise.\n",
      " |      \n",
      " |      A string is printable if all of its characters are considered printable in\n",
      " |      repr() or if it is empty.\n",
      " |  \n",
      " |  isspace(self, /)\n",
      " |      Return True if the string is a whitespace string, False otherwise.\n",
      " |      \n",
      " |      A string is whitespace if all characters in the string are whitespace and there\n",
      " |      is at least one character in the string.\n",
      " |  \n",
      " |  istitle(self, /)\n",
      " |      Return True if the string is a title-cased string, False otherwise.\n",
      " |      \n",
      " |      In a title-cased string, upper- and title-case characters may only\n",
      " |      follow uncased characters and lowercase characters only cased ones.\n",
      " |  \n",
      " |  isupper(self, /)\n",
      " |      Return True if the string is an uppercase string, False otherwise.\n",
      " |      \n",
      " |      A string is uppercase if all cased characters in the string are uppercase and\n",
      " |      there is at least one cased character in the string.\n",
      " |  \n",
      " |  join(self, iterable, /)\n",
      " |      Concatenate any number of strings.\n",
      " |      \n",
      " |      The string whose method is called is inserted in between each given string.\n",
      " |      The result is returned as a new string.\n",
      " |      \n",
      " |      Example: '.'.join(['ab', 'pq', 'rs']) -> 'ab.pq.rs'\n",
      " |  \n",
      " |  ljust(self, width, fillchar=' ', /)\n",
      " |      Return a left-justified string of length width.\n",
      " |      \n",
      " |      Padding is done using the specified fill character (default is a space).\n",
      " |  \n",
      " |  lower(self, /)\n",
      " |      Return a copy of the string converted to lowercase.\n",
      " |  \n",
      " |  lstrip(self, chars=None, /)\n",
      " |      Return a copy of the string with leading whitespace removed.\n",
      " |      \n",
      " |      If chars is given and not None, remove characters in chars instead.\n",
      " |  \n",
      " |  partition(self, sep, /)\n",
      " |      Partition the string into three parts using the given separator.\n",
      " |      \n",
      " |      This will search for the separator in the string.  If the separator is found,\n",
      " |      returns a 3-tuple containing the part before the separator, the separator\n",
      " |      itself, and the part after it.\n",
      " |      \n",
      " |      If the separator is not found, returns a 3-tuple containing the original string\n",
      " |      and two empty strings.\n",
      " |  \n",
      " |  replace(self, old, new, count=-1, /)\n",
      " |      Return a copy with all occurrences of substring old replaced by new.\n",
      " |      \n",
      " |        count\n",
      " |          Maximum number of occurrences to replace.\n",
      " |          -1 (the default value) means replace all occurrences.\n",
      " |      \n",
      " |      If the optional argument count is given, only the first count occurrences are\n",
      " |      replaced.\n",
      " |  \n",
      " |  rfind(...)\n",
      " |      S.rfind(sub[, start[, end]]) -> int\n",
      " |      \n",
      " |      Return the highest index in S where substring sub is found,\n",
      " |      such that sub is contained within S[start:end].  Optional\n",
      " |      arguments start and end are interpreted as in slice notation.\n",
      " |      \n",
      " |      Return -1 on failure.\n",
      " |  \n",
      " |  rindex(...)\n",
      " |      S.rindex(sub[, start[, end]]) -> int\n",
      " |      \n",
      " |      Return the highest index in S where substring sub is found,\n",
      " |      such that sub is contained within S[start:end].  Optional\n",
      " |      arguments start and end are interpreted as in slice notation.\n",
      " |      \n",
      " |      Raises ValueError when the substring is not found.\n",
      " |  \n",
      " |  rjust(self, width, fillchar=' ', /)\n",
      " |      Return a right-justified string of length width.\n",
      " |      \n",
      " |      Padding is done using the specified fill character (default is a space).\n",
      " |  \n",
      " |  rpartition(self, sep, /)\n",
      " |      Partition the string into three parts using the given separator.\n",
      " |      \n",
      " |      This will search for the separator in the string, starting at the end. If\n",
      " |      the separator is found, returns a 3-tuple containing the part before the\n",
      " |      separator, the separator itself, and the part after it.\n",
      " |      \n",
      " |      If the separator is not found, returns a 3-tuple containing two empty strings\n",
      " |      and the original string.\n",
      " |  \n",
      " |  rsplit(self, /, sep=None, maxsplit=-1)\n",
      " |      Return a list of the words in the string, using sep as the delimiter string.\n",
      " |      \n",
      " |        sep\n",
      " |          The delimiter according which to split the string.\n",
      " |          None (the default value) means split according to any whitespace,\n",
      " |          and discard empty strings from the result.\n",
      " |        maxsplit\n",
      " |          Maximum number of splits to do.\n",
      " |          -1 (the default value) means no limit.\n",
      " |      \n",
      " |      Splits are done starting at the end of the string and working to the front.\n",
      " |  \n",
      " |  rstrip(self, chars=None, /)\n",
      " |      Return a copy of the string with trailing whitespace removed.\n",
      " |      \n",
      " |      If chars is given and not None, remove characters in chars instead.\n",
      " |  \n",
      " |  split(self, /, sep=None, maxsplit=-1)\n",
      " |      Return a list of the words in the string, using sep as the delimiter string.\n",
      " |      \n",
      " |      sep\n",
      " |        The delimiter according which to split the string.\n",
      " |        None (the default value) means split according to any whitespace,\n",
      " |        and discard empty strings from the result.\n",
      " |      maxsplit\n",
      " |        Maximum number of splits to do.\n",
      " |        -1 (the default value) means no limit.\n",
      " |  \n",
      " |  splitlines(self, /, keepends=False)\n",
      " |      Return a list of the lines in the string, breaking at line boundaries.\n",
      " |      \n",
      " |      Line breaks are not included in the resulting list unless keepends is given and\n",
      " |      true.\n",
      " |  \n",
      " |  startswith(...)\n",
      " |      S.startswith(prefix[, start[, end]]) -> bool\n",
      " |      \n",
      " |      Return True if S starts with the specified prefix, False otherwise.\n",
      " |      With optional start, test S beginning at that position.\n",
      " |      With optional end, stop comparing S at that position.\n",
      " |      prefix can also be a tuple of strings to try.\n",
      " |  \n",
      " |  strip(self, chars=None, /)\n",
      " |      Return a copy of the string with leading and trailing whitespace removed.\n",
      " |      \n",
      " |      If chars is given and not None, remove characters in chars instead.\n",
      " |  \n",
      " |  swapcase(self, /)\n",
      " |      Convert uppercase characters to lowercase and lowercase characters to uppercase.\n",
      " |  \n",
      " |  title(self, /)\n",
      " |      Return a version of the string where each word is titlecased.\n",
      " |      \n",
      " |      More specifically, words start with uppercased characters and all remaining\n",
      " |      cased characters have lower case.\n",
      " |  \n",
      " |  translate(self, table, /)\n",
      " |      Replace each character in the string using the given translation table.\n",
      " |      \n",
      " |        table\n",
      " |          Translation table, which must be a mapping of Unicode ordinals to\n",
      " |          Unicode ordinals, strings, or None.\n",
      " |      \n",
      " |      The table must implement lookup/indexing via __getitem__, for instance a\n",
      " |      dictionary or list.  If this operation raises LookupError, the character is\n",
      " |      left untouched.  Characters mapped to None are deleted.\n",
      " |  \n",
      " |  upper(self, /)\n",
      " |      Return a copy of the string converted to uppercase.\n",
      " |  \n",
      " |  zfill(self, width, /)\n",
      " |      Pad a numeric string with zeros on the left, to fill a field of the given width.\n",
      " |      \n",
      " |      The string is never truncated.\n",
      " |  \n",
      " |  ----------------------------------------------------------------------\n",
      " |  Static methods defined here:\n",
      " |  \n",
      " |  __new__(*args, **kwargs) from builtins.type\n",
      " |      Create and return a new object.  See help(type) for accurate signature.\n",
      " |  \n",
      " |  maketrans(...)\n",
      " |      Return a translation table usable for str.translate().\n",
      " |      \n",
      " |      If there is only one argument, it must be a dictionary mapping Unicode\n",
      " |      ordinals (integers) or characters to Unicode ordinals, strings or None.\n",
      " |      Character keys will be then converted to ordinals.\n",
      " |      If there are two arguments, they must be strings of equal length, and\n",
      " |      in the resulting dictionary, each character in x will be mapped to the\n",
      " |      character at the same position in y. If there is a third argument, it\n",
      " |      must be a string, whose characters will be mapped to None in the result.\n",
      "\n"
     ]
    }
   ],
   "source": [
    "help(str)"
   ]
  },
  {
   "cell_type": "code",
   "execution_count": 108,
   "id": "b9858a4a",
   "metadata": {},
   "outputs": [
    {
     "data": {
      "text/plain": [
       "'Hello, world!'"
      ]
     },
     "execution_count": 108,
     "metadata": {},
     "output_type": "execute_result"
    }
   ],
   "source": [
    "a.capitalize() #capitalize a"
   ]
  },
  {
   "cell_type": "code",
   "execution_count": 109,
   "id": "615bed21",
   "metadata": {},
   "outputs": [
    {
     "data": {
      "text/plain": [
       "'HELLO, WORLD!'"
      ]
     },
     "execution_count": 109,
     "metadata": {},
     "output_type": "execute_result"
    }
   ],
   "source": [
    "a.upper() #Converter a para maiúsculo"
   ]
  },
  {
   "cell_type": "code",
   "execution_count": 112,
   "id": "9f25f230",
   "metadata": {},
   "outputs": [
    {
     "data": {
      "text/plain": [
       "5"
      ]
     },
     "execution_count": 112,
     "metadata": {},
     "output_type": "execute_result"
    }
   ],
   "source": [
    "a.find(',') #Retornar a posição de ',' em a"
   ]
  },
  {
   "cell_type": "code",
   "execution_count": 113,
   "id": "46cc8743",
   "metadata": {},
   "outputs": [
    {
     "data": {
      "text/plain": [
       "2"
      ]
     },
     "execution_count": 113,
     "metadata": {},
     "output_type": "execute_result"
    }
   ],
   "source": [
    "a.find('l') #Retornar apenas a primeira ocorrência"
   ]
  },
  {
   "cell_type": "code",
   "execution_count": 114,
   "id": "7194cdd3",
   "metadata": {},
   "outputs": [
    {
     "data": {
      "text/plain": [
       "10"
      ]
     },
     "execution_count": 114,
     "metadata": {},
     "output_type": "execute_result"
    }
   ],
   "source": [
    "a.find('l',4) #Retornar apenas a primeira ocorrência após o índice 4"
   ]
  },
  {
   "cell_type": "markdown",
   "id": "d170eecd",
   "metadata": {},
   "source": [
    "Não há função integrada para retornar todas as ocorrências.\n",
    "\n",
    "Mas podemos usar o módulo `re`"
   ]
  },
  {
   "cell_type": "code",
   "execution_count": 115,
   "id": "f52293d4",
   "metadata": {},
   "outputs": [
    {
     "data": {
      "text/plain": [
       "['l', 'l', 'l']"
      ]
     },
     "execution_count": 115,
     "metadata": {},
     "output_type": "execute_result"
    }
   ],
   "source": [
    "import re\n",
    "re.findall('l',a)"
   ]
  },
  {
   "cell_type": "code",
   "execution_count": 116,
   "id": "1c51f698",
   "metadata": {},
   "outputs": [
    {
     "data": {
      "text/plain": [
       "[2, 3, 10]"
      ]
     },
     "execution_count": 116,
     "metadata": {},
     "output_type": "execute_result"
    }
   ],
   "source": [
    "[m.start() for m in re.finditer('l', a)]"
   ]
  },
  {
   "cell_type": "markdown",
   "id": "b4329b65",
   "metadata": {},
   "source": [
    "### Formatação de strings\n",
    "\n",
    "operador `%`"
   ]
  },
  {
   "cell_type": "code",
   "execution_count": 118,
   "id": "ea78a797",
   "metadata": {},
   "outputs": [
    {
     "data": {
      "text/plain": [
       "'An integer: 1; a float: 0.100000; another string: string'"
      ]
     },
     "execution_count": 118,
     "metadata": {},
     "output_type": "execute_result"
    }
   ],
   "source": [
    "'An integer: %i; a float: %f; another string: %s' % (1, 0.1, 'string')"
   ]
  },
  {
   "cell_type": "code",
   "execution_count": 119,
   "id": "e87d5f50",
   "metadata": {},
   "outputs": [
    {
     "data": {
      "text/plain": [
       "'An integer: 001; a float: 0.10; another string: string'"
      ]
     },
     "execution_count": 119,
     "metadata": {},
     "output_type": "execute_result"
    }
   ],
   "source": [
    "'An integer: %03.d; a float: %.2f; another string: %s' % (1, 0.1, 'string')"
   ]
  },
  {
   "cell_type": "code",
   "execution_count": 120,
   "id": "2203be56",
   "metadata": {},
   "outputs": [
    {
     "data": {
      "text/plain": [
       "'processing_of_dataset_099.txt'"
      ]
     },
     "execution_count": 120,
     "metadata": {},
     "output_type": "execute_result"
    }
   ],
   "source": [
    "i=99\n",
    "filename = 'processing_of_dataset_%03d.txt' % i\n",
    "filename"
   ]
  },
  {
   "cell_type": "markdown",
   "id": "0accdcf7",
   "metadata": {},
   "source": [
    "`.format` method"
   ]
  },
  {
   "cell_type": "code",
   "execution_count": 124,
   "id": "d4690ac4",
   "metadata": {},
   "outputs": [
    {
     "data": {
      "text/plain": [
       "'My name is Vitor. My surname is Ferrari'"
      ]
     },
     "execution_count": 124,
     "metadata": {},
     "output_type": "execute_result"
    }
   ],
   "source": [
    "name='Vitor'\n",
    "surname='Ferrari'\n",
    "'My name is {}. My surname is {}'.format(name,surname)"
   ]
  },
  {
   "cell_type": "code",
   "execution_count": 125,
   "id": "1afc8d70",
   "metadata": {},
   "outputs": [
    {
     "data": {
      "text/plain": [
       "'My name is           Vitor.'"
      ]
     },
     "execution_count": 125,
     "metadata": {},
     "output_type": "execute_result"
    }
   ],
   "source": [
    "'My name is {:>15}.'.format(name)"
   ]
  },
  {
   "cell_type": "code",
   "execution_count": 126,
   "id": "5e5f0cb6",
   "metadata": {},
   "outputs": [
    {
     "data": {
      "text/plain": [
       "'file_name_0.014485'"
      ]
     },
     "execution_count": 126,
     "metadata": {},
     "output_type": "execute_result"
    }
   ],
   "source": [
    "theta=0.014485\n",
    "'file_name_{}'.format(theta)"
   ]
  },
  {
   "cell_type": "code",
   "execution_count": 127,
   "id": "9b6def67",
   "metadata": {},
   "outputs": [
    {
     "data": {
      "text/plain": [
       "'file_name_000.014'"
      ]
     },
     "execution_count": 127,
     "metadata": {},
     "output_type": "execute_result"
    }
   ],
   "source": [
    "'file_name_{:07.3f}'.format(theta) #Preencher com zeros"
   ]
  },
  {
   "cell_type": "markdown",
   "id": "ecc02064",
   "metadata": {},
   "source": [
    "\n",
    "### Dicionários\n",
    "\n",
    "Um dicionário é basicamente uma tabela eficiente que mapeia chaves para valores. É um contêiner não ordenado."
   ]
  },
  {
   "cell_type": "code",
   "execution_count": 128,
   "id": "1560bfa2",
   "metadata": {},
   "outputs": [],
   "source": [
    "tel = {'emmanuelle': 5752, 'sebastian': 5578}"
   ]
  },
  {
   "cell_type": "code",
   "execution_count": 129,
   "id": "880be2bc",
   "metadata": {},
   "outputs": [
    {
     "data": {
      "text/plain": [
       "dict_keys(['emmanuelle', 'sebastian'])"
      ]
     },
     "execution_count": 129,
     "metadata": {},
     "output_type": "execute_result"
    }
   ],
   "source": [
    "tel.keys()"
   ]
  },
  {
   "cell_type": "code",
   "execution_count": 130,
   "id": "ab2b0f41",
   "metadata": {},
   "outputs": [
    {
     "data": {
      "text/plain": [
       "dict_values([5752, 5578])"
      ]
     },
     "execution_count": 130,
     "metadata": {},
     "output_type": "execute_result"
    }
   ],
   "source": [
    "tel.values()"
   ]
  },
  {
   "cell_type": "code",
   "execution_count": 131,
   "id": "eaa6c948",
   "metadata": {},
   "outputs": [
    {
     "data": {
      "text/plain": [
       "5578"
      ]
     },
     "execution_count": 131,
     "metadata": {},
     "output_type": "execute_result"
    }
   ],
   "source": [
    "tel['sebastian']"
   ]
  },
  {
   "cell_type": "code",
   "execution_count": 132,
   "id": "f858d643",
   "metadata": {},
   "outputs": [],
   "source": [
    "tel['emmanuelle'] = 5986 #Eles são objetos mutáveis"
   ]
  },
  {
   "cell_type": "code",
   "execution_count": 133,
   "id": "d6a91b28",
   "metadata": {},
   "outputs": [
    {
     "data": {
      "text/plain": [
       "{'emmanuelle': 5986, 'sebastian': 5578}"
      ]
     },
     "execution_count": 133,
     "metadata": {},
     "output_type": "execute_result"
    }
   ],
   "source": [
    "tel"
   ]
  },
  {
   "cell_type": "code",
   "execution_count": 134,
   "id": "926b8c5e",
   "metadata": {},
   "outputs": [],
   "source": [
    "tel['Vitor'] = 9999"
   ]
  },
  {
   "cell_type": "code",
   "execution_count": 135,
   "id": "ce80b939",
   "metadata": {},
   "outputs": [
    {
     "data": {
      "text/plain": [
       "{'emmanuelle': 5986, 'sebastian': 5578, 'Vitor': 9999}"
      ]
     },
     "execution_count": 135,
     "metadata": {},
     "output_type": "execute_result"
    }
   ],
   "source": [
    "tel"
   ]
  },
  {
   "cell_type": "code",
   "execution_count": 138,
   "id": "8f6e67c6",
   "metadata": {},
   "outputs": [
    {
     "data": {
      "text/plain": [
       "True"
      ]
     },
     "execution_count": 138,
     "metadata": {},
     "output_type": "execute_result"
    }
   ],
   "source": [
    "'Vitor' in tel"
   ]
  },
  {
   "cell_type": "code",
   "execution_count": 139,
   "id": "14913940",
   "metadata": {},
   "outputs": [
    {
     "data": {
      "text/plain": [
       "False"
      ]
     },
     "execution_count": 139,
     "metadata": {},
     "output_type": "execute_result"
    }
   ],
   "source": [
    "'haroldo' in tel"
   ]
  },
  {
   "cell_type": "markdown",
   "id": "2e289627",
   "metadata": {},
   "source": [
    "\n",
    "Criando um dicionário com `dict`"
   ]
  },
  {
   "cell_type": "code",
   "execution_count": 140,
   "id": "995daa25",
   "metadata": {},
   "outputs": [],
   "source": [
    "numbers = [1,2,3,4]\n",
    "strs = ['a','b','c']"
   ]
  },
  {
   "cell_type": "code",
   "execution_count": 141,
   "id": "2ac709ca",
   "metadata": {},
   "outputs": [
    {
     "data": {
      "text/plain": [
       "{'a': 1, 'b': 2, 'c': 3}"
      ]
     },
     "execution_count": 141,
     "metadata": {},
     "output_type": "execute_result"
    }
   ],
   "source": [
    "dict(list(zip(strs,numbers)))"
   ]
  },
  {
   "cell_type": "code",
   "execution_count": 142,
   "id": "691421f0",
   "metadata": {},
   "outputs": [
    {
     "name": "stdout",
     "output_type": "stream",
     "text": [
      "('a', 1)\n",
      "('b', 2)\n",
      "('c', 3)\n"
     ]
    }
   ],
   "source": [
    "for x in zip(strs,numbers):\n",
    "    print(x)"
   ]
  },
  {
   "cell_type": "code",
   "execution_count": 143,
   "id": "d28e8592",
   "metadata": {},
   "outputs": [
    {
     "data": {
      "text/plain": [
       "{'a': 1, 'b': 2, 'c': 3}"
      ]
     },
     "execution_count": 143,
     "metadata": {},
     "output_type": "execute_result"
    }
   ],
   "source": [
    "numbers = [1,2,3,4]\n",
    "strs = ['a','b','c']\n",
    "dict(list(zip(strs,numbers)))"
   ]
  },
  {
   "cell_type": "markdown",
   "id": "59018e55",
   "metadata": {},
   "source": [
    "`zip` Retorna um objeto zip cujo método .__next__() retorna uma tupla onde\n",
    "o i-ésimo elemento vem do i-ésimo argumento iterável."
   ]
  },
  {
   "cell_type": "code",
   "execution_count": 145,
   "id": "c7571692",
   "metadata": {},
   "outputs": [
    {
     "data": {
      "text/plain": [
       "[(1, 'a'), (2, 'b'), (3, 'c')]"
      ]
     },
     "execution_count": 145,
     "metadata": {},
     "output_type": "execute_result"
    }
   ],
   "source": [
    "list(zip(numbers,strs))"
   ]
  },
  {
   "cell_type": "markdown",
   "id": "7b51e36e",
   "metadata": {},
   "source": [
    "\n",
    "### Tuplas\n",
    "\n",
    "Tuplas são basicamente listas imutáveis. Os elementos de uma tupla são escritos entre parênteses, ou apenas separados por vírgulas."
   ]
  },
  {
   "cell_type": "code",
   "execution_count": 146,
   "id": "c136c8f9",
   "metadata": {},
   "outputs": [],
   "source": [
    "t = 12345, 54321, 'hello!'"
   ]
  },
  {
   "cell_type": "code",
   "execution_count": 147,
   "id": "ffeb2adf",
   "metadata": {},
   "outputs": [
    {
     "data": {
      "text/plain": [
       "(12345, 54321, 'hello!')"
      ]
     },
     "execution_count": 147,
     "metadata": {},
     "output_type": "execute_result"
    }
   ],
   "source": [
    "t"
   ]
  },
  {
   "cell_type": "code",
   "execution_count": 148,
   "id": "31fa177b",
   "metadata": {},
   "outputs": [
    {
     "data": {
      "text/plain": [
       "12345"
      ]
     },
     "execution_count": 148,
     "metadata": {},
     "output_type": "execute_result"
    }
   ],
   "source": [
    "t[0]"
   ]
  },
  {
   "cell_type": "code",
   "execution_count": 149,
   "id": "2625fb16",
   "metadata": {},
   "outputs": [
    {
     "ename": "TypeError",
     "evalue": "'tuple' object does not support item assignment",
     "output_type": "error",
     "traceback": [
      "\u001b[1;31m---------------------------------------------------------------------------\u001b[0m",
      "\u001b[1;31mTypeError\u001b[0m                                 Traceback (most recent call last)",
      "\u001b[1;32m<ipython-input-149-0268c5f13f3d>\u001b[0m in \u001b[0;36m<module>\u001b[1;34m\u001b[0m\n\u001b[1;32m----> 1\u001b[1;33m \u001b[0mt\u001b[0m\u001b[1;33m[\u001b[0m\u001b[1;36m1\u001b[0m\u001b[1;33m]\u001b[0m\u001b[1;33m=\u001b[0m\u001b[1;34m'test'\u001b[0m\u001b[1;33m\u001b[0m\u001b[1;33m\u001b[0m\u001b[0m\n\u001b[0m",
      "\u001b[1;31mTypeError\u001b[0m: 'tuple' object does not support item assignment"
     ]
    }
   ],
   "source": [
    "t[1]='test'"
   ]
  },
  {
   "cell_type": "markdown",
   "id": "964f41d4",
   "metadata": {},
   "source": [
    "## Operador de Atribuição"
   ]
  },
  {
   "cell_type": "markdown",
   "id": "0068a343",
   "metadata": {},
   "source": [
    "As instruções de atribuição são usadas para (re)vincular nomes a valores e modificar atributos ou itens de objetos mutáveis.\n",
    "\n",
    "Resumindo, funciona da seguinte forma (atribuição simples):\n",
    "1. uma expressão no lado direito é avaliada, o objeto correspondente é criado/obtido\n",
    "2. um nome no lado esquerdo é atribuído ou vinculado ao objeto do lado direito"
   ]
  },
  {
   "cell_type": "markdown",
   "id": "92d044e6",
   "metadata": {},
   "source": [
    "Um único objeto pode ter vários nomes vinculados a ele."
   ]
  },
  {
   "cell_type": "code",
   "execution_count": 151,
   "id": "e769abed",
   "metadata": {},
   "outputs": [],
   "source": [
    "a = [1, 2, 3]\n",
    "b = a"
   ]
  },
  {
   "cell_type": "code",
   "execution_count": 152,
   "id": "55991462",
   "metadata": {},
   "outputs": [
    {
     "data": {
      "text/plain": [
       "True"
      ]
     },
     "execution_count": 152,
     "metadata": {},
     "output_type": "execute_result"
    }
   ],
   "source": [
    "a is b"
   ]
  },
  {
   "cell_type": "markdown",
   "id": "64c1782a",
   "metadata": {},
   "source": [
    "Os operadores `is` e `is not` testam a identidade do objeto: `x is y` é verdadeiro se e somente se `x` e `y` são o mesmo objeto."
   ]
  },
  {
   "cell_type": "code",
   "execution_count": 153,
   "id": "dc444fdc",
   "metadata": {},
   "outputs": [],
   "source": [
    "#Mudanças em b são refletidas em a\n",
    "b[1]='test'"
   ]
  },
  {
   "cell_type": "code",
   "execution_count": 154,
   "id": "523d3832",
   "metadata": {},
   "outputs": [
    {
     "data": {
      "text/plain": [
       "[1, 'test', 3]"
      ]
     },
     "execution_count": 154,
     "metadata": {},
     "output_type": "execute_result"
    }
   ],
   "source": [
    "a"
   ]
  },
  {
   "cell_type": "markdown",
   "id": "db4078a0",
   "metadata": {},
   "source": [
    "\n",
    "A função `id` retorna a identidade de um objeto."
   ]
  },
  {
   "cell_type": "code",
   "execution_count": 155,
   "id": "5f740dbe",
   "metadata": {},
   "outputs": [
    {
     "data": {
      "text/plain": [
       "1935939999680"
      ]
     },
     "execution_count": 155,
     "metadata": {},
     "output_type": "execute_result"
    }
   ],
   "source": [
    "id(a)"
   ]
  },
  {
   "cell_type": "code",
   "execution_count": 156,
   "id": "113280b1",
   "metadata": {},
   "outputs": [
    {
     "data": {
      "text/plain": [
       "1935939999680"
      ]
     },
     "execution_count": 156,
     "metadata": {},
     "output_type": "execute_result"
    }
   ],
   "source": [
    "id(b)"
   ]
  },
  {
   "cell_type": "markdown",
   "id": "4c4e87a7",
   "metadata": {},
   "source": [
    "O método `.copy` faz uma cópia do objeto."
   ]
  },
  {
   "cell_type": "code",
   "execution_count": 157,
   "id": "297a0649",
   "metadata": {},
   "outputs": [
    {
     "data": {
      "text/plain": [
       "<function list.copy()>"
      ]
     },
     "execution_count": 157,
     "metadata": {},
     "output_type": "execute_result"
    }
   ],
   "source": [
    "a.copy"
   ]
  },
  {
   "cell_type": "code",
   "execution_count": 158,
   "id": "bb38b942",
   "metadata": {},
   "outputs": [],
   "source": [
    "c = a.copy()"
   ]
  },
  {
   "cell_type": "code",
   "execution_count": 159,
   "id": "19949515",
   "metadata": {},
   "outputs": [],
   "source": [
    "c[0] = 'test'"
   ]
  },
  {
   "cell_type": "code",
   "execution_count": 160,
   "id": "0bf30922",
   "metadata": {},
   "outputs": [
    {
     "data": {
      "text/plain": [
       "(['test', 'test', 3], [1, 'test', 3])"
      ]
     },
     "execution_count": 160,
     "metadata": {},
     "output_type": "execute_result"
    }
   ],
   "source": [
    "c,a"
   ]
  },
  {
   "cell_type": "code",
   "execution_count": 161,
   "id": "58a0f9be",
   "metadata": {},
   "outputs": [],
   "source": [
    "#Cópias são criadas ao fatiar.\n",
    "d = a[:]"
   ]
  },
  {
   "cell_type": "code",
   "execution_count": 162,
   "id": "9c9eae8a",
   "metadata": {},
   "outputs": [
    {
     "data": {
      "text/plain": [
       "(1935939999680, 1935940023616)"
      ]
     },
     "execution_count": 162,
     "metadata": {},
     "output_type": "execute_result"
    }
   ],
   "source": [
    "id(a),id(d)"
   ]
  },
  {
   "cell_type": "code",
   "execution_count": 163,
   "id": "5cb2ab8a",
   "metadata": {},
   "outputs": [
    {
     "data": {
      "text/plain": [
       "([1, 2, 3], 1935940000000)"
      ]
     },
     "execution_count": 163,
     "metadata": {},
     "output_type": "execute_result"
    }
   ],
   "source": [
    "a = [1,2,3]\n",
    "a,id(a)"
   ]
  },
  {
   "cell_type": "code",
   "execution_count": 164,
   "id": "be088da6",
   "metadata": {},
   "outputs": [
    {
     "data": {
      "text/plain": [
       "1935867088192"
      ]
     },
     "execution_count": 164,
     "metadata": {},
     "output_type": "execute_result"
    }
   ],
   "source": [
    "a = ['a', 'b', 'c'] # Creates another object\n",
    "id(a)"
   ]
  },
  {
   "cell_type": "code",
   "execution_count": 165,
   "id": "29de1925",
   "metadata": {},
   "outputs": [
    {
     "data": {
      "text/plain": [
       "1935867088192"
      ]
     },
     "execution_count": 165,
     "metadata": {},
     "output_type": "execute_result"
    }
   ],
   "source": [
    "a[:] = [1, 2, 3] # Modifies object in place.\n",
    "id(a)"
   ]
  },
  {
   "cell_type": "markdown",
   "id": "5425b04e",
   "metadata": {},
   "source": [
    "## **mutável vs. imutável**\n",
    "\n",
    "- objetos mutáveis ​​podem ser alterados no local\n",
    "- objetos imutáveis ​​não podem ser modificados depois de criados"
   ]
  },
  {
   "cell_type": "code",
   "execution_count": 166,
   "id": "786c24d2",
   "metadata": {},
   "outputs": [
    {
     "data": {
      "text/plain": [
       "('a', 'b', 'c')"
      ]
     },
     "execution_count": 166,
     "metadata": {},
     "output_type": "execute_result"
    }
   ],
   "source": [
    "t = ('a', 'b', 'c')\n",
    "t"
   ]
  },
  {
   "cell_type": "code",
   "execution_count": 167,
   "id": "23436756",
   "metadata": {},
   "outputs": [
    {
     "data": {
      "text/plain": [
       "('d', 'e', 'f')"
      ]
     },
     "execution_count": 167,
     "metadata": {},
     "output_type": "execute_result"
    }
   ],
   "source": [
    "t = ('d', 'e', 'f')\n",
    "t"
   ]
  },
  {
   "cell_type": "markdown",
   "id": "166e5867",
   "metadata": {},
   "source": [
    "\n",
    "## Controle de Fluxo\n",
    "\n",
    "Controla a ordem na qual o código é executado."
   ]
  },
  {
   "cell_type": "markdown",
   "id": "5f4245f3",
   "metadata": {},
   "source": [
    "## `if/elif/else`"
   ]
  },
  {
   "cell_type": "code",
   "execution_count": 168,
   "id": "4803e6cc",
   "metadata": {},
   "outputs": [
    {
     "name": "stdout",
     "output_type": "stream",
     "text": [
      "yyy\n"
     ]
    }
   ],
   "source": [
    "if 2**2 == 3:\n",
    "    print('4 igual a 4')\n",
    "elif 3==3:\n",
    "    print(\"yyy\")\n",
    "else:\n",
    "    print('outra')"
   ]
  },
  {
   "cell_type": "markdown",
   "id": "e5e56f4a",
   "metadata": {},
   "source": [
    "## `for/range`"
   ]
  },
  {
   "cell_type": "markdown",
   "id": "8e919449",
   "metadata": {},
   "source": [
    "`range(start, stop[, step])`\n",
    "\n",
    "Retorna um objeto que produz uma sequência de inteiros desde o início (inclusive)\n",
    "para parar (exclusivo) por passo."
   ]
  },
  {
   "cell_type": "code",
   "execution_count": 169,
   "id": "84515a79",
   "metadata": {},
   "outputs": [],
   "source": [
    "t = range(10)"
   ]
  },
  {
   "cell_type": "code",
   "execution_count": 170,
   "id": "0cda5933",
   "metadata": {},
   "outputs": [
    {
     "data": {
      "text/plain": [
       "range(0, 10)"
      ]
     },
     "execution_count": 170,
     "metadata": {},
     "output_type": "execute_result"
    }
   ],
   "source": [
    "t"
   ]
  },
  {
   "cell_type": "markdown",
   "id": "ede57375",
   "metadata": {},
   "source": [
    "list(t)"
   ]
  },
  {
   "cell_type": "markdown",
   "id": "9ebfcc16",
   "metadata": {},
   "source": [
    "\n",
    "Iterando com um índice"
   ]
  },
  {
   "cell_type": "code",
   "execution_count": 172,
   "id": "29257d55",
   "metadata": {},
   "outputs": [
    {
     "name": "stdout",
     "output_type": "stream",
     "text": [
      "0\n",
      "1\n",
      "2\n"
     ]
    }
   ],
   "source": [
    "for i in range(3):\n",
    "    print(i)"
   ]
  },
  {
   "cell_type": "markdown",
   "id": "023bb3e8",
   "metadata": {},
   "source": [
    "Mas, na maioria das vezes, é mais legível iterar sobre valores"
   ]
  },
  {
   "cell_type": "code",
   "execution_count": 174,
   "id": "912b4bc9",
   "metadata": {},
   "outputs": [
    {
     "name": "stdout",
     "output_type": "stream",
     "text": [
      "Python is cool \n",
      "Python is powerful \n",
      "Python is readable \n"
     ]
    }
   ],
   "source": [
    "for word in ('cool', 'powerful', 'readable'):\n",
    "    print('Python is %s ' % word)"
   ]
  },
  {
   "cell_type": "markdown",
   "id": "576949e4",
   "metadata": {},
   "source": [
    "### Você pode iterar sobre qualquer sequência (string, lista, chaves em um dicionário, linhas em um arquivo...):"
   ]
  },
  {
   "cell_type": "code",
   "execution_count": 175,
   "id": "bf815ac4",
   "metadata": {},
   "outputs": [],
   "source": [
    "vowels = 'aeiouy'"
   ]
  },
  {
   "cell_type": "code",
   "execution_count": 176,
   "id": "67ba7fc2",
   "metadata": {},
   "outputs": [
    {
     "name": "stdout",
     "output_type": "stream",
     "text": [
      "o\n",
      "e\n",
      "u\n"
     ]
    }
   ],
   "source": [
    "for i in 'powerful':\n",
    "    if i in vowels:\n",
    "        print(i)"
   ]
  },
  {
   "cell_type": "code",
   "execution_count": 177,
   "id": "402c8c0a",
   "metadata": {},
   "outputs": [],
   "source": [
    "message = \"Hello how are you?\""
   ]
  },
  {
   "cell_type": "code",
   "execution_count": 178,
   "id": "85c1bfe7",
   "metadata": {},
   "outputs": [
    {
     "data": {
      "text/plain": [
       "['Hello', 'how', 'are', 'you?']"
      ]
     },
     "execution_count": 178,
     "metadata": {},
     "output_type": "execute_result"
    }
   ],
   "source": [
    "message.split()"
   ]
  },
  {
   "cell_type": "code",
   "execution_count": 179,
   "id": "ea0c9168",
   "metadata": {},
   "outputs": [
    {
     "name": "stdout",
     "output_type": "stream",
     "text": [
      "Hello\n",
      "how\n",
      "are\n",
      "you?\n"
     ]
    }
   ],
   "source": [
    "for word in message.split():\n",
    "    print(word)"
   ]
  },
  {
   "cell_type": "markdown",
   "id": "5cd82bc6",
   "metadata": {},
   "source": [
    "### Acompanhando o número de enumeração"
   ]
  },
  {
   "cell_type": "markdown",
   "id": "c7adcd14",
   "metadata": {},
   "source": [
    "\n",
    "Uma tarefa comum é iterar uma sequência enquanto mantém o controle do número do item."
   ]
  },
  {
   "cell_type": "code",
   "execution_count": 180,
   "id": "f83424fb",
   "metadata": {},
   "outputs": [],
   "source": [
    "words = ('cool', 'powerful', 'readable')"
   ]
  },
  {
   "cell_type": "code",
   "execution_count": 181,
   "id": "3e6d9b31",
   "metadata": {},
   "outputs": [
    {
     "data": {
      "text/plain": [
       "3"
      ]
     },
     "execution_count": 181,
     "metadata": {},
     "output_type": "execute_result"
    }
   ],
   "source": [
    "len(words)"
   ]
  },
  {
   "cell_type": "code",
   "execution_count": 182,
   "id": "0b9c06dc",
   "metadata": {},
   "outputs": [
    {
     "name": "stdout",
     "output_type": "stream",
     "text": [
      "(0, 'cool')\n",
      "(1, 'powerful')\n",
      "(2, 'readable')\n"
     ]
    }
   ],
   "source": [
    "#the non-pythonic way\n",
    "for i in range(0, len(words)):\n",
    "    print((i, words[i]))"
   ]
  },
  {
   "cell_type": "code",
   "execution_count": 183,
   "id": "d4f4e752",
   "metadata": {},
   "outputs": [
    {
     "name": "stdout",
     "output_type": "stream",
     "text": [
      "(0, 'cool')\n",
      "(1, 'powerful')\n",
      "(2, 'readable')\n"
     ]
    }
   ],
   "source": [
    "#the pythonic way\n",
    "for index, item in enumerate(words):\n",
    "    print((index,item))"
   ]
  },
  {
   "cell_type": "markdown",
   "id": "30579478",
   "metadata": {},
   "source": [
    "`enumerate(iterable[, start])` -> iterador para índice, valor de iterável\n",
    "\n",
    "Retorna um objeto enumerado."
   ]
  },
  {
   "cell_type": "code",
   "execution_count": 184,
   "id": "db07d775",
   "metadata": {},
   "outputs": [
    {
     "data": {
      "text/plain": [
       "[(0, 'cool'), (1, 'powerful'), (2, 'readable')]"
      ]
     },
     "execution_count": 184,
     "metadata": {},
     "output_type": "execute_result"
    }
   ],
   "source": [
    "list(enumerate(words))"
   ]
  },
  {
   "cell_type": "code",
   "execution_count": 185,
   "id": "7988cc12",
   "metadata": {},
   "outputs": [],
   "source": [
    "test = enumerate(words)"
   ]
  },
  {
   "cell_type": "code",
   "execution_count": 186,
   "id": "269f822f",
   "metadata": {},
   "outputs": [
    {
     "data": {
      "text/plain": [
       "<enumerate at 0x1c2bee40980>"
      ]
     },
     "execution_count": 186,
     "metadata": {},
     "output_type": "execute_result"
    }
   ],
   "source": [
    "test"
   ]
  },
  {
   "cell_type": "markdown",
   "id": "623608f4",
   "metadata": {},
   "source": [
    "`próximo(iterador[, padrão])`\n",
    "\n",
    "Retorna o próximo item do iterador."
   ]
  },
  {
   "cell_type": "code",
   "execution_count": 187,
   "id": "c9260e77",
   "metadata": {},
   "outputs": [
    {
     "data": {
      "text/plain": [
       "(0, 'cool')"
      ]
     },
     "execution_count": 187,
     "metadata": {},
     "output_type": "execute_result"
    }
   ],
   "source": [
    "next(test)"
   ]
  },
  {
   "cell_type": "code",
   "execution_count": 188,
   "id": "21d0230f",
   "metadata": {},
   "outputs": [
    {
     "data": {
      "text/plain": [
       "(1, 'powerful')"
      ]
     },
     "execution_count": 188,
     "metadata": {},
     "output_type": "execute_result"
    }
   ],
   "source": [
    "next(test)"
   ]
  },
  {
   "cell_type": "markdown",
   "id": "0987a725",
   "metadata": {},
   "source": [
    "\n",
    "### loop sobre duas ou mais listas com zip"
   ]
  },
  {
   "cell_type": "code",
   "execution_count": 189,
   "id": "62eec309",
   "metadata": {},
   "outputs": [],
   "source": [
    "a = [1,2,3]\n",
    "b = ['a','b','c']\n",
    "c = ['aa','bb','cc']"
   ]
  },
  {
   "cell_type": "code",
   "execution_count": 190,
   "id": "44892d16",
   "metadata": {},
   "outputs": [
    {
     "name": "stdout",
     "output_type": "stream",
     "text": [
      "(1, 'a', 'aa')\n",
      "(2, 'b', 'bb')\n",
      "(3, 'c', 'cc')\n"
     ]
    }
   ],
   "source": [
    "for i in range(3):\n",
    "    print((a[i],b[i],c[i]))"
   ]
  },
  {
   "cell_type": "code",
   "execution_count": 191,
   "id": "a6cda430",
   "metadata": {},
   "outputs": [
    {
     "data": {
      "text/plain": [
       "[(1, 'a', 'aa'), (2, 'b', 'bb'), (3, 'c', 'cc')]"
      ]
     },
     "execution_count": 191,
     "metadata": {},
     "output_type": "execute_result"
    }
   ],
   "source": [
    "list(zip(a,b,c))"
   ]
  },
  {
   "cell_type": "code",
   "execution_count": 192,
   "id": "2dc5b14c",
   "metadata": {},
   "outputs": [
    {
     "name": "stdout",
     "output_type": "stream",
     "text": [
      "1 a aa\n",
      "2 b bb\n",
      "3 c cc\n"
     ]
    }
   ],
   "source": [
    "for l1,l2,l3 in zip(a,b,c):\n",
    "    print(l1,l2,l3)"
   ]
  },
  {
   "cell_type": "markdown",
   "id": "81db9f7c",
   "metadata": {},
   "source": [
    "\n",
    "### Percorrendo um dicionário"
   ]
  },
  {
   "cell_type": "code",
   "execution_count": 193,
   "id": "d46952fd",
   "metadata": {},
   "outputs": [],
   "source": [
    "d = dict({'a': 1, 'b':1.2, 'c':1j})"
   ]
  },
  {
   "cell_type": "code",
   "execution_count": 194,
   "id": "bbcb7fc9",
   "metadata": {},
   "outputs": [
    {
     "data": {
      "text/plain": [
       "dict_items([('a', 1), ('b', 1.2), ('c', 1j)])"
      ]
     },
     "execution_count": 194,
     "metadata": {},
     "output_type": "execute_result"
    }
   ],
   "source": [
    "d.items()"
   ]
  },
  {
   "cell_type": "code",
   "execution_count": 195,
   "id": "42786af1",
   "metadata": {},
   "outputs": [
    {
     "name": "stdout",
     "output_type": "stream",
     "text": [
      "Key: a has value: 1\n",
      "Key: b has value: 1.2\n",
      "Key: c has value: 1j\n"
     ]
    }
   ],
   "source": [
    "for key, val in sorted(d.items()):\n",
    "    print('Key: %s has value: %s' % (key, val))"
   ]
  },
  {
   "cell_type": "markdown",
   "id": "eb0355f7",
   "metadata": {},
   "source": [
    "**A ordenação de um dicionário é aleatória, portanto usamos sorted() que irá ordenar pelas chaves.**"
   ]
  },
  {
   "cell_type": "markdown",
   "id": "46fda549",
   "metadata": {},
   "source": [
    "## Compreensões de Lista\n",
    "\n",
    "*A compreensão de lista é uma maneira elegante de definir e criar listas com base em listas existentes.*"
   ]
  },
  {
   "cell_type": "code",
   "execution_count": 196,
   "id": "e833cd5d",
   "metadata": {},
   "outputs": [],
   "source": [
    "l = []\n",
    "for i in range(4):\n",
    "    l.append(i**2)"
   ]
  },
  {
   "cell_type": "code",
   "execution_count": 197,
   "id": "579bfbd8",
   "metadata": {},
   "outputs": [
    {
     "data": {
      "text/plain": [
       "[0, 1, 4, 9]"
      ]
     },
     "execution_count": 197,
     "metadata": {},
     "output_type": "execute_result"
    }
   ],
   "source": [
    "l"
   ]
  },
  {
   "cell_type": "code",
   "execution_count": 198,
   "id": "e143f8bc",
   "metadata": {},
   "outputs": [
    {
     "data": {
      "text/plain": [
       "[0, 1, 4, 9]"
      ]
     },
     "execution_count": 198,
     "metadata": {},
     "output_type": "execute_result"
    }
   ],
   "source": [
    "[i**2 for i in range(4)]"
   ]
  },
  {
   "cell_type": "code",
   "execution_count": 199,
   "id": "a385e69d",
   "metadata": {},
   "outputs": [
    {
     "data": {
      "text/plain": [
       "['h', 'u', 'm', 'a', 'n']"
      ]
     },
     "execution_count": 199,
     "metadata": {},
     "output_type": "execute_result"
    }
   ],
   "source": [
    "list('human')"
   ]
  },
  {
   "cell_type": "code",
   "execution_count": 200,
   "id": "d738d9f6",
   "metadata": {},
   "outputs": [
    {
     "data": {
      "text/plain": [
       "['h', 'u', 'm', 'a', 'n']"
      ]
     },
     "execution_count": 200,
     "metadata": {},
     "output_type": "execute_result"
    }
   ],
   "source": [
    "[letter for letter in 'human' ]"
   ]
  },
  {
   "cell_type": "markdown",
   "id": "afd79dcc",
   "metadata": {},
   "source": [
    "As compreensões de lista podem utilizar a instrução condicional para modificar a lista existente."
   ]
  },
  {
   "cell_type": "code",
   "execution_count": 201,
   "id": "0a90a472",
   "metadata": {},
   "outputs": [
    {
     "data": {
      "text/plain": [
       "[0, 1, 2, 3, 4, 5, 6, 7, 8, 9, 10, 11, 12, 13, 14, 15, 16, 17, 18, 19]"
      ]
     },
     "execution_count": 201,
     "metadata": {},
     "output_type": "execute_result"
    }
   ],
   "source": [
    "[x for x in range(20)]"
   ]
  },
  {
   "cell_type": "code",
   "execution_count": 203,
   "id": "0e5a0b8b",
   "metadata": {},
   "outputs": [
    {
     "data": {
      "text/plain": [
       "[0, 2, 4, 6, 8, 10, 12, 14, 16, 18]"
      ]
     },
     "execution_count": 203,
     "metadata": {},
     "output_type": "execute_result"
    }
   ],
   "source": [
    "[ x for x in range(20) if x % 2 == 0]"
   ]
  },
  {
   "cell_type": "markdown",
   "id": "0d119a35",
   "metadata": {},
   "source": [
    "A lista será preenchida pelos itens no intervalo de 0 a 19 se o valor do item for divisível por 2."
   ]
  },
  {
   "cell_type": "markdown",
   "id": "9fc83b3b",
   "metadata": {},
   "source": [
    "A instrução condicional pode ser combinada."
   ]
  },
  {
   "cell_type": "code",
   "execution_count": 204,
   "id": "be167779",
   "metadata": {},
   "outputs": [
    {
     "data": {
      "text/plain": [
       "[0, 4, 8, 12, 16]"
      ]
     },
     "execution_count": 204,
     "metadata": {},
     "output_type": "execute_result"
    }
   ],
   "source": [
    "[ x for x in range(20) if x % 2 == 0 if x % 4 == 0]"
   ]
  },
  {
   "cell_type": "markdown",
   "id": "4f1ea678",
   "metadata": {},
   "source": [
    "\n",
    "Também podemos realizar iteração aninhada dentro de uma compreensão de lista."
   ]
  },
  {
   "cell_type": "code",
   "execution_count": 205,
   "id": "c9ebcf7e",
   "metadata": {},
   "outputs": [
    {
     "data": {
      "text/plain": [
       "[[1, 3, 5, 7], [2, 4, 6, 8]]"
      ]
     },
     "execution_count": 205,
     "metadata": {},
     "output_type": "execute_result"
    }
   ],
   "source": [
    "matrix = [[1, 2],[3,4],[5,6],[7,8]]\n",
    "transpose = [[row[i] for row in matrix] for i in range(2)]\n",
    "\n",
    "transpose"
   ]
  },
  {
   "cell_type": "markdown",
   "id": "2abb0dc2",
   "metadata": {},
   "source": [
    "**Os loops aninhados na compreensão de lista não funcionam como loops aninhados normais.** No programa acima, `for i in range(2)` é executado antes de `row[i] for row in matrix`. Portanto, a princípio, um valor é atribuído a `i`, em seguida, o item direcionado por `row[i]` é acrescentado na variável de transposição."
   ]
  },
  {
   "cell_type": "code",
   "execution_count": 206,
   "id": "05a796de",
   "metadata": {},
   "outputs": [
    {
     "data": {
      "text/plain": [
       "[[1, 3, 5, 7], [2, 4, 6, 8]]"
      ]
     },
     "execution_count": 206,
     "metadata": {},
     "output_type": "execute_result"
    }
   ],
   "source": [
    "#Outra Maneira além do Python\n",
    "\n",
    "transposed = []\n",
    "\n",
    "for i in range(2):\n",
    "    transposed_row = []\n",
    "    for row in matrix:\n",
    "        transposed_row.append(row[i])\n",
    "    transposed.append(transposed_row)\n",
    "transposed"
   ]
  },
  {
   "cell_type": "markdown",
   "id": "a81373ba",
   "metadata": {},
   "source": [
    "- A compreensão da lista é uma maneira elegante de definir e criar listas com base nas listas existentes.\n",
    "- A compreensão da lista é geralmente mais compacta e rápida do que funções e loops normais para criar listas.\n",
    "- No entanto, devemos evitar escrever compreensões de lista muito longas em uma linha para garantir que o código seja amigável.\n",
    "- Lembre-se, toda compreensão de lista pode ser reescrita no loop for, mas todo loop for não pode ser reescrito na forma de compreensão de lista."
   ]
  },
  {
   "cell_type": "markdown",
   "id": "e0969b99",
   "metadata": {},
   "source": [
    "### Exercício\n",
    "\n",
    "Calcule os decimais de Pi usando a fórmula de Wallis:\n",
    "$$\n",
    "\\pi = 2 \\prod_{i=1}^\\infty \\frac{4i^2}{4i^2-1}\n",
    "$$"
   ]
  },
  {
   "cell_type": "code",
   "execution_count": 207,
   "id": "f0efd07b",
   "metadata": {},
   "outputs": [
    {
     "name": "stdout",
     "output_type": "stream",
     "text": [
      "My pi is 3.141584799578707\n",
      "The relative error is 2.5000093748515706e-06\n"
     ]
    }
   ],
   "source": [
    "# %load ../extras/solutions/pi_Wallis.py\n",
    "pi = 3.14159265358979312\n",
    "\n",
    "my_pi = 1.\n",
    "\n",
    "for i in range(1, 100000):\n",
    "    my_pi *= 4 * i ** 2 / (4 * i ** 2 - 1.)\n",
    "\n",
    "my_pi *= 2\n",
    "\n",
    "print(f'My pi is {my_pi}')\n",
    "print(f'The relative error is {(pi-my_pi)/pi}')"
   ]
  },
  {
   "cell_type": "code",
   "execution_count": 208,
   "id": "78799bdb",
   "metadata": {},
   "outputs": [],
   "source": [
    "my_pi = my_pi*(4 * i ** 2 / (4 * i ** 2 - 1.))"
   ]
  },
  {
   "cell_type": "code",
   "execution_count": 209,
   "id": "cb5669e2",
   "metadata": {},
   "outputs": [
    {
     "name": "stdout",
     "output_type": "stream",
     "text": [
      "My pi is 3.1415918681913633\n",
      "The relative error is 2.5000008481378646e-07\n"
     ]
    }
   ],
   "source": [
    "# %load ../extras/solutions/pi_Wallis.py\n",
    "pi = 3.14159265358979312\n",
    "\n",
    "my_pi = 2.\n",
    "\n",
    "for i in range(1, 1000000):\n",
    "    my_pi *= 4 * i ** 2 / (4 * i ** 2 - 1.)\n",
    "\n",
    "print(f'My pi is {my_pi}')\n",
    "print(f'The relative error is {(pi-my_pi)/pi}')"
   ]
  },
  {
   "cell_type": "markdown",
   "id": "4f035fbf",
   "metadata": {},
   "source": [
    "## Definindo Funções"
   ]
  },
  {
   "cell_type": "code",
   "execution_count": 210,
   "id": "cf4bc182",
   "metadata": {},
   "outputs": [],
   "source": [
    "def test():\n",
    "    print('in test function')"
   ]
  },
  {
   "cell_type": "code",
   "execution_count": 211,
   "id": "f2aaf57b",
   "metadata": {},
   "outputs": [
    {
     "name": "stdout",
     "output_type": "stream",
     "text": [
      "in test function\n"
     ]
    }
   ],
   "source": [
    "test()"
   ]
  },
  {
   "cell_type": "markdown",
   "id": "57c6ae05",
   "metadata": {},
   "source": [
    "\n",
    "**Os blocos de função devem ser recuados como outros blocos de fluxo de controle.**"
   ]
  },
  {
   "cell_type": "markdown",
   "id": "4d6e4213",
   "metadata": {},
   "source": [
    "### Declaração de Retorno\n",
    "\n",
    "Funções podem *opcionalmente* retornar valores."
   ]
  },
  {
   "cell_type": "code",
   "execution_count": 213,
   "id": "bf89842c",
   "metadata": {},
   "outputs": [],
   "source": [
    "def disk_area(radius):\n",
    "    return 3.14 * radius * radius"
   ]
  },
  {
   "cell_type": "code",
   "execution_count": 214,
   "id": "90ab57ba",
   "metadata": {},
   "outputs": [
    {
     "data": {
      "text/plain": [
       "314.0"
      ]
     },
     "execution_count": 214,
     "metadata": {},
     "output_type": "execute_result"
    }
   ],
   "source": [
    "disk_area(10)"
   ]
  },
  {
   "cell_type": "markdown",
   "id": "38ef482d",
   "metadata": {},
   "source": [
    "Por padrão, as funções retornam `None`."
   ]
  },
  {
   "cell_type": "markdown",
   "id": "0f4c0ce5",
   "metadata": {},
   "source": [
    "### **Observe a sintaxe para definir uma função:**\n",
    "\n",
    "- a palavra-chave def;\n",
    "- é seguido pelo nome da função, então\n",
    "- os argumentos da função são dados entre parênteses seguidos de dois pontos.\n",
    "- o corpo da função;\n",
    "- e objeto de retorno para retornar valores opcionalmente."
   ]
  },
  {
   "cell_type": "markdown",
   "id": "1b240d70",
   "metadata": {},
   "source": [
    "### Parâmetros\n",
    "\n",
    "- As funções podem receber **obrigatório** (argumentos posicionais)\n",
    "- ou parâmetros **opcionais** (palavra-chave ou argumentos nomeados)"
   ]
  },
  {
   "cell_type": "code",
   "execution_count": 215,
   "id": "e0ab4788",
   "metadata": {},
   "outputs": [],
   "source": [
    "def double_it(x):\n",
    "    return(x * 2)"
   ]
  },
  {
   "cell_type": "code",
   "execution_count": 216,
   "id": "76571893",
   "metadata": {},
   "outputs": [
    {
     "data": {
      "text/plain": [
       "4"
      ]
     },
     "execution_count": 216,
     "metadata": {},
     "output_type": "execute_result"
    }
   ],
   "source": [
    "double_it(2)"
   ]
  },
  {
   "cell_type": "code",
   "execution_count": 217,
   "id": "8a6dfdd4",
   "metadata": {},
   "outputs": [],
   "source": [
    "def double_it2(x=2):\n",
    "    return(x * 2)"
   ]
  },
  {
   "cell_type": "code",
   "execution_count": 218,
   "id": "8506193b",
   "metadata": {},
   "outputs": [
    {
     "data": {
      "text/plain": [
       "4"
      ]
     },
     "execution_count": 218,
     "metadata": {},
     "output_type": "execute_result"
    }
   ],
   "source": [
    "double_it2() #Assume que x=2 por padrão"
   ]
  },
  {
   "cell_type": "markdown",
   "id": "558e45a9",
   "metadata": {},
   "source": [
    "Os argumentos de palavra-chave são um recurso muito conveniente para definir funções com um número variável de argumentos, especialmente quando os valores padrão devem ser usados ​​na maioria das chamadas para a função."
   ]
  },
  {
   "cell_type": "markdown",
   "id": "fb5d78a8",
   "metadata": {},
   "source": [
    "### Passando por valor ou por referência"
   ]
  },
  {
   "cell_type": "markdown",
   "id": "da82132e",
   "metadata": {},
   "source": [
    "A maioria das linguagens (C, Java, . . . ) distinguem “passagem por valor” e “passagem por referência”. Em Python, tal distinção é um tanto artificial, e é uma\n",
    "pouco sutil se suas variáveis ​​serão modificadas ou não. Felizmente, existem regras claras.\n",
    "\n",
    "Parâmetros para funções são referências a objetos, que são passados ​​por valor. Quando você passa uma variável para uma função, o python passa a referência ao objeto ao qual a variável se refere (o valor). Não a variável em si.\n",
    "\n",
    "- Se o valor passado em uma função for imutável, a função não modifica a variável do chamador.\n",
    "- Se o valor for mutável, a função pode modificar a variável do chamador no local:"
   ]
  },
  {
   "cell_type": "markdown",
   "id": "46e2178d",
   "metadata": {},
   "source": [
    "### Exemplo"
   ]
  },
  {
   "cell_type": "code",
   "execution_count": 219,
   "id": "caf8547a",
   "metadata": {},
   "outputs": [],
   "source": [
    "def try_to_modify(x, y):\n",
    "    x = 23\n",
    "    y.append(42)\n",
    "    print(x,y)"
   ]
  },
  {
   "cell_type": "code",
   "execution_count": 220,
   "id": "ecb505c1",
   "metadata": {},
   "outputs": [],
   "source": [
    "a = 58\n",
    "b = [12,13]"
   ]
  },
  {
   "cell_type": "code",
   "execution_count": 221,
   "id": "9ff3fd94",
   "metadata": {},
   "outputs": [
    {
     "name": "stdout",
     "output_type": "stream",
     "text": [
      "23 [12, 13, 42]\n"
     ]
    }
   ],
   "source": [
    "try_to_modify(a, b)"
   ]
  },
  {
   "cell_type": "code",
   "execution_count": 222,
   "id": "dcd1911d",
   "metadata": {},
   "outputs": [
    {
     "name": "stdout",
     "output_type": "stream",
     "text": [
      "58 [12, 13, 42]\n"
     ]
    }
   ],
   "source": [
    "print(a,b)"
   ]
  },
  {
   "cell_type": "markdown",
   "id": "8a251f2e",
   "metadata": {},
   "source": [
    "\n",
    "Observe que `a` não mudou.\n",
    "A variável `x` só existe dentro da função `try_to_modify`."
   ]
  },
  {
   "cell_type": "markdown",
   "id": "5028009a",
   "metadata": {},
   "source": [
    "O que acontece se executarmos `try_to_modify(b, c)` ?"
   ]
  },
  {
   "cell_type": "code",
   "execution_count": 224,
   "id": "1d983bfa",
   "metadata": {},
   "outputs": [],
   "source": [
    "c = [1,2]"
   ]
  },
  {
   "cell_type": "code",
   "execution_count": 225,
   "id": "4926bfaf",
   "metadata": {},
   "outputs": [
    {
     "name": "stdout",
     "output_type": "stream",
     "text": [
      "23 [1, 2, 42]\n"
     ]
    }
   ],
   "source": [
    "try_to_modify(b, c)"
   ]
  },
  {
   "cell_type": "code",
   "execution_count": 226,
   "id": "bd3169db",
   "metadata": {},
   "outputs": [
    {
     "name": "stdout",
     "output_type": "stream",
     "text": [
      "[12, 13, 42] [1, 2, 42]\n"
     ]
    }
   ],
   "source": [
    "print(b,c)"
   ]
  },
  {
   "cell_type": "markdown",
   "id": "e82dd060",
   "metadata": {},
   "source": [
    "\n",
    "Observe que `b` não mudou, enquanto` c` tem um novo elemento."
   ]
  },
  {
   "cell_type": "markdown",
   "id": "88b217b1",
   "metadata": {},
   "source": [
    "### Variáveis ​​globais\n",
    "\n",
    "Variáveis ​​declaradas fora da função podem ser referenciadas dentro da função.\n",
    "\n",
    "Mas essas variáveis ​​**globais** não podem ser modificadas dentro da função, a menos que sejam declaradas **globais** na função"
   ]
  },
  {
   "cell_type": "code",
   "execution_count": 227,
   "id": "9198e5cd",
   "metadata": {},
   "outputs": [],
   "source": [
    "x = 5"
   ]
  },
  {
   "cell_type": "code",
   "execution_count": 228,
   "id": "e3dd0832",
   "metadata": {},
   "outputs": [],
   "source": [
    "def addx(y):\n",
    "    return x + y"
   ]
  },
  {
   "cell_type": "code",
   "execution_count": 229,
   "id": "6909aa95",
   "metadata": {},
   "outputs": [
    {
     "data": {
      "text/plain": [
       "15"
      ]
     },
     "execution_count": 229,
     "metadata": {},
     "output_type": "execute_result"
    }
   ],
   "source": [
    "addx(10)"
   ]
  },
  {
   "cell_type": "code",
   "execution_count": 230,
   "id": "b9f9b122",
   "metadata": {},
   "outputs": [
    {
     "data": {
      "text/plain": [
       "5"
      ]
     },
     "execution_count": 230,
     "metadata": {},
     "output_type": "execute_result"
    }
   ],
   "source": [
    "x"
   ]
  },
  {
   "cell_type": "code",
   "execution_count": 231,
   "id": "b372125b",
   "metadata": {},
   "outputs": [],
   "source": [
    "def setx(y):\n",
    "    x = y #observe que estamos tentando modificar x\n",
    "    print('x is %d ' % x)"
   ]
  },
  {
   "cell_type": "code",
   "execution_count": 232,
   "id": "33412ff3",
   "metadata": {},
   "outputs": [
    {
     "name": "stdout",
     "output_type": "stream",
     "text": [
      "x is 10 \n"
     ]
    }
   ],
   "source": [
    "setx(10)"
   ]
  },
  {
   "cell_type": "code",
   "execution_count": 234,
   "id": "9b535a94",
   "metadata": {},
   "outputs": [
    {
     "data": {
      "text/plain": [
       "5"
      ]
     },
     "execution_count": 234,
     "metadata": {},
     "output_type": "execute_result"
    }
   ],
   "source": [
    "x #mas isso não funciona"
   ]
  },
  {
   "cell_type": "markdown",
   "id": "5cd9e2cd",
   "metadata": {},
   "source": [
    "Para funcionar corretamente, devemos definir `x` como `global`."
   ]
  },
  {
   "cell_type": "code",
   "execution_count": 235,
   "id": "2bb73111",
   "metadata": {},
   "outputs": [],
   "source": [
    "def setx_work(y):\n",
    "    global x\n",
    "    x = y\n",
    "    print('x is %d ' % x)"
   ]
  },
  {
   "cell_type": "code",
   "execution_count": 236,
   "id": "3a6f7144",
   "metadata": {},
   "outputs": [
    {
     "name": "stdout",
     "output_type": "stream",
     "text": [
      "x is 10 \n"
     ]
    }
   ],
   "source": [
    "setx_work(10)"
   ]
  },
  {
   "cell_type": "code",
   "execution_count": 237,
   "id": "0c3c2b98",
   "metadata": {},
   "outputs": [
    {
     "data": {
      "text/plain": [
       "10"
      ]
     },
     "execution_count": 237,
     "metadata": {},
     "output_type": "execute_result"
    }
   ],
   "source": [
    "x"
   ]
  },
  {
   "cell_type": "markdown",
   "id": "6db672a6",
   "metadata": {},
   "source": [
    "### Número variável de parâmetros\n",
    "\n",
    "**Formas especiais de parâmetros:**\n",
    "    \n",
    "- *args: qualquer número de argumentos posicionais empacotados em uma tupla\n",
    "- **kwargs: qualquer número de argumentos de palavra-chave compactados em um dicionário"
   ]
  },
  {
   "cell_type": "code",
   "execution_count": 238,
   "id": "d270525a",
   "metadata": {},
   "outputs": [],
   "source": [
    "def variable_args(*args, **kwargs):\n",
    "    print('args: ', args)\n",
    "    print('kwargs: ', kwargs)"
   ]
  },
  {
   "cell_type": "code",
   "execution_count": 239,
   "id": "d9e44c9e",
   "metadata": {},
   "outputs": [
    {
     "name": "stdout",
     "output_type": "stream",
     "text": [
      "args:  ('one', 'two')\n",
      "kwargs:  {'x': 1, 'y': 2, 'z': 3}\n"
     ]
    }
   ],
   "source": [
    "variable_args('one', 'two', x=1, y=2, z=3)"
   ]
  },
  {
   "cell_type": "markdown",
   "id": "f8ca65d1",
   "metadata": {},
   "source": [
    "### Docstrings\n",
    "\n",
    "**Documentação sobre o que a função faz e seus parâmetros.**"
   ]
  },
  {
   "cell_type": "code",
   "execution_count": 241,
   "id": "6cb64538",
   "metadata": {},
   "outputs": [],
   "source": [
    "def ncomplex(real=0.0, imag=0.0):\n",
    "    \"\"\"Form a complex number.\n",
    "\n",
    "    Keyword arguments:\n",
    "    real -- the real part (default 0.0)\n",
    "    imag -- the imaginary part (default 0.0)\n",
    "    \n",
    "    Returns:\n",
    "    The complex number real+j*imag\n",
    "    \"\"\"\n",
    "    return complex(2,3)"
   ]
  },
  {
   "cell_type": "code",
   "execution_count": 242,
   "id": "c787908f",
   "metadata": {},
   "outputs": [
    {
     "data": {
      "text/plain": [
       "(2+3j)"
      ]
     },
     "execution_count": 242,
     "metadata": {},
     "output_type": "execute_result"
    }
   ],
   "source": [
    "ncomplex(2,3)"
   ]
  },
  {
   "cell_type": "markdown",
   "id": "46706ff2",
   "metadata": {},
   "source": [
    "### Funções são objetos\n",
    "\n",
    "Eles podem ser:\n",
    "\n",
    "- atribuído a uma variável\n",
    "- um item em uma lista (ou qualquer coleção)"
   ]
  },
  {
   "cell_type": "code",
   "execution_count": 243,
   "id": "169034a3",
   "metadata": {},
   "outputs": [],
   "source": [
    "va = ncomplex"
   ]
  },
  {
   "cell_type": "code",
   "execution_count": 244,
   "id": "d90b3575",
   "metadata": {},
   "outputs": [
    {
     "data": {
      "text/plain": [
       "(2+3j)"
      ]
     },
     "execution_count": 244,
     "metadata": {},
     "output_type": "execute_result"
    }
   ],
   "source": [
    "va(1,2)"
   ]
  },
  {
   "cell_type": "code",
   "execution_count": 245,
   "id": "ad094d39",
   "metadata": {},
   "outputs": [],
   "source": [
    "list_of_functions = [ncomplex,variable_args]"
   ]
  },
  {
   "cell_type": "code",
   "execution_count": 246,
   "id": "f64ca3d5",
   "metadata": {},
   "outputs": [
    {
     "data": {
      "text/plain": [
       "(2+3j)"
      ]
     },
     "execution_count": 246,
     "metadata": {},
     "output_type": "execute_result"
    }
   ],
   "source": [
    "list_of_functions[0](1,2)"
   ]
  },
  {
   "cell_type": "code",
   "execution_count": 248,
   "id": "f86ba259",
   "metadata": {},
   "outputs": [
    {
     "name": "stdout",
     "output_type": "stream",
     "text": [
      "args:  (1, 2)\n",
      "kwargs:  {'text': 'test'}\n"
     ]
    }
   ],
   "source": [
    "list_of_functions[1](1,2,text='test')"
   ]
  },
  {
   "cell_type": "markdown",
   "id": "216bbfd7",
   "metadata": {},
   "source": [
    "### Exercício\n",
    "\n",
    "Escreva uma função que exiba os n primeiros termos da sequência de Fibonacci, definida por:\n",
    "\n",
    "$$\n",
    "\\begin{cases}\n",
    "x_0 = 0\\\\\n",
    "x_1 = 1\\\\\n",
    "x_{n+2} = x_{n+1}+x_{n}\n",
    "\\end{cases}\n",
    "$$"
   ]
  },
  {
   "cell_type": "code",
   "execution_count": 249,
   "id": "aeb68eb7",
   "metadata": {},
   "outputs": [],
   "source": [
    "# %load ../extras/solutions/fibonacci.py\n",
    "def fibonacci(n):\n",
    "    \"\"\"Display the n first terms of Fibonacci sequence\"\"\"\n",
    "    a, b = 0, 1\n",
    "    i = 0\n",
    "    print(b)\n",
    "    while i < n:\n",
    "        print(b)\n",
    "        a, b = b, a+b\n",
    "        i +=1"
   ]
  },
  {
   "cell_type": "code",
   "execution_count": 250,
   "id": "02cf2b7a",
   "metadata": {},
   "outputs": [
    {
     "name": "stdout",
     "output_type": "stream",
     "text": [
      "1\n",
      "1\n",
      "1\n",
      "2\n",
      "3\n",
      "5\n",
      "8\n",
      "13\n",
      "21\n",
      "34\n",
      "55\n"
     ]
    }
   ],
   "source": [
    "fibonacci(10)"
   ]
  },
  {
   "cell_type": "markdown",
   "id": "4d9fb6c7",
   "metadata": {},
   "source": [
    "### Exercício\n",
    "\n",
    "Modifique a função anterior para retornar uma lista."
   ]
  },
  {
   "cell_type": "code",
   "execution_count": 251,
   "id": "cef10e70",
   "metadata": {},
   "outputs": [],
   "source": [
    "def lfibonacci(n):\n",
    "    \"\"\"Display the n first terms of Fibonacci sequence\"\"\"\n",
    "    a, b = 0, 1\n",
    "    i = 0\n",
    "    l = [a]\n",
    "    while i < n:\n",
    "        l.append(b)\n",
    "        a, b = b, a+b\n",
    "        i +=1\n",
    "    return l"
   ]
  },
  {
   "cell_type": "code",
   "execution_count": 252,
   "id": "d14d4eb3",
   "metadata": {},
   "outputs": [
    {
     "data": {
      "text/plain": [
       "[0, 1, 1, 2, 3, 5, 8, 13, 21, 34, 55]"
      ]
     },
     "execution_count": 252,
     "metadata": {},
     "output_type": "execute_result"
    }
   ],
   "source": [
    "lfibonacci(10)"
   ]
  }
 ],
 "metadata": {
  "kernelspec": {
   "display_name": "Python 3",
   "language": "python",
   "name": "python3"
  },
  "language_info": {
   "codemirror_mode": {
    "name": "ipython",
    "version": 3
   },
   "file_extension": ".py",
   "mimetype": "text/x-python",
   "name": "python",
   "nbconvert_exporter": "python",
   "pygments_lexer": "ipython3",
   "version": "3.8.8"
  }
 },
 "nbformat": 4,
 "nbformat_minor": 5
}
