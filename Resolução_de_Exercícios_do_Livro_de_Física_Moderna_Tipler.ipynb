{
 "cells": [
  {
   "cell_type": "markdown",
   "metadata": {
    "id": "ywH6WLBfVh52"
   },
   "source": [
    "# **Resolução de Exercícios do Livro de Física Moderna - Tipler**"
   ]
  },
  {
   "cell_type": "markdown",
   "metadata": {
    "id": "GSOqrYeSV54m"
   },
   "source": [
    "**Exemplo 9-1**\n",
    "**Ligação Iônica do NaF**\n",
    "\n",
    " O potencial de ionização do sódio é $5,14 \\: eV$, a afinidade eletrônica do flúor é $3,40 \\: eV$ e a distância de equilíbrio do fluoreto de sódio ($NaF$) é $0,193 \\: nm$. (a) Qual é a energia necessária para formar os íons $Na^+$ e $F^-$ a partir de átomos neutros de sódio e flúor? (b) Qual é a energia potencial eletrostática dos íons $Na^+$ e $F^-$ na distância de equilíbrio? (c) A\n",
    "energia de dissociação do $NaF$ é $4,99 \\:eV$. Qual é a energia de repulsão dos íons na distância de equilíbrio?"
   ]
  },
  {
   "cell_type": "markdown",
   "metadata": {
    "id": "bqUWYRvnV7uJ"
   },
   "source": [
    "(a) Como a energia necessária para ionizar o sódio é $5,14 \\:eV$ e a afinidade eletrônica do F é $3,40 \\:eV$, a energia necessária para formar os íons $Na^+$ e $F^-$ a partir de átomos neutros de sódio e flúor é"
   ]
  },
  {
   "cell_type": "code",
   "execution_count": 1,
   "metadata": {
    "colab": {
     "base_uri": "https://localhost:8080/"
    },
    "id": "XO9nHuUeVaCZ",
    "outputId": "10265ce6-a8d7-4164-ddfc-7217644e398f"
   },
   "outputs": [
    {
     "data": {
      "text/plain": [
       "1.7399999999999998"
      ]
     },
     "execution_count": 1,
     "metadata": {},
     "output_type": "execute_result"
    }
   ],
   "source": [
    "Epi = 5.14 # eV\n",
    "Eae = 3.40 # eV\n",
    "Eion = Epi - Eae\n",
    "Eion"
   ]
  },
  {
   "cell_type": "code",
   "execution_count": 2,
   "metadata": {
    "colab": {
     "base_uri": "https://localhost:8080/"
    },
    "id": "_HSj1EWEWADu",
    "outputId": "d60e7d1a-91aa-4688-d43a-7a363652ed7f"
   },
   "outputs": [
    {
     "name": "stdout",
     "output_type": "stream",
     "text": [
      "A energia necessária para formar os íons é Eion = 1.74 eV.\n"
     ]
    }
   ],
   "source": [
    " print(\"A energia necessária para formar os íons é Eion = {:4.2f}\".format(Eion) + \" eV.\")"
   ]
  },
  {
   "cell_type": "markdown",
   "metadata": {
    "id": "Uxp77NG3WFuw"
   },
   "source": [
    "(b) A energia potencial eletrostática dos íons $Na^+$ e $F^−$ na distância de equilíbrio (tomando esta energia como nula quando os íons\n",
    "estão a uma distância infinita um do outro) é dada por"
   ]
  },
  {
   "cell_type": "code",
   "execution_count": 3,
   "metadata": {
    "colab": {
     "base_uri": "https://localhost:8080/"
    },
    "id": "3LNzbZmoWCxn",
    "outputId": "11484a53-3143-4be3-acd0-49ff70c99acf"
   },
   "outputs": [
    {
     "data": {
      "text/plain": [
       "-1.1924559585492228e-18"
      ]
     },
     "execution_count": 3,
     "metadata": {},
     "output_type": "execute_result"
    }
   ],
   "source": [
    "k = 8.99 * 10**9 #N.m2/C2\n",
    "e = 1.6 * 10**(-19) #C\n",
    "r0 = 0.193 * 10**(-9) # m\n",
    "\n",
    "Uc = - k*(e**2)/r0  # em Joules\n",
    "Uc"
   ]
  },
  {
   "cell_type": "code",
   "execution_count": 4,
   "metadata": {
    "colab": {
     "base_uri": "https://localhost:8080/"
    },
    "id": "QrsZVCCpWJFS",
    "outputId": "de55f205-0414-4f53-865e-c9ff1850228f"
   },
   "outputs": [
    {
     "name": "stdout",
     "output_type": "stream",
     "text": [
      "A energia potencial eletrostática dos íons na distância de equilíbrio é Uc = -7.44 eV.\n"
     ]
    }
   ],
   "source": [
    "# 1 Joule = 6.241506×1018 Elétron-volts\n",
    "\n",
    "Uc_eV = Uc * 6.241506*(10**18)\n",
    "\n",
    "print(\"A energia potencial eletrostática dos íons na distância de equilíbrio é Uc = {:4.2f}\".format(Uc_eV) + \" eV.\")"
   ]
  },
  {
   "cell_type": "markdown",
   "metadata": {
    "id": "R2TZ-B1HWNOP"
   },
   "source": [
    "(c) Tomando a energia potencial total da molécula quando os íons estão separados por uma distância infinita como igual a $1,74 \\:eV$ (a\n",
    "energia necessária para formar os íons a partir dos respectivos átomos neutros), o potencial eletrostático total (potencial de\n",
    "Coulomb) é dado por\n",
    "$$\n",
    "U_C = - \\frac{k e^2 }{r} + 1,74 \\:eV\n",
    "$$\n",
    "\n",
    "Na distância de equilíbrio $r_0$, essa energia é"
   ]
  },
  {
   "cell_type": "code",
   "execution_count": 5,
   "metadata": {
    "colab": {
     "base_uri": "https://localhost:8080/"
    },
    "id": "B4XfZFIzWLCi",
    "outputId": "8f4e45f3-c0c6-447f-d2d2-8762268cb0a3"
   },
   "outputs": [
    {
     "data": {
      "text/plain": [
       "-5.71"
      ]
     },
     "execution_count": 5,
     "metadata": {},
     "output_type": "execute_result"
    }
   ],
   "source": [
    "Uc = -7.45 + 1.74\n",
    "Uc"
   ]
  },
  {
   "cell_type": "markdown",
   "metadata": {
    "id": "8QD9T83JWSfT"
   },
   "source": [
    "Como o valor experimental da energia de\n",
    "dissociação é $4,99 \\:eV$, a energia de repulsão dos íons devido ao princípio de exclusão, de acordo com a Equação 9-1,\n",
    "\n",
    "$$\n",
    "U(r) = - \\frac{k e^2 }{r} + E_{ex} + E_{ion}\n",
    "$$\n",
    "\n",
    " é"
   ]
  },
  {
   "cell_type": "code",
   "execution_count": 6,
   "metadata": {
    "colab": {
     "base_uri": "https://localhost:8080/"
    },
    "id": "SgxcSyhuWQpI",
    "outputId": "3454ab66-76b4-4e93-a78a-ec75793b6534"
   },
   "outputs": [
    {
     "name": "stdout",
     "output_type": "stream",
     "text": [
      "A energia de repulsão dos íons devido ao princípio de exclusão é Eex = 0.72 eV.\n"
     ]
    }
   ],
   "source": [
    "Ediss = 4.99 # eV\n",
    "Eex = -Uc -Ediss\n",
    "\n",
    "print(\"A energia de repulsão dos íons devido ao princípio de exclusão é Eex = {:4.2f}\".format(Eex) + \" eV.\")"
   ]
  },
  {
   "cell_type": "markdown",
   "metadata": {
    "id": "uvnEBqBtWYbq"
   },
   "source": [
    "**Exemplo 9-2**\n",
    "**Repulsão pelo Princípio de Exclusão**\n",
    "\n",
    "Determine os valores de A e n na Equação 9-2 para o NaF.\n",
    "\n",
    "$$\n",
    "E_{ex} = \\frac{A }{r^n}\n",
    "$$"
   ]
  },
  {
   "cell_type": "markdown",
   "metadata": {
    "id": "aOuq5Pe2WcNZ"
   },
   "source": [
    "De acordo com o Exemplo 9-1, na distância de equilíbrio entre os íons a energia de repulsão devido ao princípio de exclusão é dada\n",
    "por\n",
    "\n",
    "$$\n",
    "E_{ex}(r_0) = \\frac{A }{r_{0}^n} = \\frac{A }{(0,193 nm)^n} = 0,72 \\:eV\n",
    "$$\n",
    "\n",
    "As forças experimentadas pelos dois íons em $r = r_0$ devem ser nulas, já que, nesse ponto, a energia potencial é mínima. Isso significa que, quando a distância entre os íons é $r_0$, a força de Coulomb $F_C$ e a força de repulsão pelo princípio de exclusão têm o mesmo módulo e sentidos opostos:\n",
    "\n",
    "$$\n",
    "F_C = -(\\frac{dU_C}{dr})_{r=r_0} = (\\frac{nA}{r^{n+1}})_{r=r_0}\n",
    "$$\n",
    "\n",
    "\n",
    "$$\n",
    "F_C = \\frac{U_C(r_0)}{r_0} = \\frac{ke^2}{r_0^{2}} = 38,7 \\:eV/nm\n",
    "$$\n",
    "\n",
    "$$\n",
    "\\frac{nA}{r_0^{n+1}} = \\frac{n}{r_0}\\frac{A}{r_0^{n}} = \\frac{n}{r_0}(0,72 eV)  = 38,7 \\:eV/nm\n",
    "$$\n"
   ]
  },
  {
   "cell_type": "code",
   "execution_count": 7,
   "metadata": {
    "colab": {
     "base_uri": "https://localhost:8080/"
    },
    "id": "XkgQOU1QWWE6",
    "outputId": "842c38fb-d9b5-4613-c164-c58c319d285e"
   },
   "outputs": [
    {
     "data": {
      "text/plain": [
       "10.373750000000005"
      ]
     },
     "execution_count": 7,
     "metadata": {},
     "output_type": "execute_result"
    }
   ],
   "source": [
    "Fc = 38.7 #eV/nm\n",
    "\n",
    "n = (Fc/Eex)*(r0*(10**9))\n",
    "n"
   ]
  },
  {
   "cell_type": "code",
   "execution_count": 8,
   "metadata": {
    "colab": {
     "base_uri": "https://localhost:8080/"
    },
    "id": "C_BDvEn1WfU0",
    "outputId": "7c97b662-f25c-4ac8-85fb-2c8ea2ede4a7"
   },
   "outputs": [
    {
     "name": "stdout",
     "output_type": "stream",
     "text": [
      "Arredondando temos n = 10\n"
     ]
    }
   ],
   "source": [
    "print(\"Arredondando temos n = {:2.0f}\".format(n))"
   ]
  },
  {
   "cell_type": "markdown",
   "metadata": {
    "id": "dB_4aEc6Wihb"
   },
   "source": [
    "o que nos dá"
   ]
  },
  {
   "cell_type": "code",
   "execution_count": 9,
   "metadata": {
    "colab": {
     "base_uri": "https://localhost:8080/"
    },
    "id": "tJGH2d7fWhCU",
    "outputId": "a252d1e8-4490-4944-cb06-4f38f4c7b28a"
   },
   "outputs": [
    {
     "name": "stdout",
     "output_type": "stream",
     "text": [
      "Arredondando temos A =  5.16e-08 eV.nm10.\n"
     ]
    }
   ],
   "source": [
    "A = Eex * ((r0*(10**9)))**10 #ev.nm10\n",
    "\n",
    "print(\"Arredondando temos A =%10.2e\"%(A) + \" eV.nm10.\")"
   ]
  },
  {
   "cell_type": "markdown",
   "metadata": {
    "id": "VZbYeZWHWouD"
   },
   "source": [
    "---------------------------------------"
   ]
  },
  {
   "cell_type": "markdown",
   "metadata": {
    "id": "_sX1p1sMWq7R"
   },
   "source": [
    "---------------------------------------------"
   ]
  },
  {
   "cell_type": "markdown",
   "metadata": {
    "id": "g0i9CrF0WvVO"
   },
   "source": [
    "# Grau de ionicidade de uma ligação\n",
    "\n",
    "O grau de ionicidade de uma ligação pode ser determinado a partir do valor do momento dipolar elétrico da molécula. Por exemplo, se a ligação no $NaCl$ fosse puramente iônica, o centro das cargas positivas estaria no íon $Na^+$ e o centro das cargas negativas estaria no íon $Cl^−$. Nesse caso, o módulo do momento dipolar elétrico seria dado por\n",
    "\n",
    "$$\n",
    "p_{iônico} = er_0\n",
    "$$\n",
    "\n",
    "em que $r_0$ é a distância de equilíbrio entre os íons. Assim, o momento dipolar do $NaCl$ seria"
   ]
  },
  {
   "cell_type": "code",
   "execution_count": 10,
   "metadata": {
    "colab": {
     "base_uri": "https://localhost:8080/"
    },
    "id": "CB4gh98WWjIj",
    "outputId": "ada3a3c8-e0c6-4449-f533-24c84a1ad73d"
   },
   "outputs": [
    {
     "name": "stdout",
     "output_type": "stream",
     "text": [
      "p_ionico =  3.78e-29 C.m.\n"
     ]
    }
   ],
   "source": [
    "e = 1.6 * 10**(-19)  #C\n",
    "r0 = 2.36 * 10**(-10) #m\n",
    "\n",
    "p_ionico = e * r0\n",
    "\n",
    "print(\"p_ionico =%10.2e\"%(p_ionico) + \" C.m.\")"
   ]
  },
  {
   "cell_type": "markdown",
   "metadata": {
    "id": "u0BXetxLW1eq"
   },
   "source": [
    "O valor experimental do momento dipolar elétrico do $NaCl$ é\n",
    "\n",
    "$$\n",
    "p_{exp} = 3,00 \\: \\times \\: 10^{-29} \\: C \\cdot m\n",
    "$$\n",
    "\n",
    "Quando a ligação é puramente covalente, o momento dipolar elétrico da molécula é zero; assim, podemos definir o grau de ionicidade de uma ligação como a razão entre $p_{exp}$ e $p_{ion}$. No caso do $NaCl$, a razão"
   ]
  },
  {
   "cell_type": "code",
   "execution_count": 11,
   "metadata": {
    "colab": {
     "base_uri": "https://localhost:8080/"
    },
    "id": "k27HdGqgWypJ",
    "outputId": "ff1c560a-e4ba-4fbe-932c-02ce49d73568"
   },
   "outputs": [
    {
     "data": {
      "text/plain": [
       "0.7944915254237286"
      ]
     },
     "execution_count": 11,
     "metadata": {},
     "output_type": "execute_result"
    }
   ],
   "source": [
    "p_exp = 3.0 * 10**(-29) # C.m\n",
    "R_exp_ion = p_exp/p_ionico\n",
    "\n",
    "R_exp_ion"
   ]
  },
  {
   "cell_type": "code",
   "execution_count": 12,
   "metadata": {
    "colab": {
     "base_uri": "https://localhost:8080/"
    },
    "id": "qDvq6ug5W4W3",
    "outputId": "629c1b53-d4fe-4900-b479-8a71b65b51dd"
   },
   "outputs": [
    {
     "name": "stdout",
     "output_type": "stream",
     "text": [
      "A ligação do NaCl é, portanto, 79.4% iônica e 20.6% covalente.\n"
     ]
    }
   ],
   "source": [
    "R_ion = R_exp_ion * 100\n",
    "R_cov = 100 - R_ion\n",
    "\n",
    "print(\"A ligação do NaCl é, portanto, {:4.1f}\".format(R_ion) + \"% iônica e {:4.1f}\".format(R_cov) + \"% covalente.\")"
   ]
  },
  {
   "cell_type": "markdown",
   "metadata": {
    "id": "rhXKC5z_W8EC"
   },
   "source": [
    "# **Exemplo 9-3** Tipo de Ligação do LiH\n",
    "O valor experimental do momento dipolar elétrico do $LiH$ é $1,96 \\times 10^{-29} C \\cdot m$. De acordo com a Tabela 9-3, a molécula é parcialmente covalente. Qual é o grau de covalência da ligação do $LiH$?"
   ]
  },
  {
   "cell_type": "markdown",
   "metadata": {
    "id": "bzFl4GqNXCEJ"
   },
   "source": [
    "A distância de equilíbrio do $LiH$ é $0,159 \\: nm$. Se a ligação fosse puramente iônica, o momento dipolar elétrico pion seria"
   ]
  },
  {
   "cell_type": "code",
   "execution_count": 13,
   "metadata": {
    "colab": {
     "base_uri": "https://localhost:8080/"
    },
    "id": "RQt-yowHW6Cf",
    "outputId": "75bb7185-81b0-44fe-88f6-882657b3435e"
   },
   "outputs": [
    {
     "name": "stdout",
     "output_type": "stream",
     "text": [
      "p_ionico =  2.54e-29 C.m.\n"
     ]
    }
   ],
   "source": [
    "e = 1.6 * 10**(-19)  #C\n",
    "r0 = 1.59 * 10**(-10) #m\n",
    "\n",
    "p_ionico = e * r0\n",
    "\n",
    "print(\"p_ionico =%10.2e\"%(p_ionico) + \" C.m.\")"
   ]
  },
  {
   "cell_type": "code",
   "execution_count": 14,
   "metadata": {
    "colab": {
     "base_uri": "https://localhost:8080/"
    },
    "id": "3JY1zvBPXFEL",
    "outputId": "db2411e1-e970-40d1-8c85-37b750b3541d"
   },
   "outputs": [
    {
     "name": "stdout",
     "output_type": "stream",
     "text": [
      "A ligação do LiH é, portanto, 77.0% iônica e 23.0% covalente.\n"
     ]
    }
   ],
   "source": [
    "p_exp = 1.96 * 10**(-29) # C.m\n",
    "R_exp_ion = p_exp/p_ionico\n",
    "\n",
    "R_ion = R_exp_ion * 100\n",
    "R_cov = 100 - R_ion\n",
    "\n",
    "print(\"A ligação do LiH é, portanto, {:4.1f}\".format(R_ion) + \"% iônica e {:4.1f}\".format(R_cov) + \"% covalente.\")"
   ]
  },
  {
   "cell_type": "markdown",
   "metadata": {
    "id": "zfUrIiBOXQOr"
   },
   "source": [
    "---------------------------------------"
   ]
  },
  {
   "cell_type": "markdown",
   "metadata": {
    "id": "T4gQPzNrXRCc"
   },
   "source": [
    "---------------------------------------"
   ]
  },
  {
   "cell_type": "markdown",
   "metadata": {
    "id": "8pHmJt3FXSHM"
   },
   "source": [
    "# **Unidade Unificada de Massa**\n",
    "\n",
    "Uma unidade de massa conveniente para estudos de física atômica e molecular é a *unidade unificada de massa*, definida como\n",
    "um doze avos da massa do átomo neutro de $carbono \\:12 \\:(^{12}C)$ e representada pela letra $u$. A massa de um átomo de $^{12}C$ é,\n",
    "portanto, $12 u$. A massa de um átomo em unidades unificadas de massa é numericamente igual à massa molar do átomo em\n",
    "gramas. As relações entre a unidade unificada de massa, o quilograma e o elétron-volt são as seguintes:\n",
    "\n",
    "$$\n",
    "1\\:u = \\frac{1\\:g}{N_A} = \\frac{10^{-3}\\:kg}{6,221\\: \\times \\: 10^{23}}\n",
    "$$\n",
    "\n",
    "Sendo $N_A$ o número de Avogadro"
   ]
  },
  {
   "cell_type": "code",
   "execution_count": 15,
   "metadata": {
    "colab": {
     "base_uri": "https://localhost:8080/"
    },
    "id": "SAdbf6FSXHcC",
    "outputId": "5b1d01c1-fe8d-4b13-926d-e6610dce244d"
   },
   "outputs": [
    {
     "name": "stdout",
     "output_type": "stream",
     "text": [
      "1u é igual a  1.607e-27 kg\n"
     ]
    }
   ],
   "source": [
    "u = (10**(-3))/(6.221*10**(23))\n",
    "print(\"1u é igual a %10.3e\"%(u) + \" kg\")"
   ]
  },
  {
   "cell_type": "markdown",
   "metadata": {
    "id": "i-i7DGXcXZDE"
   },
   "source": [
    "1 kilogram [kg] = 5.60958616721986E+35 electron-volt [eV]"
   ]
  },
  {
   "cell_type": "code",
   "execution_count": 16,
   "metadata": {
    "colab": {
     "base_uri": "https://localhost:8080/"
    },
    "id": "J7WdSEGfXWM_",
    "outputId": "28f39192-dd03-471c-b07f-95a6779d4a8b"
   },
   "outputs": [
    {
     "name": "stdout",
     "output_type": "stream",
     "text": [
      "1u é igual a  9.017e+08 ev\n"
     ]
    }
   ],
   "source": [
    "u_ev = u * 5.60958616721986*10**35\n",
    "\n",
    "print(\"1u é igual a %10.3e\"%(u_ev) + \" ev\")"
   ]
  }
 ],
 "metadata": {
  "colab": {
   "provenance": []
  },
  "kernelspec": {
   "display_name": "Python 3",
   "language": "python",
   "name": "python3"
  },
  "language_info": {
   "codemirror_mode": {
    "name": "ipython",
    "version": 3
   },
   "file_extension": ".py",
   "mimetype": "text/x-python",
   "name": "python",
   "nbconvert_exporter": "python",
   "pygments_lexer": "ipython3",
   "version": "3.8.8"
  }
 },
 "nbformat": 4,
 "nbformat_minor": 1
}
