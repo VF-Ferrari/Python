{
 "cells": [
  {
   "cell_type": "markdown",
   "id": "d357428d",
   "metadata": {},
   "source": [
    "# Resolvendo Operações Aritméticas"
   ]
  },
  {
   "cell_type": "code",
   "execution_count": 77,
   "id": "dab88ea8",
   "metadata": {},
   "outputs": [],
   "source": [
    "from sympy import *                #Importa a biblioteca sympy (usada para cálculo)\n",
    "%matplotlib inline\n",
    "from sympy.plotting import *\n",
    "x = symbols ('x')                  #Declaração das letras x,y,z como partes da equação\n",
    "init_printing (use_unicode=True)   #Dá a coordenada de como imprimir as equações na tela"
   ]
  },
  {
   "cell_type": "markdown",
   "id": "ef147fd1",
   "metadata": {},
   "source": [
    "### *Para mostrar a equação \"bonitinha\" na tela, pode-se fazer de duas formas diferentes - Escrevendo em uma caixa de texto (Markdown) com as notações do LaTeX ou dentro de uma caixa de código (Code) por meio da notação da biblioteca importada.*"
   ]
  },
  {
   "cell_type": "markdown",
   "id": "084d5909",
   "metadata": {},
   "source": [
    "## Operações Básicas"
   ]
  },
  {
   "cell_type": "markdown",
   "id": "4a700036",
   "metadata": {},
   "source": [
    "**Frações** $\\dfrac{3x+2}{4}$"
   ]
  },
  {
   "cell_type": "code",
   "execution_count": 78,
   "id": "13089a99",
   "metadata": {},
   "outputs": [
    {
     "data": {
      "image/png": "[encoded data removed]",
      "text/latex": [
       "$\\displaystyle \\frac{3 x}{4} + \\frac{1}{2}$"
      ],
      "text/plain": [
       "3⋅x   1\n",
       "─── + ─\n",
       " 4    2"
      ]
     },
     "execution_count": 78,
     "metadata": {},
     "output_type": "execute_result"
    }
   ],
   "source": [
    "((3*x+2)/4)"
   ]
  },
  {
   "cell_type": "markdown",
   "id": "6c4afa06",
   "metadata": {},
   "source": [
    "**Raiz Quadrada** $\\sqrt{x}$    **ou**  $\\sqrt[n]{x}$"
   ]
  },
  {
   "cell_type": "markdown",
   "id": "fab45547",
   "metadata": {},
   "source": [
    "**Atribuindo valroes** "
   ]
  },
  {
   "cell_type": "markdown",
   "id": "d7dca619",
   "metadata": {},
   "source": [
    "## Equações"
   ]
  },
  {
   "cell_type": "code",
   "execution_count": null,
   "id": "13b5de01",
   "metadata": {},
   "outputs": [],
   "source": []
  },
  {
   "cell_type": "markdown",
   "id": "47a35f81",
   "metadata": {},
   "source": [
    "## Matriz"
   ]
  },
  {
   "cell_type": "markdown",
   "id": "33f7f9c9",
   "metadata": {},
   "source": [
    "**Escrever a Matriz em LaTeX AQUI**"
   ]
  },
  {
   "cell_type": "code",
   "execution_count": 79,
   "id": "adb19e64",
   "metadata": {},
   "outputs": [
    {
     "data": {
      "text/latex": [
       "$\\displaystyle \\left[\\begin{matrix}1 & -1 & 3\\\\3 & 4 & 0\\\\0 & 2 & 6\\\\2 & 7 & 9\\end{matrix}\\right]$"
      ],
      "text/plain": [
       "⎡1  -1  3⎤\n",
       "⎢        ⎥\n",
       "⎢3  4   0⎥\n",
       "⎢        ⎥\n",
       "⎢0  2   6⎥\n",
       "⎢        ⎥\n",
       "⎣2  7   9⎦"
      ]
     },
     "execution_count": 79,
     "metadata": {},
     "output_type": "execute_result"
    }
   ],
   "source": [
    "Matrix([[1, -1, 3], [3, 4, 0], [0, 2, 6], [2, 7, 9]])         #Matrix = Mostra matriz"
   ]
  },
  {
   "cell_type": "markdown",
   "id": "bbf36ddd",
   "metadata": {},
   "source": [
    "## Limites"
   ]
  },
  {
   "cell_type": "markdown",
   "id": "671d1184",
   "metadata": {},
   "source": [
    "**Escrevendo o limite**  $\\displaystyle \\lim_{x\\to4} \\dfrac{\\cos(x)-1}{x}$"
   ]
  },
  {
   "cell_type": "code",
   "execution_count": 80,
   "id": "be2598cc",
   "metadata": {},
   "outputs": [
    {
     "data": {
      "image/png": "[encoded data removed]",
      "text/latex": [
       "$\\displaystyle \\lim_{x \\to 4^+}\\left(\\frac{\\cos{\\left(x \\right)} - 1}{x}\\right)$"
      ],
      "text/plain": [
       "     ⎛cos(x) - 1⎞\n",
       " lim ⎜──────────⎟\n",
       "x─→4⁺⎝    x     ⎠"
      ]
     },
     "execution_count": 80,
     "metadata": {},
     "output_type": "execute_result"
    }
   ],
   "source": [
    "Limit((cos(x) - 1)/x, x, 4)            #Limit = Escreve/Mostra o limite ANTES de ser resolvida/cálculado"
   ]
  },
  {
   "cell_type": "code",
   "execution_count": 81,
   "id": "01d9c25b",
   "metadata": {},
   "outputs": [
    {
     "data": {
      "image/png": "[encoded data removed]",
      "text/latex": [
       "$\\displaystyle - \\frac{1}{4} + \\frac{\\cos{\\left(4 \\right)}}{4}$"
      ],
      "text/plain": [
       "  1   cos(4)\n",
       "- ─ + ──────\n",
       "  4     4   "
      ]
     },
     "execution_count": 81,
     "metadata": {},
     "output_type": "execute_result"
    }
   ],
   "source": [
    "Limit((cos(x)-1)/x, x, 4).doit()     #.doit = Cálcula o limte da função escrita, mas é precisa ter o \"Limit\" na frente"
   ]
  },
  {
   "cell_type": "code",
   "execution_count": 82,
   "id": "46c5d7e4",
   "metadata": {},
   "outputs": [
    {
     "data": {
      "image/png": "[encoded data removed]",
      "text/latex": [
       "$\\displaystyle - \\frac{1}{4} + \\frac{\\cos{\\left(4 \\right)}}{4}$"
      ],
      "text/plain": [
       "  1   cos(4)\n",
       "- ─ + ──────\n",
       "  4     4   "
      ]
     },
     "execution_count": 82,
     "metadata": {},
     "output_type": "execute_result"
    }
   ],
   "source": [
    "limit((cos(x)-1)/x, x, 4)            #limit = Também cálculo o limite da fução escrita"
   ]
  },
  {
   "cell_type": "code",
   "execution_count": 83,
   "id": "339e078d",
   "metadata": {},
   "outputs": [
    {
     "data": {
      "image/png": "[encoded data removed]",
      "text/latex": [
       "$\\displaystyle -0.413410905215903$"
      ],
      "text/plain": [
       "-0.413410905215903"
      ]
     },
     "execution_count": 83,
     "metadata": {},
     "output_type": "execute_result"
    }
   ],
   "source": [
    "Limit((cos(x)-1)/x, x, 4).doit().evalf()   #.doit = Cálcula o limte da função escrita, mas é precisa ter o \"Limit\" na frente"
   ]
  },
  {
   "cell_type": "markdown",
   "id": "3ea8020e",
   "metadata": {},
   "source": [
    "## Derivadas"
   ]
  },
  {
   "cell_type": "markdown",
   "id": "acf9cfc1",
   "metadata": {},
   "source": [
    "**Função** $x^2+sin(x)$"
   ]
  },
  {
   "cell_type": "code",
   "execution_count": 84,
   "id": "4ab47605",
   "metadata": {},
   "outputs": [
    {
     "data": {
      "image/png": "[encoded data removed]",
      "text/latex": [
       "$\\displaystyle x^{2} + \\sin{\\left(x \\right)}$"
      ],
      "text/plain": [
       " 2         \n",
       "x  + sin(x)"
      ]
     },
     "execution_count": 84,
     "metadata": {},
     "output_type": "execute_result"
    }
   ],
   "source": [
    "(x**2+sin(x))                      #Mostra a função escrita"
   ]
  },
  {
   "cell_type": "code",
   "execution_count": 85,
   "id": "2ec5e32e",
   "metadata": {},
   "outputs": [
    {
     "data": {
      "image/png": "[encoded data removed]",
      "text/latex": [
       "$\\displaystyle 2 x + \\cos{\\left(x \\right)}$"
      ],
      "text/plain": [
       "2⋅x + cos(x)"
      ]
     },
     "execution_count": 85,
     "metadata": {},
     "output_type": "execute_result"
    }
   ],
   "source": [
    "(x**2+sin(x)).diff(x)              #.diff(x) = cálcula a primeira derivada (Diferencial) da função que foi escrita = Derivada (Derivada Primeira)"
   ]
  },
  {
   "cell_type": "code",
   "execution_count": 86,
   "id": "b002fe20",
   "metadata": {},
   "outputs": [
    {
     "data": {
      "image/png": "[encoded data removed]",
      "text/latex": [
       "$\\displaystyle 2 - \\sin{\\left(x \\right)}$"
      ],
      "text/plain": [
       "2 - sin(x)"
      ]
     },
     "execution_count": 86,
     "metadata": {},
     "output_type": "execute_result"
    }
   ],
   "source": [
    "(x**2+sin(x)).diff(x,x)           #.diff(x,x) = cálculo a segunda derivada da função que foi escrita = Derivada (Derivada Segunda)"
   ]
  },
  {
   "cell_type": "code",
   "execution_count": 87,
   "id": "60fee9ee",
   "metadata": {},
   "outputs": [
    {
     "data": {
      "image/png": "[encoded data removed]",
      "text/latex": [
       "$\\displaystyle - \\cos{\\left(x \\right)}$"
      ],
      "text/plain": [
       "-cos(x)"
      ]
     },
     "execution_count": 87,
     "metadata": {},
     "output_type": "execute_result"
    }
   ],
   "source": [
    "(x**2+sin(x)).diff(x,x,x)         #.diff(x,x,x) = cálcula a terceira derivada da função que foi escrita = Derivada (Derivada terceira)"
   ]
  },
  {
   "cell_type": "code",
   "execution_count": 88,
   "id": "ac039892",
   "metadata": {},
   "outputs": [
    {
     "data": {
      "image/png": "[encoded data removed]",
      "text/latex": [
       "$\\displaystyle \\frac{d}{d x} \\left(x^{2} + \\sin{\\left(x \\right)}\\right)$"
      ],
      "text/plain": [
       "d ⎛ 2         ⎞\n",
       "──⎝x  + sin(x)⎠\n",
       "dx             "
      ]
     },
     "execution_count": 88,
     "metadata": {},
     "output_type": "execute_result"
    }
   ],
   "source": [
    "Derivative(x**2+sin(x))           #Derivative = Escreve/Mostra a função ANTES de ser resolvida/derivada"
   ]
  },
  {
   "cell_type": "code",
   "execution_count": 89,
   "id": "7aec971d",
   "metadata": {},
   "outputs": [
    {
     "data": {
      "image/png": "[encoded data removed]",
      "text/latex": [
       "$\\displaystyle 2 x + \\cos{\\left(x \\right)}$"
      ],
      "text/plain": [
       "2⋅x + cos(x)"
      ]
     },
     "execution_count": 89,
     "metadata": {},
     "output_type": "execute_result"
    }
   ],
   "source": [
    "Derivative(x**2+sin(x)).doit()    #.doit = Cálcula a derivada da função escrita, mas é preciso ter o \"Derivative\" na frente"
   ]
  },
  {
   "cell_type": "markdown",
   "id": "711700b0",
   "metadata": {},
   "source": [
    "## Integrais"
   ]
  },
  {
   "cell_type": "markdown",
   "id": "249a6730",
   "metadata": {},
   "source": [
    "**Integral Simples Indefinida** ${\\displaystyle \\int x^{2}+e^{x}\\sin(x)\\,dx}$"
   ]
  },
  {
   "cell_type": "code",
   "execution_count": 90,
   "id": "a4aff92f",
   "metadata": {},
   "outputs": [
    {
     "data": {
      "image/png": "[encoded data removed]",
      "text/latex": [
       "$\\displaystyle \\int \\left(x^{2} + e^{x} \\sin{\\left(x \\right)}\\right)\\, dx$"
      ],
      "text/plain": [
       "⌠                    \n",
       "⎮ ⎛ 2    x       ⎞   \n",
       "⎮ ⎝x  + ℯ ⋅sin(x)⎠ dx\n",
       "⌡                    "
      ]
     },
     "execution_count": 90,
     "metadata": {},
     "output_type": "execute_result"
    }
   ],
   "source": [
    "Integral(x**2+sin(x)*exp(x))        #Integral = Escreve/Mostra a integral ANTES de ser resolvida/integrada"
   ]
  },
  {
   "cell_type": "code",
   "execution_count": 91,
   "id": "2fa450f3",
   "metadata": {},
   "outputs": [
    {
     "data": {
      "image/png": "[encoded data removed]",
      "text/latex": [
       "$\\displaystyle \\frac{x^{3}}{3} + \\frac{e^{x} \\sin{\\left(x \\right)}}{2} - \\frac{e^{x} \\cos{\\left(x \\right)}}{2}$"
      ],
      "text/plain": [
       " 3    x           x       \n",
       "x    ℯ ⋅sin(x)   ℯ ⋅cos(x)\n",
       "── + ───────── - ─────────\n",
       "3        2           2    "
      ]
     },
     "execution_count": 91,
     "metadata": {},
     "output_type": "execute_result"
    }
   ],
   "source": [
    "Integral(x**2+sin(x)*exp(x)).doit() #.doit = Cálcula a integral da função escrita, mas é precisa ter o \"Integral\" na frente"
   ]
  },
  {
   "cell_type": "markdown",
   "id": "55a77aac",
   "metadata": {},
   "source": [
    "**Integral Simples Definida** ${\\displaystyle \\int_{0}^{2} x^{2}+e^{x}\\sin(x)\\,dx}$"
   ]
  },
  {
   "cell_type": "code",
   "execution_count": 92,
   "id": "1d3166f7",
   "metadata": {},
   "outputs": [
    {
     "data": {
      "image/png": "[encoded data removed]",
      "text/latex": [
       "$\\displaystyle \\int\\limits_{0}^{2} \\left(x^{2} + e^{x} \\sin{\\left(x \\right)}\\right)\\, dx$"
      ],
      "text/plain": [
       "2                    \n",
       "⌠                    \n",
       "⎮ ⎛ 2    x       ⎞   \n",
       "⎮ ⎝x  + ℯ ⋅sin(x)⎠ dx\n",
       "⌡                    \n",
       "0                    "
      ]
     },
     "execution_count": 92,
     "metadata": {},
     "output_type": "execute_result"
    }
   ],
   "source": [
    "Integral(x**2+sin(x)*exp(x),(x,0,2))        #Integral = Escreve/Mostra a função ANTES de ser resolvida/integrada"
   ]
  },
  {
   "cell_type": "code",
   "execution_count": 93,
   "id": "2d5ba30f",
   "metadata": {},
   "outputs": [
    {
     "data": {
      "image/png": "[encoded data removed]",
      "text/latex": [
       "$\\displaystyle - \\frac{e^{2} \\cos{\\left(2 \\right)}}{2} + \\frac{19}{6} + \\frac{e^{2} \\sin{\\left(2 \\right)}}{2}$"
      ],
      "text/plain": [
       "   2                2       \n",
       "  ℯ ⋅cos(2)   19   ℯ ⋅sin(2)\n",
       "- ───────── + ── + ─────────\n",
       "      2       6        2    "
      ]
     },
     "execution_count": 93,
     "metadata": {},
     "output_type": "execute_result"
    }
   ],
   "source": [
    "Integral(x**2+sin(x)*exp(x),(x,0,2)).doit() #.doit() = Calcula a integral da função escrita respeitando os limites de integração"
   ]
  },
  {
   "cell_type": "code",
   "execution_count": 94,
   "id": "4c77f848",
   "metadata": {},
   "outputs": [
    {
     "data": {
      "image/png": "[encoded data removed]",
      "text/latex": [
       "$\\displaystyle 8.06355767570047$"
      ],
      "text/plain": [
       "8.06355767570047"
      ]
     },
     "execution_count": 94,
     "metadata": {},
     "output_type": "execute_result"
    }
   ],
   "source": [
    "Integral(x**2+sin(x)*exp(x),(x,0,2)).doit().evalf()  #.evalf() = Retorna o valor numérico da integração"
   ]
  },
  {
   "cell_type": "code",
   "execution_count": 95,
   "id": "be15969b",
   "metadata": {},
   "outputs": [
    {
     "data": {
      "image/png": "[encoded data removed]",
      "text/latex": [
       "$\\displaystyle 8.06$"
      ],
      "text/plain": [
       "8.06"
      ]
     },
     "execution_count": 95,
     "metadata": {},
     "output_type": "execute_result"
    }
   ],
   "source": [
    "Integral(x**2+sin(x)*exp(x),(x,0,2)).doit().evalf(3) #.evalf(n) = o número dentro do parenteses limita o número de casas decimais quando for mostrar o resultado do cálculo"
   ]
  },
  {
   "cell_type": "markdown",
   "id": "810b635b",
   "metadata": {},
   "source": [
    "**Integral Simples Definida com Limites de Integração no Infinito** $\\displaystyle \\int_{-\\infty}^{\\infty} x^2+ e^x \\sin(x)$"
   ]
  },
  {
   "cell_type": "code",
   "execution_count": 96,
   "id": "37a7be6d",
   "metadata": {},
   "outputs": [
    {
     "data": {
      "image/png": "[encoded data removed]",
      "text/latex": [
       "$\\displaystyle \\int\\limits_{-\\infty}^{\\infty} \\left(x^{2} + e^{x} \\sin{\\left(x \\right)}\\right)\\, dx$"
      ],
      "text/plain": [
       "∞                     \n",
       "⌠                     \n",
       "⎮  ⎛ 2    x       ⎞   \n",
       "⎮  ⎝x  + ℯ ⋅sin(x)⎠ dx\n",
       "⌡                     \n",
       "-∞                    "
      ]
     },
     "execution_count": 96,
     "metadata": {},
     "output_type": "execute_result"
    }
   ],
   "source": [
    "Integral(x**2+sin(x)*exp(x),(x,-oo,oo))      #Integral com os limites no infinito"
   ]
  },
  {
   "cell_type": "markdown",
   "id": "8a201b8b",
   "metadata": {},
   "source": [
    "**Integral Dupla Indefinida** $\\displaystyle \\iint \\dfrac{\\sqrt{\\tan (x)} + 1}{3 \\pi+\\log{x}^2} dx$"
   ]
  },
  {
   "cell_type": "code",
   "execution_count": 97,
   "id": "d8969eb8",
   "metadata": {},
   "outputs": [
    {
     "data": {
      "image/png": "[encoded data removed]",
      "text/latex": [
       "$\\displaystyle \\iint \\frac{\\sqrt{\\tan{\\left(x \\right)}} + 1}{\\log{\\left(x^{2} \\right)} + 3 \\pi}\\, dx\\, dx$"
      ],
      "text/plain": [
       "⌠ ⌠                     \n",
       "⎮ ⎮   ________          \n",
       "⎮ ⎮ ╲╱ tan(x)  + 1      \n",
       "⎮ ⎮ ────────────── dx dx\n",
       "⎮ ⎮    ⎛ 2⎞             \n",
       "⎮ ⎮ log⎝x ⎠ + 3⋅π       \n",
       "⌡ ⌡                     "
      ]
     },
     "execution_count": 97,
     "metadata": {},
     "output_type": "execute_result"
    }
   ],
   "source": [
    "Integral(Integral (((sqrt(tan(x)))+1)/(3*pi+log(x**2))))"
   ]
  },
  {
   "cell_type": "markdown",
   "id": "6a13998a",
   "metadata": {},
   "source": [
    "#### Integral Tripla Indefinida $\\displaystyle \\iiint x^2 dx$"
   ]
  },
  {
   "cell_type": "code",
   "execution_count": null,
   "id": "919a0bb6",
   "metadata": {},
   "outputs": [],
   "source": []
  },
  {
   "cell_type": "markdown",
   "id": "111f436a",
   "metadata": {},
   "source": [
    "#### Integral de Linha Indefinida $\\displaystyle \\oint x^2 dx$"
   ]
  },
  {
   "cell_type": "code",
   "execution_count": null,
   "id": "628f46fd",
   "metadata": {},
   "outputs": [],
   "source": []
  },
  {
   "cell_type": "markdown",
   "id": "379e7ae9",
   "metadata": {},
   "source": [
    "#### Integral de Superfície Indefinida $\\displaystyle \\varoiint x^2 dx$"
   ]
  },
  {
   "cell_type": "code",
   "execution_count": null,
   "id": "8adb345b",
   "metadata": {},
   "outputs": [],
   "source": []
  }
 ],
 "metadata": {
  "kernelspec": {
   "display_name": "Python 3",
   "language": "python",
   "name": "python3"
  },
  "language_info": {
   "codemirror_mode": {
    "name": "ipython",
    "version": 3
   },
   "file_extension": ".py",
   "mimetype": "text/x-python",
   "name": "python",
   "nbconvert_exporter": "python",
   "pygments_lexer": "ipython3",
   "version": "3.8.8"
  }
 },
 "nbformat": 4,
 "nbformat_minor": 5
}
