{
 "cells": [
  {
   "cell_type": "markdown",
   "id": "f36208e5",
   "metadata": {},
   "source": [
    "## Scipy: computação científica de alto nível\n",
    "\n",
    "O pacote scipy contém várias caixas de ferramentas dedicadas a questões comuns em computação científica. Seus diferentes submódulos correspondem a diferentes aplicações, como interpolação, integração, otimização, processamento de imagens, estatísticas, funções especiais, etc."
   ]
  },
  {
   "cell_type": "markdown",
   "id": "a86ee8cd",
   "metadata": {},
   "source": [
    "\n",
    "#### Funções especiais: `scipy.special`"
   ]
  },
  {
   "cell_type": "code",
   "execution_count": 1,
   "id": "8e45cbd2",
   "metadata": {},
   "outputs": [],
   "source": [
    "from scipy import special"
   ]
  },
  {
   "cell_type": "code",
   "execution_count": 2,
   "id": "7aa09aa2",
   "metadata": {},
   "outputs": [
    {
     "data": {
      "text/plain": [
       "24.0"
      ]
     },
     "execution_count": 2,
     "metadata": {},
     "output_type": "execute_result"
    }
   ],
   "source": [
    "special.gamma(4+1)"
   ]
  },
  {
   "cell_type": "code",
   "execution_count": 3,
   "id": "62897b83",
   "metadata": {},
   "outputs": [],
   "source": [
    "from matplotlib import pyplot as plt\n",
    "import numpy as np\n",
    "%matplotlib inline"
   ]
  },
  {
   "cell_type": "code",
   "execution_count": 4,
   "id": "37966195",
   "metadata": {},
   "outputs": [
    {
     "data": {
      "text/plain": [
       "[<matplotlib.lines.Line2D at 0x1a8688c28e0>]"
      ]
     },
     "execution_count": 4,
     "metadata": {},
     "output_type": "execute_result"
    },
    {
     "data": {
      "image/png": "[encoded data removed]",
      "text/plain": [
       "<Figure size 432x288 with 1 Axes>"
      ]
     },
     "metadata": {
      "needs_background": "light"
     },
     "output_type": "display_data"
    }
   ],
   "source": [
    "plt.plot(special.j0(np.linspace(0,30,1000)))\n",
    "plt.plot(special.j1(np.linspace(0,30,1000)))"
   ]
  },
  {
   "cell_type": "markdown",
   "id": "5cce5ef9",
   "metadata": {},
   "source": [
    "\n",
    "#### Operações de álgebra linear: `scipy.linalg`"
   ]
  },
  {
   "cell_type": "code",
   "execution_count": 5,
   "id": "77819d48",
   "metadata": {},
   "outputs": [],
   "source": [
    "from scipy import linalg"
   ]
  },
  {
   "cell_type": "code",
   "execution_count": 6,
   "id": "16589f9b",
   "metadata": {},
   "outputs": [],
   "source": [
    "mat = np.asarray([[1,2],[3,4]])"
   ]
  },
  {
   "cell_type": "code",
   "execution_count": 7,
   "id": "91a5e07e",
   "metadata": {},
   "outputs": [
    {
     "data": {
      "text/plain": [
       "-2.0"
      ]
     },
     "execution_count": 7,
     "metadata": {},
     "output_type": "execute_result"
    }
   ],
   "source": [
    "linalg.det(mat)"
   ]
  },
  {
   "cell_type": "code",
   "execution_count": 8,
   "id": "5611fceb",
   "metadata": {},
   "outputs": [
    {
     "data": {
      "text/plain": [
       "array([-0.37228132+0.j,  5.37228132+0.j])"
      ]
     },
     "execution_count": 8,
     "metadata": {},
     "output_type": "execute_result"
    }
   ],
   "source": [
    "linalg.eigvals(mat)"
   ]
  },
  {
   "cell_type": "code",
   "execution_count": 9,
   "id": "19eb1a03",
   "metadata": {},
   "outputs": [
    {
     "data": {
      "text/plain": [
       "(array([-0.37228132+0.j,  5.37228132+0.j]),\n",
       " array([[-0.82456484, -0.41597356],\n",
       "        [ 0.56576746, -0.90937671]]))"
      ]
     },
     "execution_count": 9,
     "metadata": {},
     "output_type": "execute_result"
    }
   ],
   "source": [
    "linalg.eig(mat)"
   ]
  },
  {
   "cell_type": "code",
   "execution_count": 10,
   "id": "a4045894",
   "metadata": {},
   "outputs": [
    {
     "data": {
      "text/plain": [
       "array([[-2. ,  1. ],\n",
       "       [ 1.5, -0.5]])"
      ]
     },
     "execution_count": 10,
     "metadata": {},
     "output_type": "execute_result"
    }
   ],
   "source": [
    "linalg.inv(mat)"
   ]
  },
  {
   "cell_type": "code",
   "execution_count": 11,
   "id": "321e347b",
   "metadata": {},
   "outputs": [
    {
     "data": {
      "text/plain": [
       "array([[1.00000000e+00, 0.00000000e+00],\n",
       "       [2.22044605e-16, 1.00000000e+00]])"
      ]
     },
     "execution_count": 11,
     "metadata": {},
     "output_type": "execute_result"
    }
   ],
   "source": [
    "np.dot(linalg.inv(mat),mat)"
   ]
  },
  {
   "cell_type": "markdown",
   "id": "34b78bf7",
   "metadata": {},
   "source": [
    "\n",
    "#### Interpolação: `scipy.interpolate`"
   ]
  },
  {
   "cell_type": "code",
   "execution_count": 12,
   "id": "e583adca",
   "metadata": {},
   "outputs": [],
   "source": [
    "from scipy import interpolate"
   ]
  },
  {
   "cell_type": "code",
   "execution_count": 13,
   "id": "96fa1cfd",
   "metadata": {},
   "outputs": [],
   "source": [
    "time = np.linspace(0,2*np.pi,10)\n",
    "sin  = np.sin(time)+0.1*np.random.randn(10)"
   ]
  },
  {
   "cell_type": "code",
   "execution_count": 14,
   "id": "4dfb517f",
   "metadata": {},
   "outputs": [
    {
     "data": {
      "text/plain": [
       "[<matplotlib.lines.Line2D at 0x1a869223a30>]"
      ]
     },
     "execution_count": 14,
     "metadata": {},
     "output_type": "execute_result"
    },
    {
     "data": {
      "image/png": "[encoded data removed]",
      "text/plain": [
       "<Figure size 432x288 with 1 Axes>"
      ]
     },
     "metadata": {
      "needs_background": "light"
     },
     "output_type": "display_data"
    }
   ],
   "source": [
    "plt.plot(time,sin,'o')"
   ]
  },
  {
   "cell_type": "code",
   "execution_count": 15,
   "id": "00b28f33",
   "metadata": {},
   "outputs": [],
   "source": [
    "inter_sin = interpolate.interp1d(time,sin)"
   ]
  },
  {
   "cell_type": "code",
   "execution_count": 16,
   "id": "0617104c",
   "metadata": {},
   "outputs": [
    {
     "data": {
      "text/plain": [
       "[<matplotlib.lines.Line2D at 0x1a86928f370>]"
      ]
     },
     "execution_count": 16,
     "metadata": {},
     "output_type": "execute_result"
    },
    {
     "data": {
      "image/png": "[encoded data removed]",
      "text/plain": [
       "<Figure size 432x288 with 1 Axes>"
      ]
     },
     "metadata": {
      "needs_background": "light"
     },
     "output_type": "display_data"
    }
   ],
   "source": [
    "plt.plot(time,sin,'o')\n",
    "plt.plot(np.linspace(0,2*np.pi,200),\n",
    "         inter_sin(np.linspace(0,2*np.pi,200)))"
   ]
  },
  {
   "cell_type": "code",
   "execution_count": 17,
   "id": "d4a4b660",
   "metadata": {},
   "outputs": [],
   "source": [
    "inter3_sin = interpolate.interp1d(time,sin,kind='cubic')"
   ]
  },
  {
   "cell_type": "code",
   "execution_count": 18,
   "id": "282afb8f",
   "metadata": {},
   "outputs": [
    {
     "data": {
      "text/plain": [
       "[<matplotlib.lines.Line2D at 0x1a8692e1f40>]"
      ]
     },
     "execution_count": 18,
     "metadata": {},
     "output_type": "execute_result"
    },
    {
     "data": {
      "image/png": "[encoded data removed]",
      "text/plain": [
       "<Figure size 432x288 with 1 Axes>"
      ]
     },
     "metadata": {
      "needs_background": "light"
     },
     "output_type": "display_data"
    }
   ],
   "source": [
    "plt.plot(time,sin,'o')\n",
    "plt.plot(np.linspace(0,2*np.pi,200),\n",
    "         inter3_sin(np.linspace(0,2*np.pi,200)))"
   ]
  },
  {
   "cell_type": "markdown",
   "id": "b6754282",
   "metadata": {},
   "source": [
    "\n",
    "#### Otimização e ajuste: `scipy.optimize`"
   ]
  },
  {
   "cell_type": "code",
   "execution_count": 19,
   "id": "0b2acd36",
   "metadata": {},
   "outputs": [],
   "source": [
    "from scipy import optimize"
   ]
  },
  {
   "cell_type": "code",
   "execution_count": 20,
   "id": "04cafd05",
   "metadata": {},
   "outputs": [],
   "source": [
    "time = np.linspace(0,np.pi,50)\n",
    "sin  = 5.5*np.sin(3*time)+np.random.randn(50)"
   ]
  },
  {
   "cell_type": "code",
   "execution_count": 21,
   "id": "b444f45b",
   "metadata": {},
   "outputs": [
    {
     "data": {
      "text/plain": [
       "[<matplotlib.lines.Line2D at 0x1a869699f40>]"
      ]
     },
     "execution_count": 21,
     "metadata": {},
     "output_type": "execute_result"
    },
    {
     "data": {
      "image/png": "[encoded data removed]",
      "text/plain": [
       "<Figure size 432x288 with 1 Axes>"
      ]
     },
     "metadata": {
      "needs_background": "light"
     },
     "output_type": "display_data"
    }
   ],
   "source": [
    "plt.plot(time,sin,'o')"
   ]
  },
  {
   "cell_type": "code",
   "execution_count": 22,
   "id": "9b760ade",
   "metadata": {},
   "outputs": [],
   "source": [
    "def sin_func(t, a, omega):\n",
    "    return(a*np.sin(omega*t))"
   ]
  },
  {
   "cell_type": "code",
   "execution_count": 23,
   "id": "0998489f",
   "metadata": {},
   "outputs": [],
   "source": [
    "p, pcov = optimize.curve_fit(f=sin_func,xdata=time,ydata=sin,p0=[0,2.5],method='lm')"
   ]
  },
  {
   "cell_type": "code",
   "execution_count": 24,
   "id": "12e409a8",
   "metadata": {},
   "outputs": [],
   "source": [
    "perr = np.sqrt(np.diag(pcov))"
   ]
  },
  {
   "cell_type": "code",
   "execution_count": 25,
   "id": "b1574f8c",
   "metadata": {},
   "outputs": [
    {
     "data": {
      "text/plain": [
       "array([0.2089745 , 0.02026141])"
      ]
     },
     "execution_count": 25,
     "metadata": {},
     "output_type": "execute_result"
    }
   ],
   "source": [
    "perr"
   ]
  },
  {
   "cell_type": "code",
   "execution_count": 26,
   "id": "0d65afad",
   "metadata": {},
   "outputs": [
    {
     "data": {
      "text/plain": [
       "[<matplotlib.lines.Line2D at 0x1a869702cd0>]"
      ]
     },
     "execution_count": 26,
     "metadata": {},
     "output_type": "execute_result"
    },
    {
     "data": {
      "image/png": "[encoded data removed]",
      "text/plain": [
       "<Figure size 432x288 with 1 Axes>"
      ]
     },
     "metadata": {
      "needs_background": "light"
     },
     "output_type": "display_data"
    }
   ],
   "source": [
    "plt.plot(time,sin,'o')\n",
    "plt.plot(time,sin_func(time,*p),'--')"
   ]
  },
  {
   "cell_type": "markdown",
   "id": "d751a8de",
   "metadata": {},
   "source": [
    "\n",
    "#### Encontrando o mínimo de uma função escalar"
   ]
  },
  {
   "cell_type": "code",
   "execution_count": 27,
   "id": "875e08c1",
   "metadata": {},
   "outputs": [],
   "source": [
    "def f(x):\n",
    "    return(x**2 + 10*np.sin(x))"
   ]
  },
  {
   "cell_type": "code",
   "execution_count": 28,
   "id": "94c2829c",
   "metadata": {},
   "outputs": [
    {
     "data": {
      "text/plain": [
       "[<matplotlib.lines.Line2D at 0x1a869b764f0>]"
      ]
     },
     "execution_count": 28,
     "metadata": {},
     "output_type": "execute_result"
    },
    {
     "data": {
      "image/png": "[encoded data removed]",
      "text/plain": [
       "<Figure size 432x288 with 1 Axes>"
      ]
     },
     "metadata": {
      "needs_background": "light"
     },
     "output_type": "display_data"
    }
   ],
   "source": [
    "plt.plot(np.linspace(-10,10,100),f(np.linspace(-10,10,100)))"
   ]
  },
  {
   "cell_type": "code",
   "execution_count": 29,
   "id": "e2fd9f48",
   "metadata": {},
   "outputs": [
    {
     "data": {
      "text/plain": [
       "      fun: 8.31558557947746\n",
       " hess_inv: array([[0.11879106]])\n",
       "      jac: array([2.38418579e-07])\n",
       "  message: 'Optimization terminated successfully.'\n",
       "     nfev: 12\n",
       "      nit: 5\n",
       "     njev: 6\n",
       "   status: 0\n",
       "  success: True\n",
       "        x: array([3.83746712])"
      ]
     },
     "execution_count": 29,
     "metadata": {},
     "output_type": "execute_result"
    }
   ],
   "source": [
    "optimize.minimize(f, x0=5)"
   ]
  },
  {
   "cell_type": "code",
   "execution_count": 30,
   "id": "c453d9fb",
   "metadata": {},
   "outputs": [
    {
     "data": {
      "text/plain": [
       "      fun: -7.945823375615279\n",
       " hess_inv: array([[0.08576577]])\n",
       "      jac: array([-2.98023224e-07])\n",
       "  message: 'Optimization terminated successfully.'\n",
       "     nfev: 22\n",
       "      nit: 5\n",
       "     njev: 11\n",
       "   status: 0\n",
       "  success: True\n",
       "        x: array([-1.30644003])"
      ]
     },
     "execution_count": 30,
     "metadata": {},
     "output_type": "execute_result"
    }
   ],
   "source": [
    "optimize.minimize(f, x0=-7)"
   ]
  },
  {
   "cell_type": "markdown",
   "id": "ee42febb",
   "metadata": {},
   "source": [
    "\n",
    "#### Encontrando as raízes de uma função escalar"
   ]
  },
  {
   "cell_type": "code",
   "execution_count": 31,
   "id": "cba39d28",
   "metadata": {},
   "outputs": [
    {
     "data": {
      "text/plain": [
       "   cov_x: array([[0.01]])\n",
       "    fjac: array([[-10.00000001]])\n",
       "     fun: array([0.])\n",
       "    ipvt: array([1], dtype=int32)\n",
       " message: 'The cosine of the angle between func(x) and any column of the\\n  Jacobian is at most 0.000000 in absolute value'\n",
       "    nfev: 64\n",
       "     qtf: array([0.])\n",
       "  status: 4\n",
       " success: True\n",
       "       x: array([0.])"
      ]
     },
     "execution_count": 31,
     "metadata": {},
     "output_type": "execute_result"
    }
   ],
   "source": [
    "optimize.root(f,-5,method='lm')"
   ]
  },
  {
   "cell_type": "markdown",
   "id": "772e85d1",
   "metadata": {},
   "source": [
    "\n",
    "#### Integração numérica: `scipy.integrate`"
   ]
  },
  {
   "cell_type": "code",
   "execution_count": 32,
   "id": "11009de1",
   "metadata": {},
   "outputs": [],
   "source": [
    "from scipy import integrate"
   ]
  },
  {
   "cell_type": "code",
   "execution_count": 33,
   "id": "5534a466",
   "metadata": {},
   "outputs": [
    {
     "data": {
      "text/plain": [
       "(2.221501482512777e-16, 4.3998892617845996e-14)"
      ]
     },
     "execution_count": 33,
     "metadata": {},
     "output_type": "execute_result"
    }
   ],
   "source": [
    "integrate.quad(np.sin,0,2*np.pi)"
   ]
  },
  {
   "cell_type": "markdown",
   "id": "b284796f",
   "metadata": {},
   "source": [
    "\n",
    "#### Integrando equações diferenciais"
   ]
  },
  {
   "cell_type": "code",
   "execution_count": 34,
   "id": "eae9ff8b",
   "metadata": {},
   "outputs": [],
   "source": [
    "def diff_exp(y,t):\n",
    "    return(2*y)"
   ]
  },
  {
   "cell_type": "code",
   "execution_count": 35,
   "id": "97b3c577",
   "metadata": {},
   "outputs": [],
   "source": [
    "t = np.linspace(0, 4, 40)\n",
    "y = integrate.odeint(diff_exp,y0=1,t=t)"
   ]
  },
  {
   "cell_type": "code",
   "execution_count": 36,
   "id": "017d7958",
   "metadata": {},
   "outputs": [
    {
     "data": {
      "text/plain": [
       "[<matplotlib.lines.Line2D at 0x1a869c840d0>]"
      ]
     },
     "execution_count": 36,
     "metadata": {},
     "output_type": "execute_result"
    },
    {
     "data": {
      "image/png": "[encoded data removed]",
      "text/plain": [
       "<Figure size 432x288 with 1 Axes>"
      ]
     },
     "metadata": {
      "needs_background": "light"
     },
     "output_type": "display_data"
    }
   ],
   "source": [
    "plt.semilogy(t,y)"
   ]
  },
  {
   "cell_type": "code",
   "execution_count": 40,
   "id": "d3dfb36f",
   "metadata": {},
   "outputs": [],
   "source": [
    "def diff_osc(ys,t):\n",
    "    return(ys[1],-4*ys[0])"
   ]
  },
  {
   "cell_type": "code",
   "execution_count": 41,
   "id": "5ae24fd2",
   "metadata": {},
   "outputs": [],
   "source": [
    "t = np.linspace(0, 10, 100)\n",
    "ys = integrate.odeint(diff_osc,y0=(0,1),t=t)"
   ]
  },
  {
   "cell_type": "code",
   "execution_count": 42,
   "id": "d0babffa",
   "metadata": {},
   "outputs": [
    {
     "data": {
      "text/plain": [
       "[<matplotlib.lines.Line2D at 0x1a86b016df0>]"
      ]
     },
     "execution_count": 42,
     "metadata": {},
     "output_type": "execute_result"
    },
    {
     "data": {
      "image/png": "[encoded data removed]",
      "text/plain": [
       "<Figure size 432x288 with 1 Axes>"
      ]
     },
     "metadata": {
      "needs_background": "light"
     },
     "output_type": "display_data"
    }
   ],
   "source": [
    "plt.plot(t,ys.T[0])\n",
    "plt.plot(t,ys.T[1])"
   ]
  },
  {
   "cell_type": "code",
   "execution_count": 43,
   "id": "c17cd432",
   "metadata": {},
   "outputs": [],
   "source": [
    "def diff_osc_d(ys,t):\n",
    "    return(ys[1],-4*ys[0]-0.5*ys[1])"
   ]
  },
  {
   "cell_type": "code",
   "execution_count": 44,
   "id": "a055fd05",
   "metadata": {},
   "outputs": [
    {
     "data": {
      "text/plain": [
       "[<matplotlib.lines.Line2D at 0x1a86b07aee0>]"
      ]
     },
     "execution_count": 44,
     "metadata": {},
     "output_type": "execute_result"
    },
    {
     "data": {
      "image/png": "[encoded data removed]",
      "text/plain": [
       "<Figure size 432x288 with 1 Axes>"
      ]
     },
     "metadata": {
      "needs_background": "light"
     },
     "output_type": "display_data"
    }
   ],
   "source": [
    "t = np.linspace(0, 10, 100)\n",
    "ys = integrate.odeint(diff_osc_d,y0=(0,1),t=t)\n",
    "plt.plot(t,ys.T[0])\n",
    "plt.plot(t,ys.T[1])"
   ]
  }
 ],
 "metadata": {
  "kernelspec": {
   "display_name": "Python 3",
   "language": "python",
   "name": "python3"
  },
  "language_info": {
   "codemirror_mode": {
    "name": "ipython",
    "version": 3
   },
   "file_extension": ".py",
   "mimetype": "text/x-python",
   "name": "python",
   "nbconvert_exporter": "python",
   "pygments_lexer": "ipython3",
   "version": "3.8.8"
  }
 },
 "nbformat": 4,
 "nbformat_minor": 5
}
