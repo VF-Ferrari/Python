{
 "cells": [
  {
   "cell_type": "code",
   "execution_count": 1,
   "id": "3b2028dd",
   "metadata": {},
   "outputs": [],
   "source": [
    "import numpy as np\n",
    "import matplotlib.pyplot as plt\n",
    "from scipy import signal"
   ]
  },
  {
   "cell_type": "code",
   "execution_count": 2,
   "id": "a4e47fc5",
   "metadata": {},
   "outputs": [],
   "source": [
    "plt.style.use('seaborn')"
   ]
  },
  {
   "cell_type": "code",
   "execution_count": 3,
   "id": "5cc035cb",
   "metadata": {},
   "outputs": [],
   "source": [
    "def fourier_onda_quadrada(x,n):\n",
    "    m = 2*n-1\n",
    "    f = (4/np.pi)*(1/m)*np.sin(m*np.pi*x/L)\n",
    "    \n",
    "L = np.pi\n",
    "ciclos = 1\n",
    "x = np.linspace(-0.001, 2*ciclos*L,1000)"
   ]
  },
  {
   "cell_type": "code",
   "execution_count": 4,
   "id": "e69e95d9",
   "metadata": {},
   "outputs": [],
   "source": [
    "f = 0\n",
    "n = 1\n",
    "n_total = 5"
   ]
  },
  {
   "cell_type": "code",
   "execution_count": 5,
   "id": "deb10861",
   "metadata": {},
   "outputs": [
    {
     "ename": "SyntaxError",
     "evalue": "invalid syntax (<ipython-input-5-30249d353227>, line 4)",
     "output_type": "error",
     "traceback": [
      "\u001b[1;36m  File \u001b[1;32m\"<ipython-input-5-30249d353227>\"\u001b[1;36m, line \u001b[1;32m4\u001b[0m\n\u001b[1;33m    n += 1\u001b[0m\n\u001b[1;37m    ^\u001b[0m\n\u001b[1;31mSyntaxError\u001b[0m\u001b[1;31m:\u001b[0m invalid syntax\n"
     ]
    }
   ],
   "source": [
    "while n > n_total:\n",
    "    f += fourier_onda_quadrada(x,n)\n",
    "    plt.plot(x,f,label=\"n = {}\".format(2*n-1)\n",
    "             n += 1\n",
    "                 \n",
    "plt.plot(x,signal.square(x), color='k')\n",
    "plt.legend()\n",
    "plt.show()"
   ]
  }
 ],
 "metadata": {
  "kernelspec": {
   "display_name": "Python 3",
   "language": "python",
   "name": "python3"
  },
  "language_info": {
   "codemirror_mode": {
    "name": "ipython",
    "version": 3
   },
   "file_extension": ".py",
   "mimetype": "text/x-python",
   "name": "python",
   "nbconvert_exporter": "python",
   "pygments_lexer": "ipython3",
   "version": "3.8.8"
  }
 },
 "nbformat": 4,
 "nbformat_minor": 5
}
