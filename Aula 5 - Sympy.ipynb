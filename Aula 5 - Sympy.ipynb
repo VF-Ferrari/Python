{
 "cells": [
  {
   "cell_type": "markdown",
   "id": "c02ccf4a",
   "metadata": {},
   "source": [
    "## Sympy: Matemática Simbólica em Python\n",
    "\n",
    "O que é o SymPy? SymPy é uma biblioteca Python para matemática simbólica. Pretende ser uma alternativa a sistemas como Mathematica ou Maple, mantendo o código o mais simples possível e facilmente extensível. O SymPy é escrito inteiramente em Python e não requer nenhuma biblioteca externa."
   ]
  },
  {
   "cell_type": "markdown",
   "id": "e379b6b3",
   "metadata": {},
   "source": [
    "\n",
    "#### Usando o SymPy como uma calculadora"
   ]
  },
  {
   "cell_type": "code",
   "execution_count": 1,
   "id": "974b6038",
   "metadata": {},
   "outputs": [],
   "source": [
    "import sympy as sym"
   ]
  },
  {
   "cell_type": "code",
   "execution_count": 2,
   "id": "e244d905",
   "metadata": {},
   "outputs": [
    {
     "data": {
      "text/latex": [
       "$\\displaystyle \\pi^{2}$"
      ],
      "text/plain": [
       "pi**2"
      ]
     },
     "execution_count": 2,
     "metadata": {},
     "output_type": "execute_result"
    }
   ],
   "source": [
    "sym.pi**2"
   ]
  },
  {
   "cell_type": "code",
   "execution_count": 3,
   "id": "4ae923fa",
   "metadata": {},
   "outputs": [
    {
     "data": {
      "text/latex": [
       "$\\displaystyle \\frac{\\sqrt{2}}{2}$"
      ],
      "text/plain": [
       "sqrt(2)/2"
      ]
     },
     "execution_count": 3,
     "metadata": {},
     "output_type": "execute_result"
    }
   ],
   "source": [
    "sym.cos(sym.pi/4)"
   ]
  },
  {
   "cell_type": "code",
   "execution_count": 4,
   "id": "2ecf6eea",
   "metadata": {},
   "outputs": [
    {
     "data": {
      "text/latex": [
       "$\\displaystyle 0.707106781186548$"
      ],
      "text/plain": [
       "0.707106781186548"
      ]
     },
     "execution_count": 4,
     "metadata": {},
     "output_type": "execute_result"
    }
   ],
   "source": [
    "sym.cos(sym.pi/4).evalf()"
   ]
  },
  {
   "cell_type": "code",
   "execution_count": 5,
   "id": "7b2e543c",
   "metadata": {},
   "outputs": [
    {
     "data": {
      "text/latex": [
       "$\\displaystyle \\text{True}$"
      ],
      "text/plain": [
       "True"
      ]
     },
     "execution_count": 5,
     "metadata": {},
     "output_type": "execute_result"
    }
   ],
   "source": [
    "sym.oo > 1e100"
   ]
  },
  {
   "cell_type": "code",
   "execution_count": 6,
   "id": "cef04755",
   "metadata": {},
   "outputs": [
    {
     "data": {
      "text/latex": [
       "$\\displaystyle \\frac{5}{6}$"
      ],
      "text/plain": [
       "5/6"
      ]
     },
     "execution_count": 6,
     "metadata": {},
     "output_type": "execute_result"
    }
   ],
   "source": [
    "sym.Rational(1,2)+sym.Rational(1,3)"
   ]
  },
  {
   "cell_type": "code",
   "execution_count": 7,
   "id": "c7ec17ab",
   "metadata": {},
   "outputs": [
    {
     "data": {
      "text/latex": [
       "$\\displaystyle 3.141592653589793238462643383279502884197169399375105820974944592307816406286208998628034825342117068$"
      ],
      "text/plain": [
       "3.141592653589793238462643383279502884197169399375105820974944592307816406286208998628034825342117068"
      ]
     },
     "execution_count": 7,
     "metadata": {},
     "output_type": "execute_result"
    }
   ],
   "source": [
    "sym.N(sym.pi,n=100)"
   ]
  },
  {
   "cell_type": "markdown",
   "id": "27d91e09",
   "metadata": {},
   "source": [
    "\n",
    "#### Símbolos"
   ]
  },
  {
   "cell_type": "code",
   "execution_count": 8,
   "id": "b9028a97",
   "metadata": {},
   "outputs": [],
   "source": [
    "x = sym.Symbol('x')\n",
    "y = sym.Symbol('y')"
   ]
  },
  {
   "cell_type": "code",
   "execution_count": 9,
   "id": "95a6b06e",
   "metadata": {},
   "outputs": [
    {
     "data": {
      "text/latex": [
       "$\\displaystyle x + 1$"
      ],
      "text/plain": [
       "x + 1"
      ]
     },
     "execution_count": 9,
     "metadata": {},
     "output_type": "execute_result"
    }
   ],
   "source": [
    "x+1"
   ]
  },
  {
   "cell_type": "code",
   "execution_count": 10,
   "id": "06d569d5",
   "metadata": {},
   "outputs": [],
   "source": [
    "sym.init_printing(use_latex=True)"
   ]
  },
  {
   "cell_type": "code",
   "execution_count": 11,
   "id": "d49c3820",
   "metadata": {},
   "outputs": [
    {
     "data": {
      "image/png": "[encoded data removed]",
      "text/latex": [
       "$\\displaystyle y + 2$"
      ],
      "text/plain": [
       "y + 2"
      ]
     },
     "execution_count": 11,
     "metadata": {},
     "output_type": "execute_result"
    }
   ],
   "source": [
    "x+y-x+2"
   ]
  },
  {
   "cell_type": "markdown",
   "id": "7ee8daf2",
   "metadata": {},
   "source": [
    "\n",
    "#### Expandir"
   ]
  },
  {
   "cell_type": "code",
   "execution_count": 12,
   "id": "7c1a34df",
   "metadata": {},
   "outputs": [
    {
     "data": {
      "image/png": "[encoded data removed]",
      "text/latex": [
       "$\\displaystyle x^{3} + 3 x^{2} y + 3 x y^{2} + y^{3}$"
      ],
      "text/plain": [
       " 3      2          2    3\n",
       "x  + 3⋅x ⋅y + 3⋅x⋅y  + y "
      ]
     },
     "execution_count": 12,
     "metadata": {},
     "output_type": "execute_result"
    }
   ],
   "source": [
    "sym.expand((x + y) ** 3)"
   ]
  },
  {
   "cell_type": "code",
   "execution_count": 13,
   "id": "a15776be",
   "metadata": {},
   "outputs": [
    {
     "data": {
      "image/png": "[encoded data removed]",
      "text/latex": [
       "$\\displaystyle \\sin{\\left(x \\right)} \\cos{\\left(y \\right)} + \\sin{\\left(y \\right)} \\cos{\\left(x \\right)}$"
      ],
      "text/plain": [
       "sin(x)⋅cos(y) + sin(y)⋅cos(x)"
      ]
     },
     "execution_count": 13,
     "metadata": {},
     "output_type": "execute_result"
    }
   ],
   "source": [
    "sym.expand(sym.sin(x + y), trig=True)"
   ]
  },
  {
   "cell_type": "markdown",
   "id": "c7f788f4",
   "metadata": {},
   "source": [
    "\n",
    "#### Simplificar"
   ]
  },
  {
   "cell_type": "code",
   "execution_count": 15,
   "id": "39fcb455",
   "metadata": {},
   "outputs": [
    {
     "data": {
      "image/png": "[encoded data removed]",
      "text/latex": [
       "$\\displaystyle \\tan{\\left(x \\right)}$"
      ],
      "text/plain": [
       "tan(x)"
      ]
     },
     "execution_count": 15,
     "metadata": {},
     "output_type": "execute_result"
    }
   ],
   "source": [
    "sym.simplify(sym.sin(x)/sym.cos(x))"
   ]
  },
  {
   "cell_type": "code",
   "execution_count": 16,
   "id": "62526dee",
   "metadata": {},
   "outputs": [
    {
     "data": {
      "image/png": "[encoded data removed]",
      "text/latex": [
       "$\\displaystyle \\frac{x y + x}{x}$"
      ],
      "text/plain": [
       "x⋅y + x\n",
       "───────\n",
       "   x   "
      ]
     },
     "execution_count": 16,
     "metadata": {},
     "output_type": "execute_result"
    }
   ],
   "source": [
    "(x + x * y) / x"
   ]
  },
  {
   "cell_type": "code",
   "execution_count": 17,
   "id": "68919408",
   "metadata": {},
   "outputs": [
    {
     "data": {
      "image/png": "[encoded data removed]",
      "text/latex": [
       "$\\displaystyle y + 1$"
      ],
      "text/plain": [
       "y + 1"
      ]
     },
     "execution_count": 17,
     "metadata": {},
     "output_type": "execute_result"
    }
   ],
   "source": [
    "sym.simplify((x + x * y) / x)"
   ]
  },
  {
   "cell_type": "markdown",
   "id": "44fec02d",
   "metadata": {},
   "source": [
    "#### Limites"
   ]
  },
  {
   "cell_type": "code",
   "execution_count": 18,
   "id": "7310ede5",
   "metadata": {},
   "outputs": [
    {
     "data": {
      "image/png": "[encoded data removed]",
      "text/latex": [
       "$\\displaystyle 1$"
      ],
      "text/plain": [
       "1"
      ]
     },
     "execution_count": 18,
     "metadata": {},
     "output_type": "execute_result"
    }
   ],
   "source": [
    "sym.limit(sym.sin(x)/x, x, 0)"
   ]
  },
  {
   "cell_type": "code",
   "execution_count": 19,
   "id": "a5c0a3d6",
   "metadata": {},
   "outputs": [
    {
     "data": {
      "image/png": "[encoded data removed]",
      "text/latex": [
       "$\\displaystyle 0$"
      ],
      "text/plain": [
       "0"
      ]
     },
     "execution_count": 19,
     "metadata": {},
     "output_type": "execute_result"
    }
   ],
   "source": [
    "sym.limit(1 / x, x, sym.oo)"
   ]
  },
  {
   "cell_type": "code",
   "execution_count": 20,
   "id": "0759ffac",
   "metadata": {},
   "outputs": [
    {
     "data": {
      "image/png": "[encoded data removed]",
      "text/latex": [
       "$\\displaystyle \\infty$"
      ],
      "text/plain": [
       "∞"
      ]
     },
     "execution_count": 20,
     "metadata": {},
     "output_type": "execute_result"
    }
   ],
   "source": [
    "sym.limit(1 / x, x, 0)"
   ]
  },
  {
   "cell_type": "markdown",
   "id": "d4384faa",
   "metadata": {},
   "source": [
    "\n",
    "#### Diferenciação"
   ]
  },
  {
   "cell_type": "code",
   "execution_count": 21,
   "id": "67801ced",
   "metadata": {},
   "outputs": [
    {
     "data": {
      "image/png": "[encoded data removed]",
      "text/latex": [
       "$\\displaystyle x \\cos{\\left(x \\right)} + \\sin{\\left(x \\right)}$"
      ],
      "text/plain": [
       "x⋅cos(x) + sin(x)"
      ]
     },
     "execution_count": 21,
     "metadata": {},
     "output_type": "execute_result"
    }
   ],
   "source": [
    "sym.diff(x*sym.sin(x), x)"
   ]
  },
  {
   "cell_type": "code",
   "execution_count": 22,
   "id": "d9f91c02",
   "metadata": {},
   "outputs": [
    {
     "data": {
      "image/png": "[encoded data removed]",
      "text/latex": [
       "$\\displaystyle - x \\sin{\\left(x \\right)} + 2 \\cos{\\left(x \\right)}$"
      ],
      "text/plain": [
       "-x⋅sin(x) + 2⋅cos(x)"
      ]
     },
     "execution_count": 22,
     "metadata": {},
     "output_type": "execute_result"
    }
   ],
   "source": [
    "sym.diff(x*sym.sin(x), (x,2))"
   ]
  },
  {
   "cell_type": "code",
   "execution_count": 23,
   "id": "646044ef",
   "metadata": {},
   "outputs": [
    {
     "data": {
      "image/png": "[encoded data removed]",
      "text/latex": [
       "$\\displaystyle - \\cos{\\left(x \\right)} \\cos{\\left(y \\right)}$"
      ],
      "text/plain": [
       "-cos(x)⋅cos(y)"
      ]
     },
     "execution_count": 23,
     "metadata": {},
     "output_type": "execute_result"
    }
   ],
   "source": [
    "sym.diff(sym.sin(x)*sym.cos(y), (x,1),(y,2))"
   ]
  },
  {
   "cell_type": "markdown",
   "id": "262880d9",
   "metadata": {},
   "source": [
    "\n",
    "#### Expansão da série Taylor"
   ]
  },
  {
   "cell_type": "code",
   "execution_count": 24,
   "id": "cc427ac0",
   "metadata": {},
   "outputs": [
    {
     "data": {
      "image/png": "[encoded data removed]",
      "text/latex": [
       "$\\displaystyle 1 - \\frac{x^{2}}{2} + \\frac{x^{4}}{24} + O\\left(x^{6}\\right)$"
      ],
      "text/plain": [
       "     2    4        \n",
       "    x    x     ⎛ 6⎞\n",
       "1 - ── + ── + O⎝x ⎠\n",
       "    2    24        "
      ]
     },
     "execution_count": 24,
     "metadata": {},
     "output_type": "execute_result"
    }
   ],
   "source": [
    "sym.series(sym.cos(x), x)"
   ]
  },
  {
   "cell_type": "code",
   "execution_count": 25,
   "id": "b5bacb31",
   "metadata": {},
   "outputs": [
    {
     "data": {
      "image/png": "[encoded data removed]",
      "text/latex": [
       "$\\displaystyle 1 - \\frac{x^{2}}{2} + \\frac{x^{4}}{24} - \\frac{x^{6}}{720} + \\frac{x^{8}}{40320} + O\\left(x^{10}\\right)$"
      ],
      "text/plain": [
       "     2    4     6      8          \n",
       "    x    x     x      x      ⎛ 10⎞\n",
       "1 - ── + ── - ─── + ───── + O⎝x  ⎠\n",
       "    2    24   720   40320         "
      ]
     },
     "execution_count": 25,
     "metadata": {},
     "output_type": "execute_result"
    }
   ],
   "source": [
    "sym.series(sym.cos(x), x,n=10)"
   ]
  },
  {
   "cell_type": "code",
   "execution_count": 26,
   "id": "faff39b0",
   "metadata": {},
   "outputs": [
    {
     "data": {
      "image/png": "[encoded data removed]",
      "text/latex": [
       "$\\displaystyle \\cos{\\left(1 \\right)} - \\left(x - 1\\right) \\sin{\\left(1 \\right)} - \\frac{\\left(x - 1\\right)^{2} \\cos{\\left(1 \\right)}}{2} + \\frac{\\left(x - 1\\right)^{3} \\sin{\\left(1 \\right)}}{6} + \\frac{\\left(x - 1\\right)^{4} \\cos{\\left(1 \\right)}}{24} - \\frac{\\left(x - 1\\right)^{5} \\sin{\\left(1 \\right)}}{120} + O\\left(\\left(x - 1\\right)^{6}; x\\rightarrow 1\\right)$"
      ],
      "text/plain": [
       "                                 2                 3                 4        \n",
       "                          (x - 1) ⋅cos(1)   (x - 1) ⋅sin(1)   (x - 1) ⋅cos(1) \n",
       "cos(1) - (x - 1)⋅sin(1) - ─────────────── + ─────────────── + ─────────────── \n",
       "                                 2                 6                 24       \n",
       "\n",
       "         5                            \n",
       "  (x - 1) ⋅sin(1)    ⎛       6       ⎞\n",
       "- ─────────────── + O⎝(x - 1) ; x → 1⎠\n",
       "        120                           "
      ]
     },
     "execution_count": 26,
     "metadata": {},
     "output_type": "execute_result"
    }
   ],
   "source": [
    "sym.series(sym.cos(x), x, x0=1)"
   ]
  },
  {
   "cell_type": "markdown",
   "id": "cffbe493",
   "metadata": {},
   "source": [
    "\n",
    "#### Integração"
   ]
  },
  {
   "cell_type": "code",
   "execution_count": 27,
   "id": "32f9d61f",
   "metadata": {},
   "outputs": [
    {
     "data": {
      "image/png": "[encoded data removed]",
      "text/latex": [
       "$\\displaystyle \\frac{x^{6}}{6}$"
      ],
      "text/plain": [
       " 6\n",
       "x \n",
       "──\n",
       "6 "
      ]
     },
     "execution_count": 27,
     "metadata": {},
     "output_type": "execute_result"
    }
   ],
   "source": [
    "sym.integrate(x**5, x)"
   ]
  },
  {
   "cell_type": "code",
   "execution_count": 28,
   "id": "e430d373",
   "metadata": {},
   "outputs": [
    {
     "data": {
      "image/png": "[encoded data removed]",
      "text/latex": [
       "$\\displaystyle - \\cos{\\left(x \\right)}$"
      ],
      "text/plain": [
       "-cos(x)"
      ]
     },
     "execution_count": 28,
     "metadata": {},
     "output_type": "execute_result"
    }
   ],
   "source": [
    "sym.integrate(sym.sin(x), x)"
   ]
  },
  {
   "cell_type": "code",
   "execution_count": 29,
   "id": "41304bc4",
   "metadata": {},
   "outputs": [
    {
     "data": {
      "image/png": "[encoded data removed]",
      "text/latex": [
       "$\\displaystyle \\sqrt{\\pi}$"
      ],
      "text/plain": [
       "√π"
      ]
     },
     "execution_count": 29,
     "metadata": {},
     "output_type": "execute_result"
    }
   ],
   "source": [
    "sym.integrate(sym.exp(-x**2), (x,-sym.oo,sym.oo))"
   ]
  },
  {
   "cell_type": "code",
   "execution_count": 30,
   "id": "84881a53",
   "metadata": {},
   "outputs": [
    {
     "data": {
      "image/png": "[encoded data removed]",
      "text/latex": [
       "$\\displaystyle 0$"
      ],
      "text/plain": [
       "0"
      ]
     },
     "execution_count": 30,
     "metadata": {},
     "output_type": "execute_result"
    }
   ],
   "source": [
    "sym.integrate(x*sym.exp(-x**2), (x,-sym.oo,sym.oo))"
   ]
  },
  {
   "cell_type": "code",
   "execution_count": 31,
   "id": "8bbfbafd",
   "metadata": {},
   "outputs": [
    {
     "data": {
      "image/png": "[encoded data removed]",
      "text/latex": [
       "$\\displaystyle \\frac{\\sqrt{\\pi}}{2}$"
      ],
      "text/plain": [
       "√π\n",
       "──\n",
       "2 "
      ]
     },
     "execution_count": 31,
     "metadata": {},
     "output_type": "execute_result"
    }
   ],
   "source": [
    "sym.integrate(x**2*sym.exp(-x**2), (x,-sym.oo,sym.oo))"
   ]
  },
  {
   "cell_type": "code",
   "execution_count": 32,
   "id": "68052099",
   "metadata": {},
   "outputs": [
    {
     "data": {
      "text/latex": [
       "$\\displaystyle \\begin{cases} \\frac{\\left(-1\\right)^{y} \\Gamma\\left(\\frac{y}{2} + \\frac{1}{2}\\right)}{2} + \\frac{\\Gamma\\left(\\frac{y}{2} + \\frac{1}{2}\\right)}{2} & \\text{for}\\: \\frac{\\operatorname{re}{\\left(y\\right)}}{2} - \\frac{1}{2} > -1 \\\\\\int\\limits_{-\\infty}^{\\infty} x^{y} e^{- x^{2}}\\, dx & \\text{otherwise} \\end{cases}$"
      ],
      "text/plain": [
       "⎧    y  ⎛y   1⎞    ⎛y   1⎞                    \n",
       "⎪(-1) ⋅Γ⎜─ + ─⎟   Γ⎜─ + ─⎟                    \n",
       "⎪       ⎝2   2⎠    ⎝2   2⎠      re(y)   1     \n",
       "⎪────────────── + ────────  for ───── - ─ > -1\n",
       "⎪      2             2            2     2     \n",
       "⎪                                             \n",
       "⎨      ∞                                      \n",
       "⎪      ⌠                                      \n",
       "⎪      ⎮        2                             \n",
       "⎪      ⎮   y  -x                              \n",
       "⎪      ⎮  x ⋅ℯ    dx            otherwise     \n",
       "⎪      ⌡                                      \n",
       "⎩      -∞                                     "
      ]
     },
     "execution_count": 32,
     "metadata": {},
     "output_type": "execute_result"
    }
   ],
   "source": [
    "sym.integrate(x**y*sym.exp(-x**2), (x,-sym.oo,sym.oo))"
   ]
  },
  {
   "cell_type": "code",
   "execution_count": 33,
   "id": "1c7c489d",
   "metadata": {},
   "outputs": [
    {
     "data": {
      "image/png": "[encoded data removed]",
      "text/latex": [
       "$\\displaystyle 0$"
      ],
      "text/plain": [
       "0"
      ]
     },
     "execution_count": 33,
     "metadata": {},
     "output_type": "execute_result"
    }
   ],
   "source": [
    "sym.integrate(x**3, (x, -1, 1))"
   ]
  },
  {
   "cell_type": "markdown",
   "id": "8e111912",
   "metadata": {},
   "source": [
    "\n",
    "#### Resolução de equações"
   ]
  },
  {
   "cell_type": "code",
   "execution_count": 34,
   "id": "4151fcf6",
   "metadata": {},
   "outputs": [
    {
     "data": {
      "image/png": "[encoded data removed]",
      "text/latex": [
       "$\\displaystyle \\left\\{-1, 1, - i, i\\right\\}$"
      ],
      "text/plain": [
       "{-1, 1, -ⅈ, ⅈ}"
      ]
     },
     "execution_count": 34,
     "metadata": {},
     "output_type": "execute_result"
    }
   ],
   "source": [
    "sym.solveset(x ** 4 - 1, x)"
   ]
  },
  {
   "cell_type": "code",
   "execution_count": 35,
   "id": "f5e16a1f",
   "metadata": {},
   "outputs": [
    {
     "data": {
      "image/png": "[encoded data removed]",
      "text/latex": [
       "$\\displaystyle \\left\\{ x : -3, \\  y : 1\\right\\}$"
      ],
      "text/plain": [
       "{x: -3, y: 1}"
      ]
     },
     "execution_count": 35,
     "metadata": {},
     "output_type": "execute_result"
    }
   ],
   "source": [
    "sym.solve((x + 5 * y - 2, -3 * x + 6 * y - 15), (x, y))"
   ]
  },
  {
   "cell_type": "code",
   "execution_count": 36,
   "id": "ae7823ff",
   "metadata": {},
   "outputs": [
    {
     "data": {
      "text/latex": [
       "$\\displaystyle \\left[\\begin{matrix}1 & 0\\\\0 & 1\\end{matrix}\\right]$"
      ],
      "text/plain": [
       "⎡1  0⎤\n",
       "⎢    ⎥\n",
       "⎣0  1⎦"
      ]
     },
     "execution_count": 36,
     "metadata": {},
     "output_type": "execute_result"
    }
   ],
   "source": [
    "sym.Matrix([[1, 0], [0, 1]])"
   ]
  },
  {
   "cell_type": "code",
   "execution_count": 37,
   "id": "61bf37fc",
   "metadata": {},
   "outputs": [],
   "source": [
    "A = sym.Matrix([[1, x], [y, 1]])"
   ]
  },
  {
   "cell_type": "code",
   "execution_count": 38,
   "id": "e91879ee",
   "metadata": {},
   "outputs": [
    {
     "data": {
      "text/latex": [
       "$\\displaystyle \\left[\\begin{matrix}1 & x\\\\y & 1\\end{matrix}\\right]$"
      ],
      "text/plain": [
       "⎡1  x⎤\n",
       "⎢    ⎥\n",
       "⎣y  1⎦"
      ]
     },
     "execution_count": 38,
     "metadata": {},
     "output_type": "execute_result"
    }
   ],
   "source": [
    "A"
   ]
  },
  {
   "cell_type": "code",
   "execution_count": 39,
   "id": "5bdbb548",
   "metadata": {},
   "outputs": [
    {
     "data": {
      "text/latex": [
       "$\\displaystyle \\left[\\begin{matrix}3 x y + 1 & x^{2} y + 3 x\\\\x y^{2} + 3 y & 3 x y + 1\\end{matrix}\\right]$"
      ],
      "text/plain": [
       "⎡             2        ⎤\n",
       "⎢3⋅x⋅y + 1   x ⋅y + 3⋅x⎥\n",
       "⎢                      ⎥\n",
       "⎢   2                  ⎥\n",
       "⎣x⋅y  + 3⋅y  3⋅x⋅y + 1 ⎦"
      ]
     },
     "execution_count": 39,
     "metadata": {},
     "output_type": "execute_result"
    }
   ],
   "source": [
    "A**3"
   ]
  },
  {
   "cell_type": "markdown",
   "id": "fa79de3e",
   "metadata": {},
   "source": [
    "\n",
    "#### Equações diferenciais"
   ]
  },
  {
   "cell_type": "code",
   "execution_count": 40,
   "id": "62dd2abb",
   "metadata": {},
   "outputs": [],
   "source": [
    "f, g = sym.symbols('f g', cls=sym.Function)"
   ]
  },
  {
   "cell_type": "code",
   "execution_count": 41,
   "id": "ec0f561b",
   "metadata": {},
   "outputs": [
    {
     "data": {
      "image/png": "[encoded data removed]",
      "text/latex": [
       "$\\displaystyle \\left( f{\\left(x \\right)}, \\  g{\\left(x \\right)}\\right)$"
      ],
      "text/plain": [
       "(f(x), g(x))"
      ]
     },
     "execution_count": 41,
     "metadata": {},
     "output_type": "execute_result"
    }
   ],
   "source": [
    "f(x), g(x)"
   ]
  },
  {
   "cell_type": "code",
   "execution_count": 42,
   "id": "21aafe33",
   "metadata": {},
   "outputs": [
    {
     "data": {
      "image/png": "[encoded data removed]",
      "text/latex": [
       "$\\displaystyle f{\\left(x \\right)} + \\frac{d^{2}}{d x^{2}} f{\\left(x \\right)}$"
      ],
      "text/plain": [
       "         2      \n",
       "        d       \n",
       "f(x) + ───(f(x))\n",
       "         2      \n",
       "       dx       "
      ]
     },
     "execution_count": 42,
     "metadata": {},
     "output_type": "execute_result"
    }
   ],
   "source": [
    "f(x).diff((x,2)) + f(x)"
   ]
  },
  {
   "cell_type": "code",
   "execution_count": 43,
   "id": "fa73a0a8",
   "metadata": {},
   "outputs": [
    {
     "data": {
      "image/png": "[encoded data removed]",
      "text/latex": [
       "$\\displaystyle f{\\left(x \\right)} = C_{1} \\sin{\\left(x \\right)} + C_{2} \\cos{\\left(x \\right)}$"
      ],
      "text/plain": [
       "f(x) = C₁⋅sin(x) + C₂⋅cos(x)"
      ]
     },
     "execution_count": 43,
     "metadata": {},
     "output_type": "execute_result"
    }
   ],
   "source": [
    "sym.dsolve(f(x).diff((x,2)) + f(x), f(x))"
   ]
  },
  {
   "cell_type": "markdown",
   "id": "9d55dc02",
   "metadata": {},
   "source": [
    "\n",
    "#### `lambdify`\n",
    "Retorna uma função anônima para cálculo rápido de valores numéricos."
   ]
  },
  {
   "cell_type": "code",
   "execution_count": 45,
   "id": "570a4148",
   "metadata": {},
   "outputs": [],
   "source": [
    "import numpy as np"
   ]
  },
  {
   "cell_type": "code",
   "execution_count": 46,
   "id": "6e40ad39",
   "metadata": {},
   "outputs": [],
   "source": [
    "from sympy.abc import x,y"
   ]
  },
  {
   "cell_type": "code",
   "execution_count": 47,
   "id": "fcad6901",
   "metadata": {},
   "outputs": [],
   "source": [
    "f_complicated = sym.diff(x*sym.cos(x)-x)"
   ]
  },
  {
   "cell_type": "code",
   "execution_count": 48,
   "id": "8b42f8be",
   "metadata": {},
   "outputs": [],
   "source": [
    "f_np = sym.lambdify(x,f_complicated)"
   ]
  },
  {
   "cell_type": "code",
   "execution_count": 49,
   "id": "17e7c3c6",
   "metadata": {},
   "outputs": [
    {
     "data": {
      "image/png": "[encoded data removed]",
      "text/latex": [
       "$\\displaystyle -0.0149791763866571$"
      ],
      "text/plain": [
       "-0.0149791763866571"
      ]
     },
     "execution_count": 49,
     "metadata": {},
     "output_type": "execute_result"
    }
   ],
   "source": [
    "f_complicated.subs(x,0.1).evalf()"
   ]
  },
  {
   "cell_type": "code",
   "execution_count": 50,
   "id": "75c2536b",
   "metadata": {},
   "outputs": [
    {
     "data": {
      "image/png": "[encoded data removed]",
      "text/latex": [
       "$\\displaystyle -0.014979176386657$"
      ],
      "text/plain": [
       "-0.014979176386657023"
      ]
     },
     "execution_count": 50,
     "metadata": {},
     "output_type": "execute_result"
    }
   ],
   "source": [
    "f_np(0.1)"
   ]
  }
 ],
 "metadata": {
  "kernelspec": {
   "display_name": "Python 3",
   "language": "python",
   "name": "python3"
  },
  "language_info": {
   "codemirror_mode": {
    "name": "ipython",
    "version": 3
   },
   "file_extension": ".py",
   "mimetype": "text/x-python",
   "name": "python",
   "nbconvert_exporter": "python",
   "pygments_lexer": "ipython3",
   "version": "3.8.8"
  }
 },
 "nbformat": 4,
 "nbformat_minor": 5
}
